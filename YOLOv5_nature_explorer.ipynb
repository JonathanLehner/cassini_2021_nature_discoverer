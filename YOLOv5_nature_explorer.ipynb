{
  "nbformat": 4,
  "nbformat_minor": 0,
  "metadata": {
    "colab": {
      "name": "YOLOv5 nature explorer",
      "provenance": [],
      "collapsed_sections": [],
      "toc_visible": true
    },
    "kernelspec": {
      "name": "python3",
      "display_name": "Python 3"
    },
    "accelerator": "GPU"
  },
  "cells": [
    {
      "cell_type": "markdown",
      "metadata": {
        "id": "2O11pzxpzUMH"
      },
      "source": [
        "with https://github.com/neuralmagic/sparseml and https://github.com/neuralmagic/sparseml/tree/main/integrations/ultralytics-yolov5"
      ]
    },
    {
      "cell_type": "markdown",
      "metadata": {
        "id": "7mGmQbAO5pQb"
      },
      "source": [
        "# Setup\n",
        "\n",
        "Clone repo, install dependencies and check PyTorch and GPU."
      ]
    },
    {
      "cell_type": "code",
      "metadata": {
        "colab": {
          "base_uri": "https://localhost:8080/"
        },
        "id": "NCAeXbmfzRc2",
        "outputId": "1d308e71-96a0-4473-8e4d-4f01f5a698f4"
      },
      "source": [
        "!git clone https://github.com/neuralmagic/sparseml # clone repo\n",
        "%cd /content/sparseml/integrations/ultralytics-yolov5\n",
        "!pwd\n",
        "!bash setup_integration.sh"
      ],
      "execution_count": null,
      "outputs": [
        {
          "output_type": "stream",
          "text": [
            "Cloning into 'sparseml'...\n",
            "remote: Enumerating objects: 9436, done.\u001b[K\n",
            "remote: Counting objects: 100% (1561/1561), done.\u001b[K\n",
            "remote: Compressing objects: 100% (655/655), done.\u001b[K\n",
            "remote: Total 9436 (delta 1115), reused 1149 (delta 876), pack-reused 7875\u001b[K\n",
            "Receiving objects: 100% (9436/9436), 10.62 MiB | 30.45 MiB/s, done.\n",
            "Resolving deltas: 100% (6449/6449), done.\n",
            "/content/sparseml/integrations/ultralytics-yolov5\n",
            "/content/sparseml/integrations/ultralytics-yolov5\n",
            "Cloning into 'yolov5'...\n",
            "remote: Enumerating objects: 6349, done.\u001b[K\n",
            "remote: Counting objects: 100% (15/15), done.\u001b[K\n",
            "remote: Compressing objects: 100% (13/13), done.\u001b[K\n",
            "remote: Total 6349 (delta 4), reused 8 (delta 2), pack-reused 6334\u001b[K\n",
            "Receiving objects: 100% (6349/6349), 8.58 MiB | 34.44 MiB/s, done.\n",
            "Resolving deltas: 100% (4339/4339), done.\n",
            "Requirement already satisfied: matplotlib>=3.2.2 in /usr/local/lib/python3.7/dist-packages (from -r yolov5/requirements.txt (line 4)) (3.2.2)\n",
            "Requirement already satisfied: numpy>=1.18.5 in /usr/local/lib/python3.7/dist-packages (from -r yolov5/requirements.txt (line 5)) (1.19.5)\n",
            "Requirement already satisfied: opencv-python>=4.1.2 in /usr/local/lib/python3.7/dist-packages (from -r yolov5/requirements.txt (line 6)) (4.1.2.30)\n",
            "Requirement already satisfied: Pillow in /usr/local/lib/python3.7/dist-packages (from -r yolov5/requirements.txt (line 7)) (7.1.2)\n",
            "Collecting PyYAML>=5.3.1\n",
            "\u001b[?25l  Downloading https://files.pythonhosted.org/packages/7a/a5/393c087efdc78091afa2af9f1378762f9821c9c1d7a22c5753fb5ac5f97a/PyYAML-5.4.1-cp37-cp37m-manylinux1_x86_64.whl (636kB)\n",
            "\u001b[K     |████████████████████████████████| 645kB 28.5MB/s \n",
            "\u001b[?25hRequirement already satisfied: scipy>=1.4.1 in /usr/local/lib/python3.7/dist-packages (from -r yolov5/requirements.txt (line 9)) (1.4.1)\n",
            "Collecting torch~=1.7.0\n",
            "\u001b[?25l  Downloading https://files.pythonhosted.org/packages/90/5d/095ddddc91c8a769a68c791c019c5793f9c4456a688ddd235d6670924ecb/torch-1.7.1-cp37-cp37m-manylinux1_x86_64.whl (776.8MB)\n",
            "\u001b[K     |████████████████████████████████| 776.8MB 24kB/s \n",
            "\u001b[?25hRequirement already satisfied: torchvision>=0.8.1 in /usr/local/lib/python3.7/dist-packages (from -r yolov5/requirements.txt (line 11)) (0.10.0+cu102)\n",
            "Requirement already satisfied: tqdm>=4.41.0 in /usr/local/lib/python3.7/dist-packages (from -r yolov5/requirements.txt (line 12)) (4.41.1)\n",
            "Requirement already satisfied: tensorboard>=2.4.1 in /usr/local/lib/python3.7/dist-packages (from -r yolov5/requirements.txt (line 15)) (2.5.0)\n",
            "Requirement already satisfied: seaborn>=0.11.0 in /usr/local/lib/python3.7/dist-packages (from -r yolov5/requirements.txt (line 19)) (0.11.1)\n",
            "Requirement already satisfied: pandas in /usr/local/lib/python3.7/dist-packages (from -r yolov5/requirements.txt (line 20)) (1.1.5)\n",
            "Requirement already satisfied: pycocotools>=2.0 in /usr/local/lib/python3.7/dist-packages (from -r yolov5/requirements.txt (line 29)) (2.0.2)\n",
            "Collecting sparseml==0.3.1\n",
            "\u001b[?25l  Downloading https://files.pythonhosted.org/packages/fa/43/afa2bb11464b9f850049116e42d1159050ba7be3bd1de005e72e39728eb0/sparseml-0.3.1-py3-none-any.whl (518kB)\n",
            "\u001b[K     |████████████████████████████████| 522kB 41.9MB/s \n",
            "\u001b[?25hCollecting thop\n",
            "  Downloading https://files.pythonhosted.org/packages/6c/8b/22ce44e1c71558161a8bd54471123cc796589c7ebbfc15a7e8932e522f83/thop-0.0.31.post2005241907-py3-none-any.whl\n",
            "Requirement already satisfied: pyparsing!=2.0.4,!=2.1.2,!=2.1.6,>=2.0.1 in /usr/local/lib/python3.7/dist-packages (from matplotlib>=3.2.2->-r yolov5/requirements.txt (line 4)) (2.4.7)\n",
            "Requirement already satisfied: kiwisolver>=1.0.1 in /usr/local/lib/python3.7/dist-packages (from matplotlib>=3.2.2->-r yolov5/requirements.txt (line 4)) (1.3.1)\n",
            "Requirement already satisfied: cycler>=0.10 in /usr/local/lib/python3.7/dist-packages (from matplotlib>=3.2.2->-r yolov5/requirements.txt (line 4)) (0.10.0)\n",
            "Requirement already satisfied: python-dateutil>=2.1 in /usr/local/lib/python3.7/dist-packages (from matplotlib>=3.2.2->-r yolov5/requirements.txt (line 4)) (2.8.1)\n",
            "Requirement already satisfied: typing-extensions in /usr/local/lib/python3.7/dist-packages (from torch~=1.7.0->-r yolov5/requirements.txt (line 10)) (3.7.4.3)\n",
            "Requirement already satisfied: setuptools>=41.0.0 in /usr/local/lib/python3.7/dist-packages (from tensorboard>=2.4.1->-r yolov5/requirements.txt (line 15)) (57.0.0)\n",
            "Requirement already satisfied: wheel>=0.26; python_version >= \"3\" in /usr/local/lib/python3.7/dist-packages (from tensorboard>=2.4.1->-r yolov5/requirements.txt (line 15)) (0.36.2)\n",
            "Requirement already satisfied: google-auth<2,>=1.6.3 in /usr/local/lib/python3.7/dist-packages (from tensorboard>=2.4.1->-r yolov5/requirements.txt (line 15)) (1.31.0)\n",
            "Requirement already satisfied: markdown>=2.6.8 in /usr/local/lib/python3.7/dist-packages (from tensorboard>=2.4.1->-r yolov5/requirements.txt (line 15)) (3.3.4)\n",
            "Requirement already satisfied: protobuf>=3.6.0 in /usr/local/lib/python3.7/dist-packages (from tensorboard>=2.4.1->-r yolov5/requirements.txt (line 15)) (3.12.4)\n",
            "Requirement already satisfied: grpcio>=1.24.3 in /usr/local/lib/python3.7/dist-packages (from tensorboard>=2.4.1->-r yolov5/requirements.txt (line 15)) (1.34.1)\n",
            "Requirement already satisfied: google-auth-oauthlib<0.5,>=0.4.1 in /usr/local/lib/python3.7/dist-packages (from tensorboard>=2.4.1->-r yolov5/requirements.txt (line 15)) (0.4.4)\n",
            "Requirement already satisfied: requests<3,>=2.21.0 in /usr/local/lib/python3.7/dist-packages (from tensorboard>=2.4.1->-r yolov5/requirements.txt (line 15)) (2.23.0)\n",
            "Requirement already satisfied: tensorboard-plugin-wit>=1.6.0 in /usr/local/lib/python3.7/dist-packages (from tensorboard>=2.4.1->-r yolov5/requirements.txt (line 15)) (1.8.0)\n",
            "Requirement already satisfied: tensorboard-data-server<0.7.0,>=0.6.0 in /usr/local/lib/python3.7/dist-packages (from tensorboard>=2.4.1->-r yolov5/requirements.txt (line 15)) (0.6.1)\n",
            "Requirement already satisfied: werkzeug>=0.11.15 in /usr/local/lib/python3.7/dist-packages (from tensorboard>=2.4.1->-r yolov5/requirements.txt (line 15)) (1.0.1)\n",
            "Requirement already satisfied: absl-py>=0.4 in /usr/local/lib/python3.7/dist-packages (from tensorboard>=2.4.1->-r yolov5/requirements.txt (line 15)) (0.12.0)\n",
            "Requirement already satisfied: pytz>=2017.2 in /usr/local/lib/python3.7/dist-packages (from pandas->-r yolov5/requirements.txt (line 20)) (2018.9)\n",
            "Requirement already satisfied: cython>=0.27.3 in /usr/local/lib/python3.7/dist-packages (from pycocotools>=2.0->-r yolov5/requirements.txt (line 29)) (0.29.23)\n",
            "Requirement already satisfied: jupyter>=1.0.0 in /usr/local/lib/python3.7/dist-packages (from sparseml==0.3.1->-r yolov5/requirements.txt (line 30)) (1.0.0)\n",
            "Requirement already satisfied: ipywidgets>=7.0.0 in /usr/local/lib/python3.7/dist-packages (from sparseml==0.3.1->-r yolov5/requirements.txt (line 30)) (7.6.3)\n",
            "Collecting onnx<1.8.0,>=1.5.0\n",
            "\u001b[?25l  Downloading https://files.pythonhosted.org/packages/d9/fb/3193df06e0feae7884d25e11e41b410ecd3c0a17445b941767c772dc8cf7/onnx-1.7.0-cp37-cp37m-manylinux1_x86_64.whl (7.4MB)\n",
            "\u001b[K     |████████████████████████████████| 7.4MB 47.1MB/s \n",
            "\u001b[?25hRequirement already satisfied: scikit-image>=0.15.0 in /usr/local/lib/python3.7/dist-packages (from sparseml==0.3.1->-r yolov5/requirements.txt (line 30)) (0.16.2)\n",
            "Collecting sparsezoo~=0.3\n",
            "\u001b[?25l  Downloading https://files.pythonhosted.org/packages/92/0b/92c0bfb289c8a2951fd593744c583c8510c388b0da6d80e35b7ca10fff10/sparsezoo-0.4.0-py3-none-any.whl (80kB)\n",
            "\u001b[K     |████████████████████████████████| 81kB 11.1MB/s \n",
            "\u001b[?25hCollecting toposort>=1.0\n",
            "  Downloading https://files.pythonhosted.org/packages/f2/7d/55784e894ee0cde2474fb977ffd1651e74e840a9f92e1d847f7e3115d5ec/toposort-1.6-py2.py3-none-any.whl\n",
            "Requirement already satisfied: progressbar2>=3.0.0 in /usr/local/lib/python3.7/dist-packages (from sparseml==0.3.1->-r yolov5/requirements.txt (line 30)) (3.38.0)\n",
            "Collecting onnxruntime>=1.0.0\n",
            "\u001b[?25l  Downloading https://files.pythonhosted.org/packages/f9/76/3d0f8bb2776961c7335693df06eccf8d099e48fa6fb552c7546867192603/onnxruntime-1.8.0-cp37-cp37m-manylinux_2_17_x86_64.manylinux2014_x86_64.whl (4.5MB)\n",
            "\u001b[K     |████████████████████████████████| 4.5MB 45.5MB/s \n",
            "\u001b[?25hRequirement already satisfied: packaging>=20.0 in /usr/local/lib/python3.7/dist-packages (from sparseml==0.3.1->-r yolov5/requirements.txt (line 30)) (20.9)\n",
            "Collecting pydantic>=1.0.0\n",
            "\u001b[?25l  Downloading https://files.pythonhosted.org/packages/9f/f2/2d5425efe57f6c4e06cbe5e587c1fd16929dcf0eb90bd4d3d1e1c97d1151/pydantic-1.8.2-cp37-cp37m-manylinux2014_x86_64.whl (10.1MB)\n",
            "\u001b[K     |████████████████████████████████| 10.1MB 38.7MB/s \n",
            "\u001b[?25hCollecting merge-args>=0.1.0\n",
            "  Downloading https://files.pythonhosted.org/packages/66/08/01c1c93b66e1e4216bf654751a179904f37684bbeccaffd3970a1666374e/merge_args-0.1.4-py2.py3-none-any.whl\n",
            "Requirement already satisfied: psutil>=5.0.0 in /usr/local/lib/python3.7/dist-packages (from sparseml==0.3.1->-r yolov5/requirements.txt (line 30)) (5.4.8)\n",
            "Requirement already satisfied: six in /usr/local/lib/python3.7/dist-packages (from cycler>=0.10->matplotlib>=3.2.2->-r yolov5/requirements.txt (line 4)) (1.15.0)\n",
            "Requirement already satisfied: rsa<5,>=3.1.4; python_version >= \"3.6\" in /usr/local/lib/python3.7/dist-packages (from google-auth<2,>=1.6.3->tensorboard>=2.4.1->-r yolov5/requirements.txt (line 15)) (4.7.2)\n",
            "Requirement already satisfied: pyasn1-modules>=0.2.1 in /usr/local/lib/python3.7/dist-packages (from google-auth<2,>=1.6.3->tensorboard>=2.4.1->-r yolov5/requirements.txt (line 15)) (0.2.8)\n",
            "Requirement already satisfied: cachetools<5.0,>=2.0.0 in /usr/local/lib/python3.7/dist-packages (from google-auth<2,>=1.6.3->tensorboard>=2.4.1->-r yolov5/requirements.txt (line 15)) (4.2.2)\n",
            "Requirement already satisfied: importlib-metadata; python_version < \"3.8\" in /usr/local/lib/python3.7/dist-packages (from markdown>=2.6.8->tensorboard>=2.4.1->-r yolov5/requirements.txt (line 15)) (4.5.0)\n",
            "Requirement already satisfied: requests-oauthlib>=0.7.0 in /usr/local/lib/python3.7/dist-packages (from google-auth-oauthlib<0.5,>=0.4.1->tensorboard>=2.4.1->-r yolov5/requirements.txt (line 15)) (1.3.0)\n",
            "Requirement already satisfied: urllib3!=1.25.0,!=1.25.1,<1.26,>=1.21.1 in /usr/local/lib/python3.7/dist-packages (from requests<3,>=2.21.0->tensorboard>=2.4.1->-r yolov5/requirements.txt (line 15)) (1.24.3)\n",
            "Requirement already satisfied: idna<3,>=2.5 in /usr/local/lib/python3.7/dist-packages (from requests<3,>=2.21.0->tensorboard>=2.4.1->-r yolov5/requirements.txt (line 15)) (2.10)\n",
            "Requirement already satisfied: chardet<4,>=3.0.2 in /usr/local/lib/python3.7/dist-packages (from requests<3,>=2.21.0->tensorboard>=2.4.1->-r yolov5/requirements.txt (line 15)) (3.0.4)\n",
            "Requirement already satisfied: certifi>=2017.4.17 in /usr/local/lib/python3.7/dist-packages (from requests<3,>=2.21.0->tensorboard>=2.4.1->-r yolov5/requirements.txt (line 15)) (2021.5.30)\n",
            "Requirement already satisfied: qtconsole in /usr/local/lib/python3.7/dist-packages (from jupyter>=1.0.0->sparseml==0.3.1->-r yolov5/requirements.txt (line 30)) (5.1.0)\n",
            "Requirement already satisfied: ipykernel in /usr/local/lib/python3.7/dist-packages (from jupyter>=1.0.0->sparseml==0.3.1->-r yolov5/requirements.txt (line 30)) (4.10.1)\n",
            "Requirement already satisfied: nbconvert in /usr/local/lib/python3.7/dist-packages (from jupyter>=1.0.0->sparseml==0.3.1->-r yolov5/requirements.txt (line 30)) (5.6.1)\n",
            "Requirement already satisfied: notebook in /usr/local/lib/python3.7/dist-packages (from jupyter>=1.0.0->sparseml==0.3.1->-r yolov5/requirements.txt (line 30)) (5.3.1)\n",
            "Requirement already satisfied: jupyter-console in /usr/local/lib/python3.7/dist-packages (from jupyter>=1.0.0->sparseml==0.3.1->-r yolov5/requirements.txt (line 30)) (5.2.0)\n",
            "Requirement already satisfied: ipython>=4.0.0; python_version >= \"3.3\" in /usr/local/lib/python3.7/dist-packages (from ipywidgets>=7.0.0->sparseml==0.3.1->-r yolov5/requirements.txt (line 30)) (5.5.0)\n",
            "Requirement already satisfied: widgetsnbextension~=3.5.0 in /usr/local/lib/python3.7/dist-packages (from ipywidgets>=7.0.0->sparseml==0.3.1->-r yolov5/requirements.txt (line 30)) (3.5.1)\n",
            "Requirement already satisfied: nbformat>=4.2.0 in /usr/local/lib/python3.7/dist-packages (from ipywidgets>=7.0.0->sparseml==0.3.1->-r yolov5/requirements.txt (line 30)) (5.1.3)\n",
            "Requirement already satisfied: traitlets>=4.3.1 in /usr/local/lib/python3.7/dist-packages (from ipywidgets>=7.0.0->sparseml==0.3.1->-r yolov5/requirements.txt (line 30)) (5.0.5)\n",
            "Requirement already satisfied: jupyterlab-widgets>=1.0.0; python_version >= \"3.6\" in /usr/local/lib/python3.7/dist-packages (from ipywidgets>=7.0.0->sparseml==0.3.1->-r yolov5/requirements.txt (line 30)) (1.0.0)\n",
            "Requirement already satisfied: networkx>=2.0 in /usr/local/lib/python3.7/dist-packages (from scikit-image>=0.15.0->sparseml==0.3.1->-r yolov5/requirements.txt (line 30)) (2.5.1)\n",
            "Requirement already satisfied: imageio>=2.3.0 in /usr/local/lib/python3.7/dist-packages (from scikit-image>=0.15.0->sparseml==0.3.1->-r yolov5/requirements.txt (line 30)) (2.4.1)\n",
            "Requirement already satisfied: PyWavelets>=0.4.0 in /usr/local/lib/python3.7/dist-packages (from scikit-image>=0.15.0->sparseml==0.3.1->-r yolov5/requirements.txt (line 30)) (1.1.1)\n",
            "Requirement already satisfied: python-utils>=2.3.0 in /usr/local/lib/python3.7/dist-packages (from progressbar2>=3.0.0->sparseml==0.3.1->-r yolov5/requirements.txt (line 30)) (2.5.6)\n",
            "Requirement already satisfied: flatbuffers in /usr/local/lib/python3.7/dist-packages (from onnxruntime>=1.0.0->sparseml==0.3.1->-r yolov5/requirements.txt (line 30)) (1.12)\n",
            "Requirement already satisfied: pyasn1>=0.1.3 in /usr/local/lib/python3.7/dist-packages (from rsa<5,>=3.1.4; python_version >= \"3.6\"->google-auth<2,>=1.6.3->tensorboard>=2.4.1->-r yolov5/requirements.txt (line 15)) (0.4.8)\n",
            "Requirement already satisfied: zipp>=0.5 in /usr/local/lib/python3.7/dist-packages (from importlib-metadata; python_version < \"3.8\"->markdown>=2.6.8->tensorboard>=2.4.1->-r yolov5/requirements.txt (line 15)) (3.4.1)\n",
            "Requirement already satisfied: oauthlib>=3.0.0 in /usr/local/lib/python3.7/dist-packages (from requests-oauthlib>=0.7.0->google-auth-oauthlib<0.5,>=0.4.1->tensorboard>=2.4.1->-r yolov5/requirements.txt (line 15)) (3.1.1)\n",
            "Requirement already satisfied: ipython-genutils in /usr/local/lib/python3.7/dist-packages (from qtconsole->jupyter>=1.0.0->sparseml==0.3.1->-r yolov5/requirements.txt (line 30)) (0.2.0)\n",
            "Requirement already satisfied: pygments in /usr/local/lib/python3.7/dist-packages (from qtconsole->jupyter>=1.0.0->sparseml==0.3.1->-r yolov5/requirements.txt (line 30)) (2.6.1)\n",
            "Requirement already satisfied: pyzmq>=17.1 in /usr/local/lib/python3.7/dist-packages (from qtconsole->jupyter>=1.0.0->sparseml==0.3.1->-r yolov5/requirements.txt (line 30)) (22.1.0)\n",
            "Requirement already satisfied: qtpy in /usr/local/lib/python3.7/dist-packages (from qtconsole->jupyter>=1.0.0->sparseml==0.3.1->-r yolov5/requirements.txt (line 30)) (1.9.0)\n",
            "Requirement already satisfied: jupyter-client>=4.1 in /usr/local/lib/python3.7/dist-packages (from qtconsole->jupyter>=1.0.0->sparseml==0.3.1->-r yolov5/requirements.txt (line 30)) (5.3.5)\n",
            "Requirement already satisfied: jupyter-core in /usr/local/lib/python3.7/dist-packages (from qtconsole->jupyter>=1.0.0->sparseml==0.3.1->-r yolov5/requirements.txt (line 30)) (4.7.1)\n",
            "Requirement already satisfied: tornado>=4.0 in /usr/local/lib/python3.7/dist-packages (from ipykernel->jupyter>=1.0.0->sparseml==0.3.1->-r yolov5/requirements.txt (line 30)) (5.1.1)\n",
            "Requirement already satisfied: defusedxml in /usr/local/lib/python3.7/dist-packages (from nbconvert->jupyter>=1.0.0->sparseml==0.3.1->-r yolov5/requirements.txt (line 30)) (0.7.1)\n",
            "Requirement already satisfied: testpath in /usr/local/lib/python3.7/dist-packages (from nbconvert->jupyter>=1.0.0->sparseml==0.3.1->-r yolov5/requirements.txt (line 30)) (0.5.0)\n",
            "Requirement already satisfied: entrypoints>=0.2.2 in /usr/local/lib/python3.7/dist-packages (from nbconvert->jupyter>=1.0.0->sparseml==0.3.1->-r yolov5/requirements.txt (line 30)) (0.3)\n",
            "Requirement already satisfied: mistune<2,>=0.8.1 in /usr/local/lib/python3.7/dist-packages (from nbconvert->jupyter>=1.0.0->sparseml==0.3.1->-r yolov5/requirements.txt (line 30)) (0.8.4)\n",
            "Requirement already satisfied: bleach in /usr/local/lib/python3.7/dist-packages (from nbconvert->jupyter>=1.0.0->sparseml==0.3.1->-r yolov5/requirements.txt (line 30)) (3.3.0)\n",
            "Requirement already satisfied: jinja2>=2.4 in /usr/local/lib/python3.7/dist-packages (from nbconvert->jupyter>=1.0.0->sparseml==0.3.1->-r yolov5/requirements.txt (line 30)) (2.11.3)\n",
            "Requirement already satisfied: pandocfilters>=1.4.1 in /usr/local/lib/python3.7/dist-packages (from nbconvert->jupyter>=1.0.0->sparseml==0.3.1->-r yolov5/requirements.txt (line 30)) (1.4.3)\n",
            "Requirement already satisfied: terminado>=0.8.1 in /usr/local/lib/python3.7/dist-packages (from notebook->jupyter>=1.0.0->sparseml==0.3.1->-r yolov5/requirements.txt (line 30)) (0.10.1)\n",
            "Requirement already satisfied: Send2Trash in /usr/local/lib/python3.7/dist-packages (from notebook->jupyter>=1.0.0->sparseml==0.3.1->-r yolov5/requirements.txt (line 30)) (1.5.0)\n",
            "Requirement already satisfied: prompt-toolkit<2.0.0,>=1.0.0 in /usr/local/lib/python3.7/dist-packages (from jupyter-console->jupyter>=1.0.0->sparseml==0.3.1->-r yolov5/requirements.txt (line 30)) (1.0.18)\n",
            "Requirement already satisfied: simplegeneric>0.8 in /usr/local/lib/python3.7/dist-packages (from ipython>=4.0.0; python_version >= \"3.3\"->ipywidgets>=7.0.0->sparseml==0.3.1->-r yolov5/requirements.txt (line 30)) (0.8.1)\n",
            "Requirement already satisfied: pexpect; sys_platform != \"win32\" in /usr/local/lib/python3.7/dist-packages (from ipython>=4.0.0; python_version >= \"3.3\"->ipywidgets>=7.0.0->sparseml==0.3.1->-r yolov5/requirements.txt (line 30)) (4.8.0)\n",
            "Requirement already satisfied: decorator in /usr/local/lib/python3.7/dist-packages (from ipython>=4.0.0; python_version >= \"3.3\"->ipywidgets>=7.0.0->sparseml==0.3.1->-r yolov5/requirements.txt (line 30)) (4.4.2)\n",
            "Requirement already satisfied: pickleshare in /usr/local/lib/python3.7/dist-packages (from ipython>=4.0.0; python_version >= \"3.3\"->ipywidgets>=7.0.0->sparseml==0.3.1->-r yolov5/requirements.txt (line 30)) (0.7.5)\n",
            "Requirement already satisfied: jsonschema!=2.5.0,>=2.4 in /usr/local/lib/python3.7/dist-packages (from nbformat>=4.2.0->ipywidgets>=7.0.0->sparseml==0.3.1->-r yolov5/requirements.txt (line 30)) (2.6.0)\n",
            "Requirement already satisfied: webencodings in /usr/local/lib/python3.7/dist-packages (from bleach->nbconvert->jupyter>=1.0.0->sparseml==0.3.1->-r yolov5/requirements.txt (line 30)) (0.5.1)\n",
            "Requirement already satisfied: MarkupSafe>=0.23 in /usr/local/lib/python3.7/dist-packages (from jinja2>=2.4->nbconvert->jupyter>=1.0.0->sparseml==0.3.1->-r yolov5/requirements.txt (line 30)) (2.0.1)\n",
            "Requirement already satisfied: ptyprocess; os_name != \"nt\" in /usr/local/lib/python3.7/dist-packages (from terminado>=0.8.1->notebook->jupyter>=1.0.0->sparseml==0.3.1->-r yolov5/requirements.txt (line 30)) (0.7.0)\n",
            "Requirement already satisfied: wcwidth in /usr/local/lib/python3.7/dist-packages (from prompt-toolkit<2.0.0,>=1.0.0->jupyter-console->jupyter>=1.0.0->sparseml==0.3.1->-r yolov5/requirements.txt (line 30)) (0.2.5)\n",
            "\u001b[31mERROR: torchvision 0.10.0+cu102 has requirement torch==1.9.0, but you'll have torch 1.7.1 which is incompatible.\u001b[0m\n",
            "\u001b[31mERROR: torchtext 0.10.0 has requirement torch==1.9.0, but you'll have torch 1.7.1 which is incompatible.\u001b[0m\n",
            "Installing collected packages: PyYAML, torch, onnx, sparsezoo, toposort, onnxruntime, pydantic, merge-args, sparseml, thop\n",
            "  Found existing installation: PyYAML 3.13\n",
            "    Uninstalling PyYAML-3.13:\n",
            "      Successfully uninstalled PyYAML-3.13\n",
            "  Found existing installation: torch 1.9.0+cu102\n",
            "    Uninstalling torch-1.9.0+cu102:\n"
          ],
          "name": "stdout"
        }
      ]
    },
    {
      "cell_type": "code",
      "metadata": {
        "id": "wbvMlHd_QwMG"
      },
      "source": [
        "'''!git clone https://github.com/ultralytics/yolov5  # clone repo\n",
        "%cd yolov5\n",
        "%pip install -qr requirements.txt  # install dependencies'''\n",
        "\n",
        "import torch\n",
        "from IPython.display import Image, clear_output  # to display images\n",
        "\n",
        "clear_output()\n",
        "print(f\"Setup complete. Using torch {torch.__version__} ({torch.cuda.get_device_properties(0).name if torch.cuda.is_available() else 'CPU'})\")"
      ],
      "execution_count": null,
      "outputs": []
    },
    {
      "cell_type": "markdown",
      "metadata": {
        "id": "VUOiNLtMP5aG"
      },
      "source": [
        "# 3. Train"
      ]
    },
    {
      "cell_type": "code",
      "metadata": {
        "id": "HyZv9B4N1ikB"
      },
      "source": [
        "%cd /content\n",
        "!mkdir sent2\n",
        "%cd sent2\n",
        "!pwd"
      ],
      "execution_count": null,
      "outputs": []
    },
    {
      "cell_type": "code",
      "metadata": {
        "id": "L8vxtfaip74_"
      },
      "source": [
        "!rm -r images\n",
        "!rm -r labels\n",
        "!mkdir images\n",
        "!mkdir labels\n",
        "%cd /content"
      ],
      "execution_count": null,
      "outputs": []
    },
    {
      "cell_type": "markdown",
      "metadata": {
        "id": "_pOkGLv1dMqh"
      },
      "source": [
        "Train a YOLOv5s model on [COCO128](https://www.kaggle.com/ultralytics/coco128) with `--data coco128.yaml`, starting from pretrained `--weights yolov5s.pt`, or from randomly initialized `--weights '' --cfg yolov5s.yaml`. Models are downloaded automatically from the [latest YOLOv5 release](https://github.com/ultralytics/yolov5/releases), and **COCO, COCO128, and VOC datasets are downloaded automatically** on first use.\n",
        "\n",
        "All training results are saved to `runs/train/` with incrementing run directories, i.e. `runs/train/exp2`, `runs/train/exp3` etc.\n"
      ]
    },
    {
      "cell_type": "code",
      "metadata": {
        "id": "nhE_3NbY3j4C"
      },
      "source": [
        "%cd /content\n",
        "!cat './sparseml/integrations/ultralytics-yolov5/yolov5/data/coco128.yaml'"
      ],
      "execution_count": null,
      "outputs": []
    },
    {
      "cell_type": "code",
      "metadata": {
        "id": "mkk9fGH64fIA"
      },
      "source": [
        "!pip3 install torch==1.7.0+cu101 torchvision==0.8.1+cu101 torchaudio==0.7.0 -f https://download.pytorch.org/whl/torch_stable.html\n"
      ],
      "execution_count": null,
      "outputs": []
    },
    {
      "cell_type": "code",
      "metadata": {
        "id": "1NcFxRcFdJ_O"
      },
      "source": [
        "# Train YOLOv5s on COCO128 for 3 epochs\n",
        "%cd /content/sparseml/integrations/ultralytics-yolov5/yolov5\n",
        "!python train.py --img 640 --batch 16 --epochs 3 --data './data/coco128.yaml' --weights yolov5s.pt --nosave --cache"
      ],
      "execution_count": null,
      "outputs": []
    },
    {
      "cell_type": "code",
      "metadata": {
        "id": "riPdhraOTCO0"
      },
      "source": [
        "Image(filename='runs/train/exp/train_batch0.jpg', width=800)  # train batch 0 mosaics and labels\n",
        "Image(filename='runs/train/exp/test_batch0_labels.jpg', width=800)  # test batch 0 labels\n",
        "Image(filename='runs/train/exp/test_batch0_pred.jpg', width=800)  # test batch 0 predictions"
      ],
      "execution_count": null,
      "outputs": []
    },
    {
      "cell_type": "markdown",
      "metadata": {
        "id": "OYG4WFEnTVrI"
      },
      "source": [
        "> <img src=\"https://user-images.githubusercontent.com/26833433/83667642-90fcb200-a583-11ea-8fa3-338bbf7da194.jpeg\" width=\"750\">  \n",
        "`train_batch0.jpg` shows train batch 0 mosaics and labels\n",
        "\n",
        "> <img src=\"https://user-images.githubusercontent.com/26833433/83667626-8c37fe00-a583-11ea-997b-0923fe59b29b.jpeg\" width=\"750\">  \n",
        "`test_batch0_labels.jpg` shows test batch 0 labels\n",
        "\n",
        "> <img src=\"https://user-images.githubusercontent.com/26833433/83667635-90641b80-a583-11ea-8075-606316cebb9c.jpeg\" width=\"750\">  \n",
        "`test_batch0_pred.jpg` shows test batch 0 _predictions_\n"
      ]
    },
    {
      "cell_type": "code",
      "metadata": {
        "id": "MDznIqPF7nk3"
      },
      "source": [
        "%cd /content/sparseml/integrations/ultralytics-yolov5/yolov5\n",
        "from utils.plots import plot_results \n",
        "plot_results(save_dir='runs/train/exp')  # plot all results*.txt as results.png\n",
        "Image(filename='runs/train/exp/results.png', width=800)"
      ],
      "execution_count": null,
      "outputs": []
    },
    {
      "cell_type": "markdown",
      "metadata": {
        "id": "lfrEegCSW3fK"
      },
      "source": [
        "<img src=\"https://user-images.githubusercontent.com/26833433/97808309-8182b180-1c66-11eb-8461-bffe1a79511d.png\" width=\"800\">\n"
      ]
    },
    {
      "cell_type": "markdown",
      "metadata": {
        "id": "WHh7ReHf1UCy"
      },
      "source": [
        "Exporting for Inference"
      ]
    },
    {
      "cell_type": "code",
      "metadata": {
        "id": "mXTap4rcMsNA"
      },
      "source": [
        "%cd /content/sparseml/integrations/ultralytics-yolov5/yolov5\n",
        "#!cat models/export.py"
      ],
      "execution_count": null,
      "outputs": []
    },
    {
      "cell_type": "code",
      "metadata": {
        "id": "DeGWsQS-NriC"
      },
      "source": [
        "#code = '''import argparse\n",
        "'''from copy import deepcopy\n",
        "import sys\n",
        "import time\n",
        "\n",
        "sys.path.append('./')  # to run '$ python *.py' files in subdirectories\n",
        "\n",
        "import torch\n",
        "import torch.nn as nn\n",
        "from torch.utils.mobile_optimizer import optimize_for_mobile\n",
        "\n",
        "from sparseml.pytorch.utils import ModuleExporter\n",
        "from sparseml.pytorch.utils.quantization import skip_onnx_input_quantize\n",
        "\n",
        "import models\n",
        "from models.experimental import attempt_load\n",
        "from models.yolo import Model\n",
        "from utils.activations import Hardswish, SiLU\n",
        "from utils.general import colorstr, check_img_size, check_requirements, file_size, set_logging\n",
        "from utils.google_utils import attempt_download\n",
        "from utils.sparse import SparseMLWrapper\n",
        "from utils.torch_utils import select_device, intersect_dicts, is_parallel, torch_distributed_zero_first\n",
        "\n",
        "\n",
        "def create_checkpoint(epoch, model, optimizer, ema, sparseml_wrapper, **kwargs):\n",
        "    pickle = not sparseml_wrapper.qat_active(epoch)  # qat does not support pickled exports\n",
        "    ckpt_model = deepcopy(model.module if is_parallel(model) else model).float()\n",
        "    yaml = ckpt_model.yaml\n",
        "    if not pickle:\n",
        "        ckpt_model = ckpt_model.state_dict()\n",
        "\n",
        "    return {'epoch': epoch,\n",
        "            'model': ckpt_model,\n",
        "            'optimizer': optimizer.state_dict(),\n",
        "            'yaml': yaml,\n",
        "            **ema.state_dict(pickle),\n",
        "            **sparseml_wrapper.state_dict(),\n",
        "            **kwargs}\n",
        "\n",
        "\n",
        "def load_checkpoint(type_, weights, device, cfg=None, hyp=None, nc=None, recipe=None, resume=None, rank=-1):\n",
        "    with torch_distributed_zero_first(rank):\n",
        "        attempt_download(weights)  # download if not found locally\n",
        "    ckpt = torch.load(weights, map_location=device)  # load checkpoint\n",
        "    start_epoch = ckpt['epoch'] + 1 if 'epoch' in ckpt else 0\n",
        "    pickled = isinstance(ckpt['model'], nn.Module)\n",
        "\n",
        "    if pickled and type_ == 'ensemble':\n",
        "        # load ensemble using pickled\n",
        "        cfg = None\n",
        "        model = attempt_load(weights, map_location=device)  # load FP32 model\n",
        "        state_dict = model.state_dict()\n",
        "    else:\n",
        "        # load model from config and weights\n",
        "        cfg = cfg or (ckpt['yaml'] if 'yaml' in ckpt else None) or \\\n",
        "              (ckpt['model'].yaml if pickled else None)\n",
        "        model = Model(cfg, ch=3, nc=ckpt['nc'] if ('nc' in ckpt and not nc) else nc,\n",
        "                      anchors=hyp.get('anchors') if hyp else None).to(device)\n",
        "        model_key = 'ema' if (type_ in ['ema', 'ensemble'] and 'ema' in ckpt and ckpt['ema']) else 'model'\n",
        "        state_dict = ckpt[model_key].float().state_dict() if pickled else ckpt[model_key]\n",
        "\n",
        "    # turn gradients for params back on in case they were removed\n",
        "    for p in model.parameters():\n",
        "        p.requires_grad = True\n",
        "\n",
        "    # load sparseml recipe for applying pruning and quantization\n",
        "    recipe = recipe or (ckpt['recipe'] if 'recipe' in ckpt else None)\n",
        "    sparseml_wrapper = SparseMLWrapper(model, recipe)\n",
        "    if type_ in ['ema', 'ensemble']:\n",
        "        # apply the recipe to create the final state of the model when not training\n",
        "        sparseml_wrapper.apply()\n",
        "    else:\n",
        "        # intialize the recipe for training\n",
        "        sparseml_wrapper.initialize(start_epoch)\n",
        "\n",
        "    if type_ == 'train':\n",
        "        # load any missing weights from the model\n",
        "        exclude = ['anchor'] if (cfg or hyp.get('anchors')) and not resume else []  # exclude keys\n",
        "        state_dict = intersect_dicts(state_dict, model.state_dict(), exclude=exclude)  # intersect\n",
        "\n",
        "    model.load_state_dict(state_dict, strict=type_ != 'train')  # load\n",
        "    model.float()\n",
        "    report = 'Transferred %g/%g items from %s' % (len(state_dict), len(model.state_dict()), weights)\n",
        "\n",
        "    return model, {\n",
        "        'ckpt': ckpt,\n",
        "        'state_dict': state_dict,\n",
        "        'start_epoch': start_epoch,\n",
        "        'sparseml_wrapper': sparseml_wrapper,\n",
        "        'report': report,\n",
        "    }\n",
        "\n",
        "\n",
        "if __name__ == '__main__':\n",
        "    parser = argparse.ArgumentParser()\n",
        "    parser.add_argument('--weights', type=str, default='./yolov3.pt', help='weights path')  # from yolov3/models/\n",
        "    parser.add_argument('--img-size', nargs='+', type=int, default=[640, 640], help='image size')  # height, width\n",
        "    parser.add_argument('--batch-size', type=int, default=1, help='batch size')\n",
        "    parser.add_argument('--device', default='cpu', help='cuda device, i.e. 0 or 0,1,2,3 or cpu')\n",
        "    parser.add_argument('--include', nargs='+', default=['torchscript', 'onnx', 'coreml'], help='include formats')\n",
        "    parser.add_argument('--half', action='store_true', help='FP16 half-precision export')\n",
        "    parser.add_argument('--inplace', action='store_true', help='set YOLOv5 Detect() inplace=True')\n",
        "    parser.add_argument('--train', action='store_true', help='model.train() mode')\n",
        "    parser.add_argument('--optimize', action='store_true', help='optimize TorchScript for mobile')  # TorchScript-only\n",
        "    parser.add_argument('--dynamic', action='store_true', help='dynamic ONNX axes')  # ONNX-only\n",
        "    parser.add_argument('--simplify', action='store_true', help='simplify ONNX model')  # ONNX-only\n",
        "    parser.add_argument('--opset-version', type=int, default=12, help='ONNX opset version')  # ONNX-only\n",
        "    parser.add_argument(\"--remove-grid\", action=\"store_true\", help=\"remove export of Detect() layer grid\")\n",
        "    opt = parser.parse_args()\n",
        "    opt.img_size *= 2 if len(opt.img_size) == 1 else 1  # expand\n",
        "    opt.include = [x.lower() for x in opt.include]\n",
        "    print(opt)\n",
        "    set_logging()\n",
        "    t = time.time()\n",
        "\n",
        "    # Load PyTorch model\n",
        "    device = select_device(opt.device)\n",
        "    model, extras = load_checkpoint('ensemble', opt.weights, device)  # load FP32 model\n",
        "    sparseml_wrapper = extras['sparseml_wrapper']\n",
        "    labels = model.names\n",
        "\n",
        "    # Checks\n",
        "    gs = int(max(model.stride))  # grid size (max stride)\n",
        "    opt.img_size = [check_img_size(x, gs) for x in opt.img_size]  # verify img_size are gs-multiples\n",
        "    assert not (opt.device.lower() == 'cpu' and opt.half), '--half only compatible with GPU export, i.e. use --device 0'\n",
        "\n",
        "    # Input\n",
        "    img = torch.zeros(opt.batch_size, 3, *opt.img_size).to(device)  # image size(1,3,320,192) iDetection\n",
        "\n",
        "    # Update model\n",
        "    if opt.half:\n",
        "        img, model = img.half(), model.half()  # to FP16\n",
        "    if opt.train:\n",
        "        model.train()  # training mode (no grid construction in Detect layer)\n",
        "    for k, m in model.named_modules():\n",
        "        m._non_persistent_buffers_set = set()  # pytorch 1.6.0 compatibility\n",
        "        if isinstance(m, models.common.Conv):  # assign export-friendly activations\n",
        "            if isinstance(m.act, nn.Hardswish):\n",
        "                m.act = Hardswish()\n",
        "            elif isinstance(m.act, nn.SiLU):\n",
        "                m.act = SiLU()\n",
        "        elif isinstance(m, models.yolo.Detect):\n",
        "            m.inplace = opt.inplace\n",
        "            m.onnx_dynamic = opt.dynamic\n",
        "            # m.forward = m.forward_export  # assign forward (optional)\n",
        "    model.model[-1].export = not opt.remove_grid  # set Detect() layer grid export\n",
        "\n",
        "    for _ in range(2):\n",
        "        y = model(img)  # dry runs\n",
        "\n",
        "    # ONNX export ------------------------------------------------------------------------------------------------------\n",
        "    if 'onnx' in opt.include:\n",
        "        prefix = colorstr('ONNX:')\n",
        "        try:\n",
        "            import onnx\n",
        "\n",
        "            print(f'{prefix} starting export with onnx {onnx.__version__}...')\n",
        "            f = opt.weights.replace('.pt', '.onnx')  # filename\n",
        "            if not sparseml_wrapper.enabled:\n",
        "                # Jonathan: fixed opt.opset_version to 7 to make it work with onnx.js\n",
        "                # but this gave other problems, so try 8, 14 (unsupported), 12 (MaxPool' with opsets: ai.onnx v12), 9 (step!=1 not supported)\n",
        "                # 6 not supported, 9 (ONNX: export failure: step!=1 is currently not supported)\n",
        "                torch.onnx.export(model, img, f, verbose=False, opset_version=12, input_names=['images'],\n",
        "                                  dynamic_axes={'images': {0: 'batch', 2: 'height', 3: 'width'},  # size(1,3,640,640)\n",
        "                                                'output': {0: 'batch', 2: 'y', 3: 'x'}} if opt.dynamic else None)\n",
        "            else:\n",
        "                # export through SparseML so quantized and pruned graphs can be corrected\n",
        "                save_dir = '/'.join(f.split('/')[:-1])\n",
        "                save_name = f.split('/')[-1]\n",
        "                exporter = ModuleExporter(model, save_dir)\n",
        "                exporter.export_onnx(img, name=save_name, convert_qat=True)\n",
        "                try:\n",
        "                    skip_onnx_input_quantize(f, f)\n",
        "                except:\n",
        "                    pass\n",
        "\n",
        "            # Checks\n",
        "            model_onnx = onnx.load(f)  # load onnx model\n",
        "            onnx.checker.check_model(model_onnx)  # check onnx model\n",
        "            # print(onnx.helper.printable_graph(model_onnx.graph))  # print\n",
        "\n",
        "            # Simplify\n",
        "            if opt.simplify:\n",
        "                try:\n",
        "                    check_requirements(['onnx-simplifier'])\n",
        "                    import onnxsim\n",
        "\n",
        "                    print(f'{prefix} simplifying with onnx-simplifier {onnxsim.__version__}...')\n",
        "                    model_onnx, check = onnxsim.simplify(\n",
        "                        model_onnx,\n",
        "                        dynamic_input_shape=opt.dynamic,\n",
        "                        input_shapes={'images': list(img.shape)} if opt.dynamic else None)\n",
        "                    assert check, 'assert check failed'\n",
        "                    onnx.save(model_onnx, f)\n",
        "                except Exception as e:\n",
        "                    print(f'{prefix} simplifier failure: {e}')\n",
        "            print(f'{prefix} export success, saved as {f} ({file_size(f):.1f} MB)')\n",
        "        except Exception as e:\n",
        "            print(f'{prefix} export failure: {e}')'''\n",
        "#with open('models/export_patched.py', 'w') as fp:\n",
        "#    fp.write(code)\n"
      ],
      "execution_count": null,
      "outputs": []
    },
    {
      "cell_type": "code",
      "metadata": {
        "id": "DD8DTFMoPPR1"
      },
      "source": [
        "#!cat models/export_patched.py"
      ],
      "execution_count": null,
      "outputs": []
    },
    {
      "cell_type": "code",
      "metadata": {
        "id": "a9tbKFP0QOQm"
      },
      "source": [
        "#!pip install onnx --upgrade # make sure onnx is 1.9 instead of 1.7\n",
        "# ONNX: export failure: step!=1 is currently not supported --- with pytorch 1.7.0\n",
        "# also does not work. ONNX.js seems to have bad maintenance!\n",
        "!pip3 install torch==1.8.1+cpu torchvision==0.9.1+cpu torchaudio==0.8.1 -f https://download.pytorch.org/whl/torch_stable.html\n"
      ],
      "execution_count": null,
      "outputs": []
    },
    {
      "cell_type": "code",
      "metadata": {
        "id": "9KVhjDa21Usu"
      },
      "source": [
        "%cd /content/sparseml/integrations/ultralytics-yolov5/yolov5\n",
        "!python models/export.py --weights ./runs/train/exp/weights/best.pt --img-size 512 512"
      ],
      "execution_count": null,
      "outputs": []
    },
    {
      "cell_type": "code",
      "metadata": {
        "id": "36aku5KxOT7N"
      },
      "source": [
        "!du -h \"/content/sparseml/integrations/ultralytics-yolov5/yolov5/runs/train/exp/weights/best.onnx\""
      ],
      "execution_count": null,
      "outputs": []
    },
    {
      "cell_type": "code",
      "metadata": {
        "id": "iCAufl0nHK5Q"
      },
      "source": [
        "%cd /content/sparseml/integrations/ultralytics-yolov5/yolov5/"
      ],
      "execution_count": null,
      "outputs": []
    }
  ]
}