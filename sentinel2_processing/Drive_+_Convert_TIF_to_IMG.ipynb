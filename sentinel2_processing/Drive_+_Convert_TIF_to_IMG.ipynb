{
  "nbformat": 4,
  "nbformat_minor": 0,
  "metadata": {
    "accelerator": "TPU",
    "colab": {
      "name": "Drive + Convert TIF to IMG.ipynb",
      "provenance": [],
      "collapsed_sections": [],
      "machine_shape": "hm",
      "include_colab_link": true
    },
    "kernelspec": {
      "display_name": "Python 3",
      "name": "python3"
    },
    "language_info": {
      "name": "python"
    },
    "widgets": {
      "application/vnd.jupyter.widget-state+json": {
        "e59a68ffc22f4353afad9eac84146c3c": {
          "model_module": "@jupyter-widgets/controls",
          "model_name": "HBoxModel",
          "state": {
            "_view_name": "HBoxView",
            "_dom_classes": [],
            "_model_name": "HBoxModel",
            "_view_module": "@jupyter-widgets/controls",
            "_model_module_version": "1.5.0",
            "_view_count": null,
            "_view_module_version": "1.5.0",
            "box_style": "",
            "layout": "IPY_MODEL_4ed6267a758943a3bc2baceb9807d60e",
            "_model_module": "@jupyter-widgets/controls",
            "children": [
              "IPY_MODEL_94dac2005d5f4f7bbfe496497a7a5bd7",
              "IPY_MODEL_b302aa68e65a4b049e0ccba21c6068cf",
              "IPY_MODEL_603a9624ac7842ba8d1a5148e3dfa4d8"
            ]
          }
        },
        "4ed6267a758943a3bc2baceb9807d60e": {
          "model_module": "@jupyter-widgets/base",
          "model_name": "LayoutModel",
          "state": {
            "_view_name": "LayoutView",
            "grid_template_rows": null,
            "right": null,
            "justify_content": null,
            "_view_module": "@jupyter-widgets/base",
            "overflow": null,
            "_model_module_version": "1.2.0",
            "_view_count": null,
            "flex_flow": null,
            "width": null,
            "min_width": null,
            "border": null,
            "align_items": null,
            "bottom": null,
            "_model_module": "@jupyter-widgets/base",
            "top": null,
            "grid_column": null,
            "overflow_y": null,
            "overflow_x": null,
            "grid_auto_flow": null,
            "grid_area": null,
            "grid_template_columns": null,
            "flex": null,
            "_model_name": "LayoutModel",
            "justify_items": null,
            "grid_row": null,
            "max_height": null,
            "align_content": null,
            "visibility": null,
            "align_self": null,
            "height": null,
            "min_height": null,
            "padding": null,
            "grid_auto_rows": null,
            "grid_gap": null,
            "max_width": null,
            "order": null,
            "_view_module_version": "1.2.0",
            "grid_template_areas": null,
            "object_position": null,
            "object_fit": null,
            "grid_auto_columns": null,
            "margin": null,
            "display": null,
            "left": null
          }
        },
        "94dac2005d5f4f7bbfe496497a7a5bd7": {
          "model_module": "@jupyter-widgets/controls",
          "model_name": "HTMLModel",
          "state": {
            "_view_name": "HTMLView",
            "style": "IPY_MODEL_5c6a4e55515a4242a5290f7c54d3c632",
            "_dom_classes": [],
            "description": "",
            "_model_name": "HTMLModel",
            "placeholder": "​",
            "_view_module": "@jupyter-widgets/controls",
            "_model_module_version": "1.5.0",
            "value": "100%",
            "_view_count": null,
            "_view_module_version": "1.5.0",
            "description_tooltip": null,
            "_model_module": "@jupyter-widgets/controls",
            "layout": "IPY_MODEL_f0d0260a8e83423dac85f472a0e93b88"
          }
        },
        "b302aa68e65a4b049e0ccba21c6068cf": {
          "model_module": "@jupyter-widgets/controls",
          "model_name": "FloatProgressModel",
          "state": {
            "_view_name": "ProgressView",
            "style": "IPY_MODEL_4293950ca5f348f69c4aeff64374ef88",
            "_dom_classes": [],
            "description": "",
            "_model_name": "FloatProgressModel",
            "bar_style": "success",
            "max": 14,
            "_view_module": "@jupyter-widgets/controls",
            "_model_module_version": "1.5.0",
            "value": 14,
            "_view_count": null,
            "_view_module_version": "1.5.0",
            "orientation": "horizontal",
            "min": 0,
            "description_tooltip": null,
            "_model_module": "@jupyter-widgets/controls",
            "layout": "IPY_MODEL_32769a48ad1848e5834e8a03b420a395"
          }
        },
        "603a9624ac7842ba8d1a5148e3dfa4d8": {
          "model_module": "@jupyter-widgets/controls",
          "model_name": "HTMLModel",
          "state": {
            "_view_name": "HTMLView",
            "style": "IPY_MODEL_920d89f923b14fb7befab93954061e8e",
            "_dom_classes": [],
            "description": "",
            "_model_name": "HTMLModel",
            "placeholder": "​",
            "_view_module": "@jupyter-widgets/controls",
            "_model_module_version": "1.5.0",
            "value": " 14/14 [00:02&lt;00:00,  3.71it/s]",
            "_view_count": null,
            "_view_module_version": "1.5.0",
            "description_tooltip": null,
            "_model_module": "@jupyter-widgets/controls",
            "layout": "IPY_MODEL_c923fea0d4d44b49b907dd8cf0cd5b6b"
          }
        },
        "5c6a4e55515a4242a5290f7c54d3c632": {
          "model_module": "@jupyter-widgets/controls",
          "model_name": "DescriptionStyleModel",
          "state": {
            "_view_name": "StyleView",
            "_model_name": "DescriptionStyleModel",
            "description_width": "",
            "_view_module": "@jupyter-widgets/base",
            "_model_module_version": "1.5.0",
            "_view_count": null,
            "_view_module_version": "1.2.0",
            "_model_module": "@jupyter-widgets/controls"
          }
        },
        "f0d0260a8e83423dac85f472a0e93b88": {
          "model_module": "@jupyter-widgets/base",
          "model_name": "LayoutModel",
          "state": {
            "_view_name": "LayoutView",
            "grid_template_rows": null,
            "right": null,
            "justify_content": null,
            "_view_module": "@jupyter-widgets/base",
            "overflow": null,
            "_model_module_version": "1.2.0",
            "_view_count": null,
            "flex_flow": null,
            "width": null,
            "min_width": null,
            "border": null,
            "align_items": null,
            "bottom": null,
            "_model_module": "@jupyter-widgets/base",
            "top": null,
            "grid_column": null,
            "overflow_y": null,
            "overflow_x": null,
            "grid_auto_flow": null,
            "grid_area": null,
            "grid_template_columns": null,
            "flex": null,
            "_model_name": "LayoutModel",
            "justify_items": null,
            "grid_row": null,
            "max_height": null,
            "align_content": null,
            "visibility": null,
            "align_self": null,
            "height": null,
            "min_height": null,
            "padding": null,
            "grid_auto_rows": null,
            "grid_gap": null,
            "max_width": null,
            "order": null,
            "_view_module_version": "1.2.0",
            "grid_template_areas": null,
            "object_position": null,
            "object_fit": null,
            "grid_auto_columns": null,
            "margin": null,
            "display": null,
            "left": null
          }
        },
        "4293950ca5f348f69c4aeff64374ef88": {
          "model_module": "@jupyter-widgets/controls",
          "model_name": "ProgressStyleModel",
          "state": {
            "_view_name": "StyleView",
            "_model_name": "ProgressStyleModel",
            "description_width": "",
            "_view_module": "@jupyter-widgets/base",
            "_model_module_version": "1.5.0",
            "_view_count": null,
            "_view_module_version": "1.2.0",
            "bar_color": null,
            "_model_module": "@jupyter-widgets/controls"
          }
        },
        "32769a48ad1848e5834e8a03b420a395": {
          "model_module": "@jupyter-widgets/base",
          "model_name": "LayoutModel",
          "state": {
            "_view_name": "LayoutView",
            "grid_template_rows": null,
            "right": null,
            "justify_content": null,
            "_view_module": "@jupyter-widgets/base",
            "overflow": null,
            "_model_module_version": "1.2.0",
            "_view_count": null,
            "flex_flow": null,
            "width": null,
            "min_width": null,
            "border": null,
            "align_items": null,
            "bottom": null,
            "_model_module": "@jupyter-widgets/base",
            "top": null,
            "grid_column": null,
            "overflow_y": null,
            "overflow_x": null,
            "grid_auto_flow": null,
            "grid_area": null,
            "grid_template_columns": null,
            "flex": null,
            "_model_name": "LayoutModel",
            "justify_items": null,
            "grid_row": null,
            "max_height": null,
            "align_content": null,
            "visibility": null,
            "align_self": null,
            "height": null,
            "min_height": null,
            "padding": null,
            "grid_auto_rows": null,
            "grid_gap": null,
            "max_width": null,
            "order": null,
            "_view_module_version": "1.2.0",
            "grid_template_areas": null,
            "object_position": null,
            "object_fit": null,
            "grid_auto_columns": null,
            "margin": null,
            "display": null,
            "left": null
          }
        },
        "920d89f923b14fb7befab93954061e8e": {
          "model_module": "@jupyter-widgets/controls",
          "model_name": "DescriptionStyleModel",
          "state": {
            "_view_name": "StyleView",
            "_model_name": "DescriptionStyleModel",
            "description_width": "",
            "_view_module": "@jupyter-widgets/base",
            "_model_module_version": "1.5.0",
            "_view_count": null,
            "_view_module_version": "1.2.0",
            "_model_module": "@jupyter-widgets/controls"
          }
        },
        "c923fea0d4d44b49b907dd8cf0cd5b6b": {
          "model_module": "@jupyter-widgets/base",
          "model_name": "LayoutModel",
          "state": {
            "_view_name": "LayoutView",
            "grid_template_rows": null,
            "right": null,
            "justify_content": null,
            "_view_module": "@jupyter-widgets/base",
            "overflow": null,
            "_model_module_version": "1.2.0",
            "_view_count": null,
            "flex_flow": null,
            "width": null,
            "min_width": null,
            "border": null,
            "align_items": null,
            "bottom": null,
            "_model_module": "@jupyter-widgets/base",
            "top": null,
            "grid_column": null,
            "overflow_y": null,
            "overflow_x": null,
            "grid_auto_flow": null,
            "grid_area": null,
            "grid_template_columns": null,
            "flex": null,
            "_model_name": "LayoutModel",
            "justify_items": null,
            "grid_row": null,
            "max_height": null,
            "align_content": null,
            "visibility": null,
            "align_self": null,
            "height": null,
            "min_height": null,
            "padding": null,
            "grid_auto_rows": null,
            "grid_gap": null,
            "max_width": null,
            "order": null,
            "_view_module_version": "1.2.0",
            "grid_template_areas": null,
            "object_position": null,
            "object_fit": null,
            "grid_auto_columns": null,
            "margin": null,
            "display": null,
            "left": null
          }
        },
        "a1ceeca9f27849ef96feee7aa456eb38": {
          "model_module": "@jupyter-widgets/controls",
          "model_name": "HBoxModel",
          "state": {
            "_view_name": "HBoxView",
            "_dom_classes": [],
            "_model_name": "HBoxModel",
            "_view_module": "@jupyter-widgets/controls",
            "_model_module_version": "1.5.0",
            "_view_count": null,
            "_view_module_version": "1.5.0",
            "box_style": "",
            "layout": "IPY_MODEL_8bd2a840dbaa4998a20e4c05896d0a2d",
            "_model_module": "@jupyter-widgets/controls",
            "children": [
              "IPY_MODEL_708391051cd34e19ba79574beb43ddc2",
              "IPY_MODEL_a2a357a6fa9341cb9395cb35c14a82fa",
              "IPY_MODEL_2ae60b5340e3481ca852407a50c8148e"
            ]
          }
        },
        "8bd2a840dbaa4998a20e4c05896d0a2d": {
          "model_module": "@jupyter-widgets/base",
          "model_name": "LayoutModel",
          "state": {
            "_view_name": "LayoutView",
            "grid_template_rows": null,
            "right": null,
            "justify_content": null,
            "_view_module": "@jupyter-widgets/base",
            "overflow": null,
            "_model_module_version": "1.2.0",
            "_view_count": null,
            "flex_flow": null,
            "width": null,
            "min_width": null,
            "border": null,
            "align_items": null,
            "bottom": null,
            "_model_module": "@jupyter-widgets/base",
            "top": null,
            "grid_column": null,
            "overflow_y": null,
            "overflow_x": null,
            "grid_auto_flow": null,
            "grid_area": null,
            "grid_template_columns": null,
            "flex": null,
            "_model_name": "LayoutModel",
            "justify_items": null,
            "grid_row": null,
            "max_height": null,
            "align_content": null,
            "visibility": null,
            "align_self": null,
            "height": null,
            "min_height": null,
            "padding": null,
            "grid_auto_rows": null,
            "grid_gap": null,
            "max_width": null,
            "order": null,
            "_view_module_version": "1.2.0",
            "grid_template_areas": null,
            "object_position": null,
            "object_fit": null,
            "grid_auto_columns": null,
            "margin": null,
            "display": null,
            "left": null
          }
        },
        "708391051cd34e19ba79574beb43ddc2": {
          "model_module": "@jupyter-widgets/controls",
          "model_name": "HTMLModel",
          "state": {
            "_view_name": "HTMLView",
            "style": "IPY_MODEL_cadeaead9f87425bafbd3078ddaf472e",
            "_dom_classes": [],
            "description": "",
            "_model_name": "HTMLModel",
            "placeholder": "​",
            "_view_module": "@jupyter-widgets/controls",
            "_model_module_version": "1.5.0",
            "value": "converting geotiffs:   4%",
            "_view_count": null,
            "_view_module_version": "1.5.0",
            "description_tooltip": null,
            "_model_module": "@jupyter-widgets/controls",
            "layout": "IPY_MODEL_b4c6c6ffffab4ec18d44eca9c73c0bf1"
          }
        },
        "a2a357a6fa9341cb9395cb35c14a82fa": {
          "model_module": "@jupyter-widgets/controls",
          "model_name": "FloatProgressModel",
          "state": {
            "_view_name": "ProgressView",
            "style": "IPY_MODEL_884931900e4f42caad0d488f6735e0f2",
            "_dom_classes": [],
            "description": "",
            "_model_name": "FloatProgressModel",
            "bar_style": "",
            "max": 176,
            "_view_module": "@jupyter-widgets/controls",
            "_model_module_version": "1.5.0",
            "value": 7,
            "_view_count": null,
            "_view_module_version": "1.5.0",
            "orientation": "horizontal",
            "min": 0,
            "description_tooltip": null,
            "_model_module": "@jupyter-widgets/controls",
            "layout": "IPY_MODEL_4224dfc4a2f34f60ba42a481ecde790c"
          }
        },
        "2ae60b5340e3481ca852407a50c8148e": {
          "model_module": "@jupyter-widgets/controls",
          "model_name": "HTMLModel",
          "state": {
            "_view_name": "HTMLView",
            "style": "IPY_MODEL_7d471e64be584d28beac8cdb435b0322",
            "_dom_classes": [],
            "description": "",
            "_model_name": "HTMLModel",
            "placeholder": "​",
            "_view_module": "@jupyter-widgets/controls",
            "_model_module_version": "1.5.0",
            "value": " 7/176 [03:22&lt;1:21:07, 28.80s/it]",
            "_view_count": null,
            "_view_module_version": "1.5.0",
            "description_tooltip": null,
            "_model_module": "@jupyter-widgets/controls",
            "layout": "IPY_MODEL_7c61988f5c114e16a993414ddf286e79"
          }
        },
        "cadeaead9f87425bafbd3078ddaf472e": {
          "model_module": "@jupyter-widgets/controls",
          "model_name": "DescriptionStyleModel",
          "state": {
            "_view_name": "StyleView",
            "_model_name": "DescriptionStyleModel",
            "description_width": "",
            "_view_module": "@jupyter-widgets/base",
            "_model_module_version": "1.5.0",
            "_view_count": null,
            "_view_module_version": "1.2.0",
            "_model_module": "@jupyter-widgets/controls"
          }
        },
        "b4c6c6ffffab4ec18d44eca9c73c0bf1": {
          "model_module": "@jupyter-widgets/base",
          "model_name": "LayoutModel",
          "state": {
            "_view_name": "LayoutView",
            "grid_template_rows": null,
            "right": null,
            "justify_content": null,
            "_view_module": "@jupyter-widgets/base",
            "overflow": null,
            "_model_module_version": "1.2.0",
            "_view_count": null,
            "flex_flow": null,
            "width": null,
            "min_width": null,
            "border": null,
            "align_items": null,
            "bottom": null,
            "_model_module": "@jupyter-widgets/base",
            "top": null,
            "grid_column": null,
            "overflow_y": null,
            "overflow_x": null,
            "grid_auto_flow": null,
            "grid_area": null,
            "grid_template_columns": null,
            "flex": null,
            "_model_name": "LayoutModel",
            "justify_items": null,
            "grid_row": null,
            "max_height": null,
            "align_content": null,
            "visibility": null,
            "align_self": null,
            "height": null,
            "min_height": null,
            "padding": null,
            "grid_auto_rows": null,
            "grid_gap": null,
            "max_width": null,
            "order": null,
            "_view_module_version": "1.2.0",
            "grid_template_areas": null,
            "object_position": null,
            "object_fit": null,
            "grid_auto_columns": null,
            "margin": null,
            "display": null,
            "left": null
          }
        },
        "884931900e4f42caad0d488f6735e0f2": {
          "model_module": "@jupyter-widgets/controls",
          "model_name": "ProgressStyleModel",
          "state": {
            "_view_name": "StyleView",
            "_model_name": "ProgressStyleModel",
            "description_width": "",
            "_view_module": "@jupyter-widgets/base",
            "_model_module_version": "1.5.0",
            "_view_count": null,
            "_view_module_version": "1.2.0",
            "bar_color": null,
            "_model_module": "@jupyter-widgets/controls"
          }
        },
        "4224dfc4a2f34f60ba42a481ecde790c": {
          "model_module": "@jupyter-widgets/base",
          "model_name": "LayoutModel",
          "state": {
            "_view_name": "LayoutView",
            "grid_template_rows": null,
            "right": null,
            "justify_content": null,
            "_view_module": "@jupyter-widgets/base",
            "overflow": null,
            "_model_module_version": "1.2.0",
            "_view_count": null,
            "flex_flow": null,
            "width": null,
            "min_width": null,
            "border": null,
            "align_items": null,
            "bottom": null,
            "_model_module": "@jupyter-widgets/base",
            "top": null,
            "grid_column": null,
            "overflow_y": null,
            "overflow_x": null,
            "grid_auto_flow": null,
            "grid_area": null,
            "grid_template_columns": null,
            "flex": null,
            "_model_name": "LayoutModel",
            "justify_items": null,
            "grid_row": null,
            "max_height": null,
            "align_content": null,
            "visibility": null,
            "align_self": null,
            "height": null,
            "min_height": null,
            "padding": null,
            "grid_auto_rows": null,
            "grid_gap": null,
            "max_width": null,
            "order": null,
            "_view_module_version": "1.2.0",
            "grid_template_areas": null,
            "object_position": null,
            "object_fit": null,
            "grid_auto_columns": null,
            "margin": null,
            "display": null,
            "left": null
          }
        },
        "7d471e64be584d28beac8cdb435b0322": {
          "model_module": "@jupyter-widgets/controls",
          "model_name": "DescriptionStyleModel",
          "state": {
            "_view_name": "StyleView",
            "_model_name": "DescriptionStyleModel",
            "description_width": "",
            "_view_module": "@jupyter-widgets/base",
            "_model_module_version": "1.5.0",
            "_view_count": null,
            "_view_module_version": "1.2.0",
            "_model_module": "@jupyter-widgets/controls"
          }
        },
        "7c61988f5c114e16a993414ddf286e79": {
          "model_module": "@jupyter-widgets/base",
          "model_name": "LayoutModel",
          "state": {
            "_view_name": "LayoutView",
            "grid_template_rows": null,
            "right": null,
            "justify_content": null,
            "_view_module": "@jupyter-widgets/base",
            "overflow": null,
            "_model_module_version": "1.2.0",
            "_view_count": null,
            "flex_flow": null,
            "width": null,
            "min_width": null,
            "border": null,
            "align_items": null,
            "bottom": null,
            "_model_module": "@jupyter-widgets/base",
            "top": null,
            "grid_column": null,
            "overflow_y": null,
            "overflow_x": null,
            "grid_auto_flow": null,
            "grid_area": null,
            "grid_template_columns": null,
            "flex": null,
            "_model_name": "LayoutModel",
            "justify_items": null,
            "grid_row": null,
            "max_height": null,
            "align_content": null,
            "visibility": null,
            "align_self": null,
            "height": null,
            "min_height": null,
            "padding": null,
            "grid_auto_rows": null,
            "grid_gap": null,
            "max_width": null,
            "order": null,
            "_view_module_version": "1.2.0",
            "grid_template_areas": null,
            "object_position": null,
            "object_fit": null,
            "grid_auto_columns": null,
            "margin": null,
            "display": null,
            "left": null
          }
        },
        "1c6414d5ab69420480fa0001de592a41": {
          "model_module": "@jupyter-widgets/controls",
          "model_name": "HBoxModel",
          "state": {
            "_view_name": "HBoxView",
            "_dom_classes": [],
            "_model_name": "HBoxModel",
            "_view_module": "@jupyter-widgets/controls",
            "_model_module_version": "1.5.0",
            "_view_count": null,
            "_view_module_version": "1.5.0",
            "box_style": "",
            "layout": "IPY_MODEL_5e0a10dc12074384961189b6903f22e1",
            "_model_module": "@jupyter-widgets/controls",
            "children": [
              "IPY_MODEL_d083cef46d374385924b20fac28a6c97",
              "IPY_MODEL_2bb4025dfdbf4dce9261975cab935f0d",
              "IPY_MODEL_4c683d2ea8614fd89b184128dfc59457"
            ]
          }
        },
        "5e0a10dc12074384961189b6903f22e1": {
          "model_module": "@jupyter-widgets/base",
          "model_name": "LayoutModel",
          "state": {
            "_view_name": "LayoutView",
            "grid_template_rows": null,
            "right": null,
            "justify_content": null,
            "_view_module": "@jupyter-widgets/base",
            "overflow": null,
            "_model_module_version": "1.2.0",
            "_view_count": null,
            "flex_flow": null,
            "width": null,
            "min_width": null,
            "border": null,
            "align_items": null,
            "bottom": null,
            "_model_module": "@jupyter-widgets/base",
            "top": null,
            "grid_column": null,
            "overflow_y": null,
            "overflow_x": null,
            "grid_auto_flow": null,
            "grid_area": null,
            "grid_template_columns": null,
            "flex": null,
            "_model_name": "LayoutModel",
            "justify_items": null,
            "grid_row": null,
            "max_height": null,
            "align_content": null,
            "visibility": null,
            "align_self": null,
            "height": null,
            "min_height": null,
            "padding": null,
            "grid_auto_rows": null,
            "grid_gap": null,
            "max_width": null,
            "order": null,
            "_view_module_version": "1.2.0",
            "grid_template_areas": null,
            "object_position": null,
            "object_fit": null,
            "grid_auto_columns": null,
            "margin": null,
            "display": null,
            "left": null
          }
        },
        "d083cef46d374385924b20fac28a6c97": {
          "model_module": "@jupyter-widgets/controls",
          "model_name": "HTMLModel",
          "state": {
            "_view_name": "HTMLView",
            "style": "IPY_MODEL_934a86975ec94d36841da4fcb5acf7f0",
            "_dom_classes": [],
            "description": "",
            "_model_name": "HTMLModel",
            "placeholder": "​",
            "_view_module": "@jupyter-widgets/controls",
            "_model_module_version": "1.5.0",
            "value": "adding pts of interest for img: 100%",
            "_view_count": null,
            "_view_module_version": "1.5.0",
            "description_tooltip": null,
            "_model_module": "@jupyter-widgets/controls",
            "layout": "IPY_MODEL_b2055be3898b4848b490e9ee79490272"
          }
        },
        "2bb4025dfdbf4dce9261975cab935f0d": {
          "model_module": "@jupyter-widgets/controls",
          "model_name": "FloatProgressModel",
          "state": {
            "_view_name": "ProgressView",
            "style": "IPY_MODEL_a9285563eb6042588aaa6ce37c692ad8",
            "_dom_classes": [],
            "description": "",
            "_model_name": "FloatProgressModel",
            "bar_style": "success",
            "max": 14,
            "_view_module": "@jupyter-widgets/controls",
            "_model_module_version": "1.5.0",
            "value": 14,
            "_view_count": null,
            "_view_module_version": "1.5.0",
            "orientation": "horizontal",
            "min": 0,
            "description_tooltip": null,
            "_model_module": "@jupyter-widgets/controls",
            "layout": "IPY_MODEL_54fe8708df0e4ce7aeca30c15da93820"
          }
        },
        "4c683d2ea8614fd89b184128dfc59457": {
          "model_module": "@jupyter-widgets/controls",
          "model_name": "HTMLModel",
          "state": {
            "_view_name": "HTMLView",
            "style": "IPY_MODEL_aa018cdc72c64a93ac58ff8723d41729",
            "_dom_classes": [],
            "description": "",
            "_model_name": "HTMLModel",
            "placeholder": "​",
            "_view_module": "@jupyter-widgets/controls",
            "_model_module_version": "1.5.0",
            "value": " 14/14 [00:07&lt;00:00,  1.80it/s]",
            "_view_count": null,
            "_view_module_version": "1.5.0",
            "description_tooltip": null,
            "_model_module": "@jupyter-widgets/controls",
            "layout": "IPY_MODEL_83c222a6d1ac4133ae729f0aa8f5a899"
          }
        },
        "934a86975ec94d36841da4fcb5acf7f0": {
          "model_module": "@jupyter-widgets/controls",
          "model_name": "DescriptionStyleModel",
          "state": {
            "_view_name": "StyleView",
            "_model_name": "DescriptionStyleModel",
            "description_width": "",
            "_view_module": "@jupyter-widgets/base",
            "_model_module_version": "1.5.0",
            "_view_count": null,
            "_view_module_version": "1.2.0",
            "_model_module": "@jupyter-widgets/controls"
          }
        },
        "b2055be3898b4848b490e9ee79490272": {
          "model_module": "@jupyter-widgets/base",
          "model_name": "LayoutModel",
          "state": {
            "_view_name": "LayoutView",
            "grid_template_rows": null,
            "right": null,
            "justify_content": null,
            "_view_module": "@jupyter-widgets/base",
            "overflow": null,
            "_model_module_version": "1.2.0",
            "_view_count": null,
            "flex_flow": null,
            "width": null,
            "min_width": null,
            "border": null,
            "align_items": null,
            "bottom": null,
            "_model_module": "@jupyter-widgets/base",
            "top": null,
            "grid_column": null,
            "overflow_y": null,
            "overflow_x": null,
            "grid_auto_flow": null,
            "grid_area": null,
            "grid_template_columns": null,
            "flex": null,
            "_model_name": "LayoutModel",
            "justify_items": null,
            "grid_row": null,
            "max_height": null,
            "align_content": null,
            "visibility": null,
            "align_self": null,
            "height": null,
            "min_height": null,
            "padding": null,
            "grid_auto_rows": null,
            "grid_gap": null,
            "max_width": null,
            "order": null,
            "_view_module_version": "1.2.0",
            "grid_template_areas": null,
            "object_position": null,
            "object_fit": null,
            "grid_auto_columns": null,
            "margin": null,
            "display": null,
            "left": null
          }
        },
        "a9285563eb6042588aaa6ce37c692ad8": {
          "model_module": "@jupyter-widgets/controls",
          "model_name": "ProgressStyleModel",
          "state": {
            "_view_name": "StyleView",
            "_model_name": "ProgressStyleModel",
            "description_width": "",
            "_view_module": "@jupyter-widgets/base",
            "_model_module_version": "1.5.0",
            "_view_count": null,
            "_view_module_version": "1.2.0",
            "bar_color": null,
            "_model_module": "@jupyter-widgets/controls"
          }
        },
        "54fe8708df0e4ce7aeca30c15da93820": {
          "model_module": "@jupyter-widgets/base",
          "model_name": "LayoutModel",
          "state": {
            "_view_name": "LayoutView",
            "grid_template_rows": null,
            "right": null,
            "justify_content": null,
            "_view_module": "@jupyter-widgets/base",
            "overflow": null,
            "_model_module_version": "1.2.0",
            "_view_count": null,
            "flex_flow": null,
            "width": null,
            "min_width": null,
            "border": null,
            "align_items": null,
            "bottom": null,
            "_model_module": "@jupyter-widgets/base",
            "top": null,
            "grid_column": null,
            "overflow_y": null,
            "overflow_x": null,
            "grid_auto_flow": null,
            "grid_area": null,
            "grid_template_columns": null,
            "flex": null,
            "_model_name": "LayoutModel",
            "justify_items": null,
            "grid_row": null,
            "max_height": null,
            "align_content": null,
            "visibility": null,
            "align_self": null,
            "height": null,
            "min_height": null,
            "padding": null,
            "grid_auto_rows": null,
            "grid_gap": null,
            "max_width": null,
            "order": null,
            "_view_module_version": "1.2.0",
            "grid_template_areas": null,
            "object_position": null,
            "object_fit": null,
            "grid_auto_columns": null,
            "margin": null,
            "display": null,
            "left": null
          }
        },
        "aa018cdc72c64a93ac58ff8723d41729": {
          "model_module": "@jupyter-widgets/controls",
          "model_name": "DescriptionStyleModel",
          "state": {
            "_view_name": "StyleView",
            "_model_name": "DescriptionStyleModel",
            "description_width": "",
            "_view_module": "@jupyter-widgets/base",
            "_model_module_version": "1.5.0",
            "_view_count": null,
            "_view_module_version": "1.2.0",
            "_model_module": "@jupyter-widgets/controls"
          }
        },
        "83c222a6d1ac4133ae729f0aa8f5a899": {
          "model_module": "@jupyter-widgets/base",
          "model_name": "LayoutModel",
          "state": {
            "_view_name": "LayoutView",
            "grid_template_rows": null,
            "right": null,
            "justify_content": null,
            "_view_module": "@jupyter-widgets/base",
            "overflow": null,
            "_model_module_version": "1.2.0",
            "_view_count": null,
            "flex_flow": null,
            "width": null,
            "min_width": null,
            "border": null,
            "align_items": null,
            "bottom": null,
            "_model_module": "@jupyter-widgets/base",
            "top": null,
            "grid_column": null,
            "overflow_y": null,
            "overflow_x": null,
            "grid_auto_flow": null,
            "grid_area": null,
            "grid_template_columns": null,
            "flex": null,
            "_model_name": "LayoutModel",
            "justify_items": null,
            "grid_row": null,
            "max_height": null,
            "align_content": null,
            "visibility": null,
            "align_self": null,
            "height": null,
            "min_height": null,
            "padding": null,
            "grid_auto_rows": null,
            "grid_gap": null,
            "max_width": null,
            "order": null,
            "_view_module_version": "1.2.0",
            "grid_template_areas": null,
            "object_position": null,
            "object_fit": null,
            "grid_auto_columns": null,
            "margin": null,
            "display": null,
            "left": null
          }
        },
        "251247735e83453bb6f7fb7544df8419": {
          "model_module": "@jupyter-widgets/controls",
          "model_name": "HBoxModel",
          "state": {
            "_view_name": "HBoxView",
            "_dom_classes": [],
            "_model_name": "HBoxModel",
            "_view_module": "@jupyter-widgets/controls",
            "_model_module_version": "1.5.0",
            "_view_count": null,
            "_view_module_version": "1.5.0",
            "box_style": "",
            "layout": "IPY_MODEL_e7ff02fcb2664796bac721c37e27e43b",
            "_model_module": "@jupyter-widgets/controls",
            "children": [
              "IPY_MODEL_f8e86f9fe04e4badbf91df056ae5acd2",
              "IPY_MODEL_8a91e35da7034dd6844a79ea94564ff1",
              "IPY_MODEL_51fc8b8964ab4eecb49bb106f43f10b3"
            ]
          }
        },
        "e7ff02fcb2664796bac721c37e27e43b": {
          "model_module": "@jupyter-widgets/base",
          "model_name": "LayoutModel",
          "state": {
            "_view_name": "LayoutView",
            "grid_template_rows": null,
            "right": null,
            "justify_content": null,
            "_view_module": "@jupyter-widgets/base",
            "overflow": null,
            "_model_module_version": "1.2.0",
            "_view_count": null,
            "flex_flow": null,
            "width": null,
            "min_width": null,
            "border": null,
            "align_items": null,
            "bottom": null,
            "_model_module": "@jupyter-widgets/base",
            "top": null,
            "grid_column": null,
            "overflow_y": null,
            "overflow_x": null,
            "grid_auto_flow": null,
            "grid_area": null,
            "grid_template_columns": null,
            "flex": null,
            "_model_name": "LayoutModel",
            "justify_items": null,
            "grid_row": null,
            "max_height": null,
            "align_content": null,
            "visibility": null,
            "align_self": null,
            "height": null,
            "min_height": null,
            "padding": null,
            "grid_auto_rows": null,
            "grid_gap": null,
            "max_width": null,
            "order": null,
            "_view_module_version": "1.2.0",
            "grid_template_areas": null,
            "object_position": null,
            "object_fit": null,
            "grid_auto_columns": null,
            "margin": null,
            "display": null,
            "left": null
          }
        },
        "f8e86f9fe04e4badbf91df056ae5acd2": {
          "model_module": "@jupyter-widgets/controls",
          "model_name": "HTMLModel",
          "state": {
            "_view_name": "HTMLView",
            "style": "IPY_MODEL_9534b3a02f094bcfa9485ac013317045",
            "_dom_classes": [],
            "description": "",
            "_model_name": "HTMLModel",
            "placeholder": "​",
            "_view_module": "@jupyter-widgets/controls",
            "_model_module_version": "1.5.0",
            "value": "adding pts of interest for img: 100%",
            "_view_count": null,
            "_view_module_version": "1.5.0",
            "description_tooltip": null,
            "_model_module": "@jupyter-widgets/controls",
            "layout": "IPY_MODEL_8dd47e9ab6b44232ba4aa99ff0552a10"
          }
        },
        "8a91e35da7034dd6844a79ea94564ff1": {
          "model_module": "@jupyter-widgets/controls",
          "model_name": "FloatProgressModel",
          "state": {
            "_view_name": "ProgressView",
            "style": "IPY_MODEL_e7735d0c7ffa4f349910a1afe47a3d42",
            "_dom_classes": [],
            "description": "",
            "_model_name": "FloatProgressModel",
            "bar_style": "success",
            "max": 14,
            "_view_module": "@jupyter-widgets/controls",
            "_model_module_version": "1.5.0",
            "value": 14,
            "_view_count": null,
            "_view_module_version": "1.5.0",
            "orientation": "horizontal",
            "min": 0,
            "description_tooltip": null,
            "_model_module": "@jupyter-widgets/controls",
            "layout": "IPY_MODEL_87aeae53496b491ebf451f74462d1237"
          }
        },
        "51fc8b8964ab4eecb49bb106f43f10b3": {
          "model_module": "@jupyter-widgets/controls",
          "model_name": "HTMLModel",
          "state": {
            "_view_name": "HTMLView",
            "style": "IPY_MODEL_b7e72ac5cfab43c9a547cc6e2366a31f",
            "_dom_classes": [],
            "description": "",
            "_model_name": "HTMLModel",
            "placeholder": "​",
            "_view_module": "@jupyter-widgets/controls",
            "_model_module_version": "1.5.0",
            "value": " 14/14 [00:07&lt;00:00,  1.69it/s]",
            "_view_count": null,
            "_view_module_version": "1.5.0",
            "description_tooltip": null,
            "_model_module": "@jupyter-widgets/controls",
            "layout": "IPY_MODEL_13ab0c6f75db493ba6500770918ac218"
          }
        },
        "9534b3a02f094bcfa9485ac013317045": {
          "model_module": "@jupyter-widgets/controls",
          "model_name": "DescriptionStyleModel",
          "state": {
            "_view_name": "StyleView",
            "_model_name": "DescriptionStyleModel",
            "description_width": "",
            "_view_module": "@jupyter-widgets/base",
            "_model_module_version": "1.5.0",
            "_view_count": null,
            "_view_module_version": "1.2.0",
            "_model_module": "@jupyter-widgets/controls"
          }
        },
        "8dd47e9ab6b44232ba4aa99ff0552a10": {
          "model_module": "@jupyter-widgets/base",
          "model_name": "LayoutModel",
          "state": {
            "_view_name": "LayoutView",
            "grid_template_rows": null,
            "right": null,
            "justify_content": null,
            "_view_module": "@jupyter-widgets/base",
            "overflow": null,
            "_model_module_version": "1.2.0",
            "_view_count": null,
            "flex_flow": null,
            "width": null,
            "min_width": null,
            "border": null,
            "align_items": null,
            "bottom": null,
            "_model_module": "@jupyter-widgets/base",
            "top": null,
            "grid_column": null,
            "overflow_y": null,
            "overflow_x": null,
            "grid_auto_flow": null,
            "grid_area": null,
            "grid_template_columns": null,
            "flex": null,
            "_model_name": "LayoutModel",
            "justify_items": null,
            "grid_row": null,
            "max_height": null,
            "align_content": null,
            "visibility": null,
            "align_self": null,
            "height": null,
            "min_height": null,
            "padding": null,
            "grid_auto_rows": null,
            "grid_gap": null,
            "max_width": null,
            "order": null,
            "_view_module_version": "1.2.0",
            "grid_template_areas": null,
            "object_position": null,
            "object_fit": null,
            "grid_auto_columns": null,
            "margin": null,
            "display": null,
            "left": null
          }
        },
        "e7735d0c7ffa4f349910a1afe47a3d42": {
          "model_module": "@jupyter-widgets/controls",
          "model_name": "ProgressStyleModel",
          "state": {
            "_view_name": "StyleView",
            "_model_name": "ProgressStyleModel",
            "description_width": "",
            "_view_module": "@jupyter-widgets/base",
            "_model_module_version": "1.5.0",
            "_view_count": null,
            "_view_module_version": "1.2.0",
            "bar_color": null,
            "_model_module": "@jupyter-widgets/controls"
          }
        },
        "87aeae53496b491ebf451f74462d1237": {
          "model_module": "@jupyter-widgets/base",
          "model_name": "LayoutModel",
          "state": {
            "_view_name": "LayoutView",
            "grid_template_rows": null,
            "right": null,
            "justify_content": null,
            "_view_module": "@jupyter-widgets/base",
            "overflow": null,
            "_model_module_version": "1.2.0",
            "_view_count": null,
            "flex_flow": null,
            "width": null,
            "min_width": null,
            "border": null,
            "align_items": null,
            "bottom": null,
            "_model_module": "@jupyter-widgets/base",
            "top": null,
            "grid_column": null,
            "overflow_y": null,
            "overflow_x": null,
            "grid_auto_flow": null,
            "grid_area": null,
            "grid_template_columns": null,
            "flex": null,
            "_model_name": "LayoutModel",
            "justify_items": null,
            "grid_row": null,
            "max_height": null,
            "align_content": null,
            "visibility": null,
            "align_self": null,
            "height": null,
            "min_height": null,
            "padding": null,
            "grid_auto_rows": null,
            "grid_gap": null,
            "max_width": null,
            "order": null,
            "_view_module_version": "1.2.0",
            "grid_template_areas": null,
            "object_position": null,
            "object_fit": null,
            "grid_auto_columns": null,
            "margin": null,
            "display": null,
            "left": null
          }
        },
        "b7e72ac5cfab43c9a547cc6e2366a31f": {
          "model_module": "@jupyter-widgets/controls",
          "model_name": "DescriptionStyleModel",
          "state": {
            "_view_name": "StyleView",
            "_model_name": "DescriptionStyleModel",
            "description_width": "",
            "_view_module": "@jupyter-widgets/base",
            "_model_module_version": "1.5.0",
            "_view_count": null,
            "_view_module_version": "1.2.0",
            "_model_module": "@jupyter-widgets/controls"
          }
        },
        "13ab0c6f75db493ba6500770918ac218": {
          "model_module": "@jupyter-widgets/base",
          "model_name": "LayoutModel",
          "state": {
            "_view_name": "LayoutView",
            "grid_template_rows": null,
            "right": null,
            "justify_content": null,
            "_view_module": "@jupyter-widgets/base",
            "overflow": null,
            "_model_module_version": "1.2.0",
            "_view_count": null,
            "flex_flow": null,
            "width": null,
            "min_width": null,
            "border": null,
            "align_items": null,
            "bottom": null,
            "_model_module": "@jupyter-widgets/base",
            "top": null,
            "grid_column": null,
            "overflow_y": null,
            "overflow_x": null,
            "grid_auto_flow": null,
            "grid_area": null,
            "grid_template_columns": null,
            "flex": null,
            "_model_name": "LayoutModel",
            "justify_items": null,
            "grid_row": null,
            "max_height": null,
            "align_content": null,
            "visibility": null,
            "align_self": null,
            "height": null,
            "min_height": null,
            "padding": null,
            "grid_auto_rows": null,
            "grid_gap": null,
            "max_width": null,
            "order": null,
            "_view_module_version": "1.2.0",
            "grid_template_areas": null,
            "object_position": null,
            "object_fit": null,
            "grid_auto_columns": null,
            "margin": null,
            "display": null,
            "left": null
          }
        },
        "3fefeb6785b34faca8a04fc05fe224e9": {
          "model_module": "@jupyter-widgets/controls",
          "model_name": "HBoxModel",
          "state": {
            "_view_name": "HBoxView",
            "_dom_classes": [],
            "_model_name": "HBoxModel",
            "_view_module": "@jupyter-widgets/controls",
            "_model_module_version": "1.5.0",
            "_view_count": null,
            "_view_module_version": "1.5.0",
            "box_style": "",
            "layout": "IPY_MODEL_958bd13f128a4c58a18fc37a289d67ef",
            "_model_module": "@jupyter-widgets/controls",
            "children": [
              "IPY_MODEL_1bb2779742604fadafafcf6c4588710f",
              "IPY_MODEL_ebe4cbadf3d94e55bf54895a5fb68e03",
              "IPY_MODEL_2173593f64d34ddcacee0aa78073a47b"
            ]
          }
        },
        "958bd13f128a4c58a18fc37a289d67ef": {
          "model_module": "@jupyter-widgets/base",
          "model_name": "LayoutModel",
          "state": {
            "_view_name": "LayoutView",
            "grid_template_rows": null,
            "right": null,
            "justify_content": null,
            "_view_module": "@jupyter-widgets/base",
            "overflow": null,
            "_model_module_version": "1.2.0",
            "_view_count": null,
            "flex_flow": null,
            "width": null,
            "min_width": null,
            "border": null,
            "align_items": null,
            "bottom": null,
            "_model_module": "@jupyter-widgets/base",
            "top": null,
            "grid_column": null,
            "overflow_y": null,
            "overflow_x": null,
            "grid_auto_flow": null,
            "grid_area": null,
            "grid_template_columns": null,
            "flex": null,
            "_model_name": "LayoutModel",
            "justify_items": null,
            "grid_row": null,
            "max_height": null,
            "align_content": null,
            "visibility": null,
            "align_self": null,
            "height": null,
            "min_height": null,
            "padding": null,
            "grid_auto_rows": null,
            "grid_gap": null,
            "max_width": null,
            "order": null,
            "_view_module_version": "1.2.0",
            "grid_template_areas": null,
            "object_position": null,
            "object_fit": null,
            "grid_auto_columns": null,
            "margin": null,
            "display": null,
            "left": null
          }
        },
        "1bb2779742604fadafafcf6c4588710f": {
          "model_module": "@jupyter-widgets/controls",
          "model_name": "HTMLModel",
          "state": {
            "_view_name": "HTMLView",
            "style": "IPY_MODEL_44e69fdc1d994abf9e6cc691cae908df",
            "_dom_classes": [],
            "description": "",
            "_model_name": "HTMLModel",
            "placeholder": "​",
            "_view_module": "@jupyter-widgets/controls",
            "_model_module_version": "1.5.0",
            "value": "adding pts of interest for img: 100%",
            "_view_count": null,
            "_view_module_version": "1.5.0",
            "description_tooltip": null,
            "_model_module": "@jupyter-widgets/controls",
            "layout": "IPY_MODEL_a638f131b44f410894ad7edd92efc82a"
          }
        },
        "ebe4cbadf3d94e55bf54895a5fb68e03": {
          "model_module": "@jupyter-widgets/controls",
          "model_name": "FloatProgressModel",
          "state": {
            "_view_name": "ProgressView",
            "style": "IPY_MODEL_60f2d96fe0d04ddfbb3e4c5cf1979cec",
            "_dom_classes": [],
            "description": "",
            "_model_name": "FloatProgressModel",
            "bar_style": "success",
            "max": 14,
            "_view_module": "@jupyter-widgets/controls",
            "_model_module_version": "1.5.0",
            "value": 14,
            "_view_count": null,
            "_view_module_version": "1.5.0",
            "orientation": "horizontal",
            "min": 0,
            "description_tooltip": null,
            "_model_module": "@jupyter-widgets/controls",
            "layout": "IPY_MODEL_9443b4616b264347ba4aa64db8a98309"
          }
        },
        "2173593f64d34ddcacee0aa78073a47b": {
          "model_module": "@jupyter-widgets/controls",
          "model_name": "HTMLModel",
          "state": {
            "_view_name": "HTMLView",
            "style": "IPY_MODEL_ca92ef9f149540f5832a390646bb7ba6",
            "_dom_classes": [],
            "description": "",
            "_model_name": "HTMLModel",
            "placeholder": "​",
            "_view_module": "@jupyter-widgets/controls",
            "_model_module_version": "1.5.0",
            "value": " 14/14 [00:07&lt;00:00,  1.77it/s]",
            "_view_count": null,
            "_view_module_version": "1.5.0",
            "description_tooltip": null,
            "_model_module": "@jupyter-widgets/controls",
            "layout": "IPY_MODEL_74abd979b0d8481a8bec61f84be7c9ff"
          }
        },
        "44e69fdc1d994abf9e6cc691cae908df": {
          "model_module": "@jupyter-widgets/controls",
          "model_name": "DescriptionStyleModel",
          "state": {
            "_view_name": "StyleView",
            "_model_name": "DescriptionStyleModel",
            "description_width": "",
            "_view_module": "@jupyter-widgets/base",
            "_model_module_version": "1.5.0",
            "_view_count": null,
            "_view_module_version": "1.2.0",
            "_model_module": "@jupyter-widgets/controls"
          }
        },
        "a638f131b44f410894ad7edd92efc82a": {
          "model_module": "@jupyter-widgets/base",
          "model_name": "LayoutModel",
          "state": {
            "_view_name": "LayoutView",
            "grid_template_rows": null,
            "right": null,
            "justify_content": null,
            "_view_module": "@jupyter-widgets/base",
            "overflow": null,
            "_model_module_version": "1.2.0",
            "_view_count": null,
            "flex_flow": null,
            "width": null,
            "min_width": null,
            "border": null,
            "align_items": null,
            "bottom": null,
            "_model_module": "@jupyter-widgets/base",
            "top": null,
            "grid_column": null,
            "overflow_y": null,
            "overflow_x": null,
            "grid_auto_flow": null,
            "grid_area": null,
            "grid_template_columns": null,
            "flex": null,
            "_model_name": "LayoutModel",
            "justify_items": null,
            "grid_row": null,
            "max_height": null,
            "align_content": null,
            "visibility": null,
            "align_self": null,
            "height": null,
            "min_height": null,
            "padding": null,
            "grid_auto_rows": null,
            "grid_gap": null,
            "max_width": null,
            "order": null,
            "_view_module_version": "1.2.0",
            "grid_template_areas": null,
            "object_position": null,
            "object_fit": null,
            "grid_auto_columns": null,
            "margin": null,
            "display": null,
            "left": null
          }
        },
        "60f2d96fe0d04ddfbb3e4c5cf1979cec": {
          "model_module": "@jupyter-widgets/controls",
          "model_name": "ProgressStyleModel",
          "state": {
            "_view_name": "StyleView",
            "_model_name": "ProgressStyleModel",
            "description_width": "",
            "_view_module": "@jupyter-widgets/base",
            "_model_module_version": "1.5.0",
            "_view_count": null,
            "_view_module_version": "1.2.0",
            "bar_color": null,
            "_model_module": "@jupyter-widgets/controls"
          }
        },
        "9443b4616b264347ba4aa64db8a98309": {
          "model_module": "@jupyter-widgets/base",
          "model_name": "LayoutModel",
          "state": {
            "_view_name": "LayoutView",
            "grid_template_rows": null,
            "right": null,
            "justify_content": null,
            "_view_module": "@jupyter-widgets/base",
            "overflow": null,
            "_model_module_version": "1.2.0",
            "_view_count": null,
            "flex_flow": null,
            "width": null,
            "min_width": null,
            "border": null,
            "align_items": null,
            "bottom": null,
            "_model_module": "@jupyter-widgets/base",
            "top": null,
            "grid_column": null,
            "overflow_y": null,
            "overflow_x": null,
            "grid_auto_flow": null,
            "grid_area": null,
            "grid_template_columns": null,
            "flex": null,
            "_model_name": "LayoutModel",
            "justify_items": null,
            "grid_row": null,
            "max_height": null,
            "align_content": null,
            "visibility": null,
            "align_self": null,
            "height": null,
            "min_height": null,
            "padding": null,
            "grid_auto_rows": null,
            "grid_gap": null,
            "max_width": null,
            "order": null,
            "_view_module_version": "1.2.0",
            "grid_template_areas": null,
            "object_position": null,
            "object_fit": null,
            "grid_auto_columns": null,
            "margin": null,
            "display": null,
            "left": null
          }
        },
        "ca92ef9f149540f5832a390646bb7ba6": {
          "model_module": "@jupyter-widgets/controls",
          "model_name": "DescriptionStyleModel",
          "state": {
            "_view_name": "StyleView",
            "_model_name": "DescriptionStyleModel",
            "description_width": "",
            "_view_module": "@jupyter-widgets/base",
            "_model_module_version": "1.5.0",
            "_view_count": null,
            "_view_module_version": "1.2.0",
            "_model_module": "@jupyter-widgets/controls"
          }
        },
        "74abd979b0d8481a8bec61f84be7c9ff": {
          "model_module": "@jupyter-widgets/base",
          "model_name": "LayoutModel",
          "state": {
            "_view_name": "LayoutView",
            "grid_template_rows": null,
            "right": null,
            "justify_content": null,
            "_view_module": "@jupyter-widgets/base",
            "overflow": null,
            "_model_module_version": "1.2.0",
            "_view_count": null,
            "flex_flow": null,
            "width": null,
            "min_width": null,
            "border": null,
            "align_items": null,
            "bottom": null,
            "_model_module": "@jupyter-widgets/base",
            "top": null,
            "grid_column": null,
            "overflow_y": null,
            "overflow_x": null,
            "grid_auto_flow": null,
            "grid_area": null,
            "grid_template_columns": null,
            "flex": null,
            "_model_name": "LayoutModel",
            "justify_items": null,
            "grid_row": null,
            "max_height": null,
            "align_content": null,
            "visibility": null,
            "align_self": null,
            "height": null,
            "min_height": null,
            "padding": null,
            "grid_auto_rows": null,
            "grid_gap": null,
            "max_width": null,
            "order": null,
            "_view_module_version": "1.2.0",
            "grid_template_areas": null,
            "object_position": null,
            "object_fit": null,
            "grid_auto_columns": null,
            "margin": null,
            "display": null,
            "left": null
          }
        },
        "573854f843a8474d99cb4e3a88c49dc5": {
          "model_module": "@jupyter-widgets/controls",
          "model_name": "HBoxModel",
          "state": {
            "_view_name": "HBoxView",
            "_dom_classes": [],
            "_model_name": "HBoxModel",
            "_view_module": "@jupyter-widgets/controls",
            "_model_module_version": "1.5.0",
            "_view_count": null,
            "_view_module_version": "1.5.0",
            "box_style": "",
            "layout": "IPY_MODEL_8d9b2159597d4546a6c4da769cd52c5f",
            "_model_module": "@jupyter-widgets/controls",
            "children": [
              "IPY_MODEL_819f3fbe6c3c451eaccc88510574001a",
              "IPY_MODEL_cd704a633b6940a3923cc5107843539d",
              "IPY_MODEL_37361bc87ce043f99232fef24b6f8c90"
            ]
          }
        },
        "8d9b2159597d4546a6c4da769cd52c5f": {
          "model_module": "@jupyter-widgets/base",
          "model_name": "LayoutModel",
          "state": {
            "_view_name": "LayoutView",
            "grid_template_rows": null,
            "right": null,
            "justify_content": null,
            "_view_module": "@jupyter-widgets/base",
            "overflow": null,
            "_model_module_version": "1.2.0",
            "_view_count": null,
            "flex_flow": null,
            "width": null,
            "min_width": null,
            "border": null,
            "align_items": null,
            "bottom": null,
            "_model_module": "@jupyter-widgets/base",
            "top": null,
            "grid_column": null,
            "overflow_y": null,
            "overflow_x": null,
            "grid_auto_flow": null,
            "grid_area": null,
            "grid_template_columns": null,
            "flex": null,
            "_model_name": "LayoutModel",
            "justify_items": null,
            "grid_row": null,
            "max_height": null,
            "align_content": null,
            "visibility": null,
            "align_self": null,
            "height": null,
            "min_height": null,
            "padding": null,
            "grid_auto_rows": null,
            "grid_gap": null,
            "max_width": null,
            "order": null,
            "_view_module_version": "1.2.0",
            "grid_template_areas": null,
            "object_position": null,
            "object_fit": null,
            "grid_auto_columns": null,
            "margin": null,
            "display": null,
            "left": null
          }
        },
        "819f3fbe6c3c451eaccc88510574001a": {
          "model_module": "@jupyter-widgets/controls",
          "model_name": "HTMLModel",
          "state": {
            "_view_name": "HTMLView",
            "style": "IPY_MODEL_28f605b0e82c4a7f8135d364cc806933",
            "_dom_classes": [],
            "description": "",
            "_model_name": "HTMLModel",
            "placeholder": "​",
            "_view_module": "@jupyter-widgets/controls",
            "_model_module_version": "1.5.0",
            "value": "adding pts of interest for img: 100%",
            "_view_count": null,
            "_view_module_version": "1.5.0",
            "description_tooltip": null,
            "_model_module": "@jupyter-widgets/controls",
            "layout": "IPY_MODEL_df3e2c53037847a1aae60663afc46469"
          }
        },
        "cd704a633b6940a3923cc5107843539d": {
          "model_module": "@jupyter-widgets/controls",
          "model_name": "FloatProgressModel",
          "state": {
            "_view_name": "ProgressView",
            "style": "IPY_MODEL_9765f512f0154694a80666976285f1ee",
            "_dom_classes": [],
            "description": "",
            "_model_name": "FloatProgressModel",
            "bar_style": "success",
            "max": 14,
            "_view_module": "@jupyter-widgets/controls",
            "_model_module_version": "1.5.0",
            "value": 14,
            "_view_count": null,
            "_view_module_version": "1.5.0",
            "orientation": "horizontal",
            "min": 0,
            "description_tooltip": null,
            "_model_module": "@jupyter-widgets/controls",
            "layout": "IPY_MODEL_b115a722e7c24ffda14853cf8739380d"
          }
        },
        "37361bc87ce043f99232fef24b6f8c90": {
          "model_module": "@jupyter-widgets/controls",
          "model_name": "HTMLModel",
          "state": {
            "_view_name": "HTMLView",
            "style": "IPY_MODEL_804d3bed0e4d4233885b97baf87ec74c",
            "_dom_classes": [],
            "description": "",
            "_model_name": "HTMLModel",
            "placeholder": "​",
            "_view_module": "@jupyter-widgets/controls",
            "_model_module_version": "1.5.0",
            "value": " 14/14 [00:07&lt;00:00,  1.74it/s]",
            "_view_count": null,
            "_view_module_version": "1.5.0",
            "description_tooltip": null,
            "_model_module": "@jupyter-widgets/controls",
            "layout": "IPY_MODEL_2ded77cf347a4ebc9f57e85726c4b5bc"
          }
        },
        "28f605b0e82c4a7f8135d364cc806933": {
          "model_module": "@jupyter-widgets/controls",
          "model_name": "DescriptionStyleModel",
          "state": {
            "_view_name": "StyleView",
            "_model_name": "DescriptionStyleModel",
            "description_width": "",
            "_view_module": "@jupyter-widgets/base",
            "_model_module_version": "1.5.0",
            "_view_count": null,
            "_view_module_version": "1.2.0",
            "_model_module": "@jupyter-widgets/controls"
          }
        },
        "df3e2c53037847a1aae60663afc46469": {
          "model_module": "@jupyter-widgets/base",
          "model_name": "LayoutModel",
          "state": {
            "_view_name": "LayoutView",
            "grid_template_rows": null,
            "right": null,
            "justify_content": null,
            "_view_module": "@jupyter-widgets/base",
            "overflow": null,
            "_model_module_version": "1.2.0",
            "_view_count": null,
            "flex_flow": null,
            "width": null,
            "min_width": null,
            "border": null,
            "align_items": null,
            "bottom": null,
            "_model_module": "@jupyter-widgets/base",
            "top": null,
            "grid_column": null,
            "overflow_y": null,
            "overflow_x": null,
            "grid_auto_flow": null,
            "grid_area": null,
            "grid_template_columns": null,
            "flex": null,
            "_model_name": "LayoutModel",
            "justify_items": null,
            "grid_row": null,
            "max_height": null,
            "align_content": null,
            "visibility": null,
            "align_self": null,
            "height": null,
            "min_height": null,
            "padding": null,
            "grid_auto_rows": null,
            "grid_gap": null,
            "max_width": null,
            "order": null,
            "_view_module_version": "1.2.0",
            "grid_template_areas": null,
            "object_position": null,
            "object_fit": null,
            "grid_auto_columns": null,
            "margin": null,
            "display": null,
            "left": null
          }
        },
        "9765f512f0154694a80666976285f1ee": {
          "model_module": "@jupyter-widgets/controls",
          "model_name": "ProgressStyleModel",
          "state": {
            "_view_name": "StyleView",
            "_model_name": "ProgressStyleModel",
            "description_width": "",
            "_view_module": "@jupyter-widgets/base",
            "_model_module_version": "1.5.0",
            "_view_count": null,
            "_view_module_version": "1.2.0",
            "bar_color": null,
            "_model_module": "@jupyter-widgets/controls"
          }
        },
        "b115a722e7c24ffda14853cf8739380d": {
          "model_module": "@jupyter-widgets/base",
          "model_name": "LayoutModel",
          "state": {
            "_view_name": "LayoutView",
            "grid_template_rows": null,
            "right": null,
            "justify_content": null,
            "_view_module": "@jupyter-widgets/base",
            "overflow": null,
            "_model_module_version": "1.2.0",
            "_view_count": null,
            "flex_flow": null,
            "width": null,
            "min_width": null,
            "border": null,
            "align_items": null,
            "bottom": null,
            "_model_module": "@jupyter-widgets/base",
            "top": null,
            "grid_column": null,
            "overflow_y": null,
            "overflow_x": null,
            "grid_auto_flow": null,
            "grid_area": null,
            "grid_template_columns": null,
            "flex": null,
            "_model_name": "LayoutModel",
            "justify_items": null,
            "grid_row": null,
            "max_height": null,
            "align_content": null,
            "visibility": null,
            "align_self": null,
            "height": null,
            "min_height": null,
            "padding": null,
            "grid_auto_rows": null,
            "grid_gap": null,
            "max_width": null,
            "order": null,
            "_view_module_version": "1.2.0",
            "grid_template_areas": null,
            "object_position": null,
            "object_fit": null,
            "grid_auto_columns": null,
            "margin": null,
            "display": null,
            "left": null
          }
        },
        "804d3bed0e4d4233885b97baf87ec74c": {
          "model_module": "@jupyter-widgets/controls",
          "model_name": "DescriptionStyleModel",
          "state": {
            "_view_name": "StyleView",
            "_model_name": "DescriptionStyleModel",
            "description_width": "",
            "_view_module": "@jupyter-widgets/base",
            "_model_module_version": "1.5.0",
            "_view_count": null,
            "_view_module_version": "1.2.0",
            "_model_module": "@jupyter-widgets/controls"
          }
        },
        "2ded77cf347a4ebc9f57e85726c4b5bc": {
          "model_module": "@jupyter-widgets/base",
          "model_name": "LayoutModel",
          "state": {
            "_view_name": "LayoutView",
            "grid_template_rows": null,
            "right": null,
            "justify_content": null,
            "_view_module": "@jupyter-widgets/base",
            "overflow": null,
            "_model_module_version": "1.2.0",
            "_view_count": null,
            "flex_flow": null,
            "width": null,
            "min_width": null,
            "border": null,
            "align_items": null,
            "bottom": null,
            "_model_module": "@jupyter-widgets/base",
            "top": null,
            "grid_column": null,
            "overflow_y": null,
            "overflow_x": null,
            "grid_auto_flow": null,
            "grid_area": null,
            "grid_template_columns": null,
            "flex": null,
            "_model_name": "LayoutModel",
            "justify_items": null,
            "grid_row": null,
            "max_height": null,
            "align_content": null,
            "visibility": null,
            "align_self": null,
            "height": null,
            "min_height": null,
            "padding": null,
            "grid_auto_rows": null,
            "grid_gap": null,
            "max_width": null,
            "order": null,
            "_view_module_version": "1.2.0",
            "grid_template_areas": null,
            "object_position": null,
            "object_fit": null,
            "grid_auto_columns": null,
            "margin": null,
            "display": null,
            "left": null
          }
        },
        "57a65da318f843e582586c859703f579": {
          "model_module": "@jupyter-widgets/controls",
          "model_name": "HBoxModel",
          "state": {
            "_view_name": "HBoxView",
            "_dom_classes": [],
            "_model_name": "HBoxModel",
            "_view_module": "@jupyter-widgets/controls",
            "_model_module_version": "1.5.0",
            "_view_count": null,
            "_view_module_version": "1.5.0",
            "box_style": "",
            "layout": "IPY_MODEL_9be2f7204ffb4cefb3f6b7e0457f148e",
            "_model_module": "@jupyter-widgets/controls",
            "children": [
              "IPY_MODEL_3041798c36194295bd794a04bef83484",
              "IPY_MODEL_ea7678cda0a3465786b5a88ec9c0fcf2",
              "IPY_MODEL_396c549e206f4b11a430e021c4902fea"
            ]
          }
        },
        "9be2f7204ffb4cefb3f6b7e0457f148e": {
          "model_module": "@jupyter-widgets/base",
          "model_name": "LayoutModel",
          "state": {
            "_view_name": "LayoutView",
            "grid_template_rows": null,
            "right": null,
            "justify_content": null,
            "_view_module": "@jupyter-widgets/base",
            "overflow": null,
            "_model_module_version": "1.2.0",
            "_view_count": null,
            "flex_flow": null,
            "width": null,
            "min_width": null,
            "border": null,
            "align_items": null,
            "bottom": null,
            "_model_module": "@jupyter-widgets/base",
            "top": null,
            "grid_column": null,
            "overflow_y": null,
            "overflow_x": null,
            "grid_auto_flow": null,
            "grid_area": null,
            "grid_template_columns": null,
            "flex": null,
            "_model_name": "LayoutModel",
            "justify_items": null,
            "grid_row": null,
            "max_height": null,
            "align_content": null,
            "visibility": null,
            "align_self": null,
            "height": null,
            "min_height": null,
            "padding": null,
            "grid_auto_rows": null,
            "grid_gap": null,
            "max_width": null,
            "order": null,
            "_view_module_version": "1.2.0",
            "grid_template_areas": null,
            "object_position": null,
            "object_fit": null,
            "grid_auto_columns": null,
            "margin": null,
            "display": null,
            "left": null
          }
        },
        "3041798c36194295bd794a04bef83484": {
          "model_module": "@jupyter-widgets/controls",
          "model_name": "HTMLModel",
          "state": {
            "_view_name": "HTMLView",
            "style": "IPY_MODEL_86f27c85958a4a56939ac57f531b6d64",
            "_dom_classes": [],
            "description": "",
            "_model_name": "HTMLModel",
            "placeholder": "​",
            "_view_module": "@jupyter-widgets/controls",
            "_model_module_version": "1.5.0",
            "value": "adding pts of interest for img: 100%",
            "_view_count": null,
            "_view_module_version": "1.5.0",
            "description_tooltip": null,
            "_model_module": "@jupyter-widgets/controls",
            "layout": "IPY_MODEL_1df19edd4d254b088ace02a278db4ab9"
          }
        },
        "ea7678cda0a3465786b5a88ec9c0fcf2": {
          "model_module": "@jupyter-widgets/controls",
          "model_name": "FloatProgressModel",
          "state": {
            "_view_name": "ProgressView",
            "style": "IPY_MODEL_103b463e1f3d4040af636324b7e60fb2",
            "_dom_classes": [],
            "description": "",
            "_model_name": "FloatProgressModel",
            "bar_style": "success",
            "max": 14,
            "_view_module": "@jupyter-widgets/controls",
            "_model_module_version": "1.5.0",
            "value": 14,
            "_view_count": null,
            "_view_module_version": "1.5.0",
            "orientation": "horizontal",
            "min": 0,
            "description_tooltip": null,
            "_model_module": "@jupyter-widgets/controls",
            "layout": "IPY_MODEL_0aeac72fb2a04316a7791dc8ce9bb8bc"
          }
        },
        "396c549e206f4b11a430e021c4902fea": {
          "model_module": "@jupyter-widgets/controls",
          "model_name": "HTMLModel",
          "state": {
            "_view_name": "HTMLView",
            "style": "IPY_MODEL_cea8e11f9dc840e1b04881d234c64482",
            "_dom_classes": [],
            "description": "",
            "_model_name": "HTMLModel",
            "placeholder": "​",
            "_view_module": "@jupyter-widgets/controls",
            "_model_module_version": "1.5.0",
            "value": " 14/14 [00:07&lt;00:00,  1.70it/s]",
            "_view_count": null,
            "_view_module_version": "1.5.0",
            "description_tooltip": null,
            "_model_module": "@jupyter-widgets/controls",
            "layout": "IPY_MODEL_b27e79265e034310bb8659973b00128d"
          }
        },
        "86f27c85958a4a56939ac57f531b6d64": {
          "model_module": "@jupyter-widgets/controls",
          "model_name": "DescriptionStyleModel",
          "state": {
            "_view_name": "StyleView",
            "_model_name": "DescriptionStyleModel",
            "description_width": "",
            "_view_module": "@jupyter-widgets/base",
            "_model_module_version": "1.5.0",
            "_view_count": null,
            "_view_module_version": "1.2.0",
            "_model_module": "@jupyter-widgets/controls"
          }
        },
        "1df19edd4d254b088ace02a278db4ab9": {
          "model_module": "@jupyter-widgets/base",
          "model_name": "LayoutModel",
          "state": {
            "_view_name": "LayoutView",
            "grid_template_rows": null,
            "right": null,
            "justify_content": null,
            "_view_module": "@jupyter-widgets/base",
            "overflow": null,
            "_model_module_version": "1.2.0",
            "_view_count": null,
            "flex_flow": null,
            "width": null,
            "min_width": null,
            "border": null,
            "align_items": null,
            "bottom": null,
            "_model_module": "@jupyter-widgets/base",
            "top": null,
            "grid_column": null,
            "overflow_y": null,
            "overflow_x": null,
            "grid_auto_flow": null,
            "grid_area": null,
            "grid_template_columns": null,
            "flex": null,
            "_model_name": "LayoutModel",
            "justify_items": null,
            "grid_row": null,
            "max_height": null,
            "align_content": null,
            "visibility": null,
            "align_self": null,
            "height": null,
            "min_height": null,
            "padding": null,
            "grid_auto_rows": null,
            "grid_gap": null,
            "max_width": null,
            "order": null,
            "_view_module_version": "1.2.0",
            "grid_template_areas": null,
            "object_position": null,
            "object_fit": null,
            "grid_auto_columns": null,
            "margin": null,
            "display": null,
            "left": null
          }
        },
        "103b463e1f3d4040af636324b7e60fb2": {
          "model_module": "@jupyter-widgets/controls",
          "model_name": "ProgressStyleModel",
          "state": {
            "_view_name": "StyleView",
            "_model_name": "ProgressStyleModel",
            "description_width": "",
            "_view_module": "@jupyter-widgets/base",
            "_model_module_version": "1.5.0",
            "_view_count": null,
            "_view_module_version": "1.2.0",
            "bar_color": null,
            "_model_module": "@jupyter-widgets/controls"
          }
        },
        "0aeac72fb2a04316a7791dc8ce9bb8bc": {
          "model_module": "@jupyter-widgets/base",
          "model_name": "LayoutModel",
          "state": {
            "_view_name": "LayoutView",
            "grid_template_rows": null,
            "right": null,
            "justify_content": null,
            "_view_module": "@jupyter-widgets/base",
            "overflow": null,
            "_model_module_version": "1.2.0",
            "_view_count": null,
            "flex_flow": null,
            "width": null,
            "min_width": null,
            "border": null,
            "align_items": null,
            "bottom": null,
            "_model_module": "@jupyter-widgets/base",
            "top": null,
            "grid_column": null,
            "overflow_y": null,
            "overflow_x": null,
            "grid_auto_flow": null,
            "grid_area": null,
            "grid_template_columns": null,
            "flex": null,
            "_model_name": "LayoutModel",
            "justify_items": null,
            "grid_row": null,
            "max_height": null,
            "align_content": null,
            "visibility": null,
            "align_self": null,
            "height": null,
            "min_height": null,
            "padding": null,
            "grid_auto_rows": null,
            "grid_gap": null,
            "max_width": null,
            "order": null,
            "_view_module_version": "1.2.0",
            "grid_template_areas": null,
            "object_position": null,
            "object_fit": null,
            "grid_auto_columns": null,
            "margin": null,
            "display": null,
            "left": null
          }
        },
        "cea8e11f9dc840e1b04881d234c64482": {
          "model_module": "@jupyter-widgets/controls",
          "model_name": "DescriptionStyleModel",
          "state": {
            "_view_name": "StyleView",
            "_model_name": "DescriptionStyleModel",
            "description_width": "",
            "_view_module": "@jupyter-widgets/base",
            "_model_module_version": "1.5.0",
            "_view_count": null,
            "_view_module_version": "1.2.0",
            "_model_module": "@jupyter-widgets/controls"
          }
        },
        "b27e79265e034310bb8659973b00128d": {
          "model_module": "@jupyter-widgets/base",
          "model_name": "LayoutModel",
          "state": {
            "_view_name": "LayoutView",
            "grid_template_rows": null,
            "right": null,
            "justify_content": null,
            "_view_module": "@jupyter-widgets/base",
            "overflow": null,
            "_model_module_version": "1.2.0",
            "_view_count": null,
            "flex_flow": null,
            "width": null,
            "min_width": null,
            "border": null,
            "align_items": null,
            "bottom": null,
            "_model_module": "@jupyter-widgets/base",
            "top": null,
            "grid_column": null,
            "overflow_y": null,
            "overflow_x": null,
            "grid_auto_flow": null,
            "grid_area": null,
            "grid_template_columns": null,
            "flex": null,
            "_model_name": "LayoutModel",
            "justify_items": null,
            "grid_row": null,
            "max_height": null,
            "align_content": null,
            "visibility": null,
            "align_self": null,
            "height": null,
            "min_height": null,
            "padding": null,
            "grid_auto_rows": null,
            "grid_gap": null,
            "max_width": null,
            "order": null,
            "_view_module_version": "1.2.0",
            "grid_template_areas": null,
            "object_position": null,
            "object_fit": null,
            "grid_auto_columns": null,
            "margin": null,
            "display": null,
            "left": null
          }
        },
        "8904ce77cb1e4a7b8024053eb2893d79": {
          "model_module": "@jupyter-widgets/controls",
          "model_name": "HBoxModel",
          "state": {
            "_view_name": "HBoxView",
            "_dom_classes": [],
            "_model_name": "HBoxModel",
            "_view_module": "@jupyter-widgets/controls",
            "_model_module_version": "1.5.0",
            "_view_count": null,
            "_view_module_version": "1.5.0",
            "box_style": "",
            "layout": "IPY_MODEL_4a4d30e8b4c74535b8b568ad6d55c4ff",
            "_model_module": "@jupyter-widgets/controls",
            "children": [
              "IPY_MODEL_cf7a74eec84a497191113229e5579a44",
              "IPY_MODEL_adf8337d1778417dad00bf72b378d769",
              "IPY_MODEL_e87412dcd68d49b597b319e86aba0e54"
            ]
          }
        },
        "4a4d30e8b4c74535b8b568ad6d55c4ff": {
          "model_module": "@jupyter-widgets/base",
          "model_name": "LayoutModel",
          "state": {
            "_view_name": "LayoutView",
            "grid_template_rows": null,
            "right": null,
            "justify_content": null,
            "_view_module": "@jupyter-widgets/base",
            "overflow": null,
            "_model_module_version": "1.2.0",
            "_view_count": null,
            "flex_flow": null,
            "width": null,
            "min_width": null,
            "border": null,
            "align_items": null,
            "bottom": null,
            "_model_module": "@jupyter-widgets/base",
            "top": null,
            "grid_column": null,
            "overflow_y": null,
            "overflow_x": null,
            "grid_auto_flow": null,
            "grid_area": null,
            "grid_template_columns": null,
            "flex": null,
            "_model_name": "LayoutModel",
            "justify_items": null,
            "grid_row": null,
            "max_height": null,
            "align_content": null,
            "visibility": null,
            "align_self": null,
            "height": null,
            "min_height": null,
            "padding": null,
            "grid_auto_rows": null,
            "grid_gap": null,
            "max_width": null,
            "order": null,
            "_view_module_version": "1.2.0",
            "grid_template_areas": null,
            "object_position": null,
            "object_fit": null,
            "grid_auto_columns": null,
            "margin": null,
            "display": null,
            "left": null
          }
        },
        "cf7a74eec84a497191113229e5579a44": {
          "model_module": "@jupyter-widgets/controls",
          "model_name": "HTMLModel",
          "state": {
            "_view_name": "HTMLView",
            "style": "IPY_MODEL_edac10a65b3947d8a4996d18d7e00997",
            "_dom_classes": [],
            "description": "",
            "_model_name": "HTMLModel",
            "placeholder": "​",
            "_view_module": "@jupyter-widgets/controls",
            "_model_module_version": "1.5.0",
            "value": "adding pts of interest for img: 100%",
            "_view_count": null,
            "_view_module_version": "1.5.0",
            "description_tooltip": null,
            "_model_module": "@jupyter-widgets/controls",
            "layout": "IPY_MODEL_03b350a24b044b28a29be4e1f0953cf1"
          }
        },
        "adf8337d1778417dad00bf72b378d769": {
          "model_module": "@jupyter-widgets/controls",
          "model_name": "FloatProgressModel",
          "state": {
            "_view_name": "ProgressView",
            "style": "IPY_MODEL_12604aa0e3694cd5ab318696a6a5239a",
            "_dom_classes": [],
            "description": "",
            "_model_name": "FloatProgressModel",
            "bar_style": "success",
            "max": 14,
            "_view_module": "@jupyter-widgets/controls",
            "_model_module_version": "1.5.0",
            "value": 14,
            "_view_count": null,
            "_view_module_version": "1.5.0",
            "orientation": "horizontal",
            "min": 0,
            "description_tooltip": null,
            "_model_module": "@jupyter-widgets/controls",
            "layout": "IPY_MODEL_10a7ef1624644e49b7865e1830d4ba39"
          }
        },
        "e87412dcd68d49b597b319e86aba0e54": {
          "model_module": "@jupyter-widgets/controls",
          "model_name": "HTMLModel",
          "state": {
            "_view_name": "HTMLView",
            "style": "IPY_MODEL_d515be55a13e4f049c1a76f338a6e4da",
            "_dom_classes": [],
            "description": "",
            "_model_name": "HTMLModel",
            "placeholder": "​",
            "_view_module": "@jupyter-widgets/controls",
            "_model_module_version": "1.5.0",
            "value": " 14/14 [00:07&lt;00:00,  1.68it/s]",
            "_view_count": null,
            "_view_module_version": "1.5.0",
            "description_tooltip": null,
            "_model_module": "@jupyter-widgets/controls",
            "layout": "IPY_MODEL_f375069daf6c42f39f224f45593d2bb9"
          }
        },
        "edac10a65b3947d8a4996d18d7e00997": {
          "model_module": "@jupyter-widgets/controls",
          "model_name": "DescriptionStyleModel",
          "state": {
            "_view_name": "StyleView",
            "_model_name": "DescriptionStyleModel",
            "description_width": "",
            "_view_module": "@jupyter-widgets/base",
            "_model_module_version": "1.5.0",
            "_view_count": null,
            "_view_module_version": "1.2.0",
            "_model_module": "@jupyter-widgets/controls"
          }
        },
        "03b350a24b044b28a29be4e1f0953cf1": {
          "model_module": "@jupyter-widgets/base",
          "model_name": "LayoutModel",
          "state": {
            "_view_name": "LayoutView",
            "grid_template_rows": null,
            "right": null,
            "justify_content": null,
            "_view_module": "@jupyter-widgets/base",
            "overflow": null,
            "_model_module_version": "1.2.0",
            "_view_count": null,
            "flex_flow": null,
            "width": null,
            "min_width": null,
            "border": null,
            "align_items": null,
            "bottom": null,
            "_model_module": "@jupyter-widgets/base",
            "top": null,
            "grid_column": null,
            "overflow_y": null,
            "overflow_x": null,
            "grid_auto_flow": null,
            "grid_area": null,
            "grid_template_columns": null,
            "flex": null,
            "_model_name": "LayoutModel",
            "justify_items": null,
            "grid_row": null,
            "max_height": null,
            "align_content": null,
            "visibility": null,
            "align_self": null,
            "height": null,
            "min_height": null,
            "padding": null,
            "grid_auto_rows": null,
            "grid_gap": null,
            "max_width": null,
            "order": null,
            "_view_module_version": "1.2.0",
            "grid_template_areas": null,
            "object_position": null,
            "object_fit": null,
            "grid_auto_columns": null,
            "margin": null,
            "display": null,
            "left": null
          }
        },
        "12604aa0e3694cd5ab318696a6a5239a": {
          "model_module": "@jupyter-widgets/controls",
          "model_name": "ProgressStyleModel",
          "state": {
            "_view_name": "StyleView",
            "_model_name": "ProgressStyleModel",
            "description_width": "",
            "_view_module": "@jupyter-widgets/base",
            "_model_module_version": "1.5.0",
            "_view_count": null,
            "_view_module_version": "1.2.0",
            "bar_color": null,
            "_model_module": "@jupyter-widgets/controls"
          }
        },
        "10a7ef1624644e49b7865e1830d4ba39": {
          "model_module": "@jupyter-widgets/base",
          "model_name": "LayoutModel",
          "state": {
            "_view_name": "LayoutView",
            "grid_template_rows": null,
            "right": null,
            "justify_content": null,
            "_view_module": "@jupyter-widgets/base",
            "overflow": null,
            "_model_module_version": "1.2.0",
            "_view_count": null,
            "flex_flow": null,
            "width": null,
            "min_width": null,
            "border": null,
            "align_items": null,
            "bottom": null,
            "_model_module": "@jupyter-widgets/base",
            "top": null,
            "grid_column": null,
            "overflow_y": null,
            "overflow_x": null,
            "grid_auto_flow": null,
            "grid_area": null,
            "grid_template_columns": null,
            "flex": null,
            "_model_name": "LayoutModel",
            "justify_items": null,
            "grid_row": null,
            "max_height": null,
            "align_content": null,
            "visibility": null,
            "align_self": null,
            "height": null,
            "min_height": null,
            "padding": null,
            "grid_auto_rows": null,
            "grid_gap": null,
            "max_width": null,
            "order": null,
            "_view_module_version": "1.2.0",
            "grid_template_areas": null,
            "object_position": null,
            "object_fit": null,
            "grid_auto_columns": null,
            "margin": null,
            "display": null,
            "left": null
          }
        },
        "d515be55a13e4f049c1a76f338a6e4da": {
          "model_module": "@jupyter-widgets/controls",
          "model_name": "DescriptionStyleModel",
          "state": {
            "_view_name": "StyleView",
            "_model_name": "DescriptionStyleModel",
            "description_width": "",
            "_view_module": "@jupyter-widgets/base",
            "_model_module_version": "1.5.0",
            "_view_count": null,
            "_view_module_version": "1.2.0",
            "_model_module": "@jupyter-widgets/controls"
          }
        },
        "f375069daf6c42f39f224f45593d2bb9": {
          "model_module": "@jupyter-widgets/base",
          "model_name": "LayoutModel",
          "state": {
            "_view_name": "LayoutView",
            "grid_template_rows": null,
            "right": null,
            "justify_content": null,
            "_view_module": "@jupyter-widgets/base",
            "overflow": null,
            "_model_module_version": "1.2.0",
            "_view_count": null,
            "flex_flow": null,
            "width": null,
            "min_width": null,
            "border": null,
            "align_items": null,
            "bottom": null,
            "_model_module": "@jupyter-widgets/base",
            "top": null,
            "grid_column": null,
            "overflow_y": null,
            "overflow_x": null,
            "grid_auto_flow": null,
            "grid_area": null,
            "grid_template_columns": null,
            "flex": null,
            "_model_name": "LayoutModel",
            "justify_items": null,
            "grid_row": null,
            "max_height": null,
            "align_content": null,
            "visibility": null,
            "align_self": null,
            "height": null,
            "min_height": null,
            "padding": null,
            "grid_auto_rows": null,
            "grid_gap": null,
            "max_width": null,
            "order": null,
            "_view_module_version": "1.2.0",
            "grid_template_areas": null,
            "object_position": null,
            "object_fit": null,
            "grid_auto_columns": null,
            "margin": null,
            "display": null,
            "left": null
          }
        },
        "5e4c1fd47f51418489b3e9a46f385e45": {
          "model_module": "@jupyter-widgets/controls",
          "model_name": "HBoxModel",
          "state": {
            "_view_name": "HBoxView",
            "_dom_classes": [],
            "_model_name": "HBoxModel",
            "_view_module": "@jupyter-widgets/controls",
            "_model_module_version": "1.5.0",
            "_view_count": null,
            "_view_module_version": "1.5.0",
            "box_style": "",
            "layout": "IPY_MODEL_6693d56febf14dd59d925c4e8a75238d",
            "_model_module": "@jupyter-widgets/controls",
            "children": [
              "IPY_MODEL_ca308f649e2740238585f8f861e853ae",
              "IPY_MODEL_0337691d8dc94e3e91c18d7ace384315",
              "IPY_MODEL_3c407d6f6bc04bdf83ae9af35a915a06"
            ]
          }
        },
        "6693d56febf14dd59d925c4e8a75238d": {
          "model_module": "@jupyter-widgets/base",
          "model_name": "LayoutModel",
          "state": {
            "_view_name": "LayoutView",
            "grid_template_rows": null,
            "right": null,
            "justify_content": null,
            "_view_module": "@jupyter-widgets/base",
            "overflow": null,
            "_model_module_version": "1.2.0",
            "_view_count": null,
            "flex_flow": null,
            "width": null,
            "min_width": null,
            "border": null,
            "align_items": null,
            "bottom": null,
            "_model_module": "@jupyter-widgets/base",
            "top": null,
            "grid_column": null,
            "overflow_y": null,
            "overflow_x": null,
            "grid_auto_flow": null,
            "grid_area": null,
            "grid_template_columns": null,
            "flex": null,
            "_model_name": "LayoutModel",
            "justify_items": null,
            "grid_row": null,
            "max_height": null,
            "align_content": null,
            "visibility": null,
            "align_self": null,
            "height": null,
            "min_height": null,
            "padding": null,
            "grid_auto_rows": null,
            "grid_gap": null,
            "max_width": null,
            "order": null,
            "_view_module_version": "1.2.0",
            "grid_template_areas": null,
            "object_position": null,
            "object_fit": null,
            "grid_auto_columns": null,
            "margin": null,
            "display": null,
            "left": null
          }
        },
        "ca308f649e2740238585f8f861e853ae": {
          "model_module": "@jupyter-widgets/controls",
          "model_name": "HTMLModel",
          "state": {
            "_view_name": "HTMLView",
            "style": "IPY_MODEL_c2fcb22a86b746968c4ccd63ae56aa4c",
            "_dom_classes": [],
            "description": "",
            "_model_name": "HTMLModel",
            "placeholder": "​",
            "_view_module": "@jupyter-widgets/controls",
            "_model_module_version": "1.5.0",
            "value": "adding pts of interest for img: 100%",
            "_view_count": null,
            "_view_module_version": "1.5.0",
            "description_tooltip": null,
            "_model_module": "@jupyter-widgets/controls",
            "layout": "IPY_MODEL_d7718abb6957436b81fceeebf9781670"
          }
        },
        "0337691d8dc94e3e91c18d7ace384315": {
          "model_module": "@jupyter-widgets/controls",
          "model_name": "FloatProgressModel",
          "state": {
            "_view_name": "ProgressView",
            "style": "IPY_MODEL_0db6c7d932c2429183db2700419a6aab",
            "_dom_classes": [],
            "description": "",
            "_model_name": "FloatProgressModel",
            "bar_style": "success",
            "max": 14,
            "_view_module": "@jupyter-widgets/controls",
            "_model_module_version": "1.5.0",
            "value": 14,
            "_view_count": null,
            "_view_module_version": "1.5.0",
            "orientation": "horizontal",
            "min": 0,
            "description_tooltip": null,
            "_model_module": "@jupyter-widgets/controls",
            "layout": "IPY_MODEL_33658d4d808245b295e09114ac7a2127"
          }
        },
        "3c407d6f6bc04bdf83ae9af35a915a06": {
          "model_module": "@jupyter-widgets/controls",
          "model_name": "HTMLModel",
          "state": {
            "_view_name": "HTMLView",
            "style": "IPY_MODEL_3a6f9ebfbf674856934ee62d9b0e1aa5",
            "_dom_classes": [],
            "description": "",
            "_model_name": "HTMLModel",
            "placeholder": "​",
            "_view_module": "@jupyter-widgets/controls",
            "_model_module_version": "1.5.0",
            "value": " 14/14 [00:07&lt;00:00,  1.69it/s]",
            "_view_count": null,
            "_view_module_version": "1.5.0",
            "description_tooltip": null,
            "_model_module": "@jupyter-widgets/controls",
            "layout": "IPY_MODEL_aca233a95779464485918289724a4329"
          }
        },
        "c2fcb22a86b746968c4ccd63ae56aa4c": {
          "model_module": "@jupyter-widgets/controls",
          "model_name": "DescriptionStyleModel",
          "state": {
            "_view_name": "StyleView",
            "_model_name": "DescriptionStyleModel",
            "description_width": "",
            "_view_module": "@jupyter-widgets/base",
            "_model_module_version": "1.5.0",
            "_view_count": null,
            "_view_module_version": "1.2.0",
            "_model_module": "@jupyter-widgets/controls"
          }
        },
        "d7718abb6957436b81fceeebf9781670": {
          "model_module": "@jupyter-widgets/base",
          "model_name": "LayoutModel",
          "state": {
            "_view_name": "LayoutView",
            "grid_template_rows": null,
            "right": null,
            "justify_content": null,
            "_view_module": "@jupyter-widgets/base",
            "overflow": null,
            "_model_module_version": "1.2.0",
            "_view_count": null,
            "flex_flow": null,
            "width": null,
            "min_width": null,
            "border": null,
            "align_items": null,
            "bottom": null,
            "_model_module": "@jupyter-widgets/base",
            "top": null,
            "grid_column": null,
            "overflow_y": null,
            "overflow_x": null,
            "grid_auto_flow": null,
            "grid_area": null,
            "grid_template_columns": null,
            "flex": null,
            "_model_name": "LayoutModel",
            "justify_items": null,
            "grid_row": null,
            "max_height": null,
            "align_content": null,
            "visibility": null,
            "align_self": null,
            "height": null,
            "min_height": null,
            "padding": null,
            "grid_auto_rows": null,
            "grid_gap": null,
            "max_width": null,
            "order": null,
            "_view_module_version": "1.2.0",
            "grid_template_areas": null,
            "object_position": null,
            "object_fit": null,
            "grid_auto_columns": null,
            "margin": null,
            "display": null,
            "left": null
          }
        },
        "0db6c7d932c2429183db2700419a6aab": {
          "model_module": "@jupyter-widgets/controls",
          "model_name": "ProgressStyleModel",
          "state": {
            "_view_name": "StyleView",
            "_model_name": "ProgressStyleModel",
            "description_width": "",
            "_view_module": "@jupyter-widgets/base",
            "_model_module_version": "1.5.0",
            "_view_count": null,
            "_view_module_version": "1.2.0",
            "bar_color": null,
            "_model_module": "@jupyter-widgets/controls"
          }
        },
        "33658d4d808245b295e09114ac7a2127": {
          "model_module": "@jupyter-widgets/base",
          "model_name": "LayoutModel",
          "state": {
            "_view_name": "LayoutView",
            "grid_template_rows": null,
            "right": null,
            "justify_content": null,
            "_view_module": "@jupyter-widgets/base",
            "overflow": null,
            "_model_module_version": "1.2.0",
            "_view_count": null,
            "flex_flow": null,
            "width": null,
            "min_width": null,
            "border": null,
            "align_items": null,
            "bottom": null,
            "_model_module": "@jupyter-widgets/base",
            "top": null,
            "grid_column": null,
            "overflow_y": null,
            "overflow_x": null,
            "grid_auto_flow": null,
            "grid_area": null,
            "grid_template_columns": null,
            "flex": null,
            "_model_name": "LayoutModel",
            "justify_items": null,
            "grid_row": null,
            "max_height": null,
            "align_content": null,
            "visibility": null,
            "align_self": null,
            "height": null,
            "min_height": null,
            "padding": null,
            "grid_auto_rows": null,
            "grid_gap": null,
            "max_width": null,
            "order": null,
            "_view_module_version": "1.2.0",
            "grid_template_areas": null,
            "object_position": null,
            "object_fit": null,
            "grid_auto_columns": null,
            "margin": null,
            "display": null,
            "left": null
          }
        },
        "3a6f9ebfbf674856934ee62d9b0e1aa5": {
          "model_module": "@jupyter-widgets/controls",
          "model_name": "DescriptionStyleModel",
          "state": {
            "_view_name": "StyleView",
            "_model_name": "DescriptionStyleModel",
            "description_width": "",
            "_view_module": "@jupyter-widgets/base",
            "_model_module_version": "1.5.0",
            "_view_count": null,
            "_view_module_version": "1.2.0",
            "_model_module": "@jupyter-widgets/controls"
          }
        },
        "aca233a95779464485918289724a4329": {
          "model_module": "@jupyter-widgets/base",
          "model_name": "LayoutModel",
          "state": {
            "_view_name": "LayoutView",
            "grid_template_rows": null,
            "right": null,
            "justify_content": null,
            "_view_module": "@jupyter-widgets/base",
            "overflow": null,
            "_model_module_version": "1.2.0",
            "_view_count": null,
            "flex_flow": null,
            "width": null,
            "min_width": null,
            "border": null,
            "align_items": null,
            "bottom": null,
            "_model_module": "@jupyter-widgets/base",
            "top": null,
            "grid_column": null,
            "overflow_y": null,
            "overflow_x": null,
            "grid_auto_flow": null,
            "grid_area": null,
            "grid_template_columns": null,
            "flex": null,
            "_model_name": "LayoutModel",
            "justify_items": null,
            "grid_row": null,
            "max_height": null,
            "align_content": null,
            "visibility": null,
            "align_self": null,
            "height": null,
            "min_height": null,
            "padding": null,
            "grid_auto_rows": null,
            "grid_gap": null,
            "max_width": null,
            "order": null,
            "_view_module_version": "1.2.0",
            "grid_template_areas": null,
            "object_position": null,
            "object_fit": null,
            "grid_auto_columns": null,
            "margin": null,
            "display": null,
            "left": null
          }
        },
        "6267537e9ff04a9982ffa041a53cbf16": {
          "model_module": "@jupyter-widgets/controls",
          "model_name": "HBoxModel",
          "state": {
            "_view_name": "HBoxView",
            "_dom_classes": [],
            "_model_name": "HBoxModel",
            "_view_module": "@jupyter-widgets/controls",
            "_model_module_version": "1.5.0",
            "_view_count": null,
            "_view_module_version": "1.5.0",
            "box_style": "",
            "layout": "IPY_MODEL_5c054210b28740819883ea777e833036",
            "_model_module": "@jupyter-widgets/controls",
            "children": [
              "IPY_MODEL_0a92efd0dbb8427194cda444e4467a83",
              "IPY_MODEL_d5260f7d02344f34a4d51e2f6bf19fec",
              "IPY_MODEL_2773c01879a94a34b435469da49ffd52"
            ]
          }
        },
        "5c054210b28740819883ea777e833036": {
          "model_module": "@jupyter-widgets/base",
          "model_name": "LayoutModel",
          "state": {
            "_view_name": "LayoutView",
            "grid_template_rows": null,
            "right": null,
            "justify_content": null,
            "_view_module": "@jupyter-widgets/base",
            "overflow": null,
            "_model_module_version": "1.2.0",
            "_view_count": null,
            "flex_flow": null,
            "width": null,
            "min_width": null,
            "border": null,
            "align_items": null,
            "bottom": null,
            "_model_module": "@jupyter-widgets/base",
            "top": null,
            "grid_column": null,
            "overflow_y": null,
            "overflow_x": null,
            "grid_auto_flow": null,
            "grid_area": null,
            "grid_template_columns": null,
            "flex": null,
            "_model_name": "LayoutModel",
            "justify_items": null,
            "grid_row": null,
            "max_height": null,
            "align_content": null,
            "visibility": null,
            "align_self": null,
            "height": null,
            "min_height": null,
            "padding": null,
            "grid_auto_rows": null,
            "grid_gap": null,
            "max_width": null,
            "order": null,
            "_view_module_version": "1.2.0",
            "grid_template_areas": null,
            "object_position": null,
            "object_fit": null,
            "grid_auto_columns": null,
            "margin": null,
            "display": null,
            "left": null
          }
        },
        "0a92efd0dbb8427194cda444e4467a83": {
          "model_module": "@jupyter-widgets/controls",
          "model_name": "HTMLModel",
          "state": {
            "_view_name": "HTMLView",
            "style": "IPY_MODEL_ded2cf799ff441ffa3a0deebb71598fe",
            "_dom_classes": [],
            "description": "",
            "_model_name": "HTMLModel",
            "placeholder": "​",
            "_view_module": "@jupyter-widgets/controls",
            "_model_module_version": "1.5.0",
            "value": "adding pts of interest for img: 100%",
            "_view_count": null,
            "_view_module_version": "1.5.0",
            "description_tooltip": null,
            "_model_module": "@jupyter-widgets/controls",
            "layout": "IPY_MODEL_6de3fda449d545558fcdcf4f58beb4f2"
          }
        },
        "d5260f7d02344f34a4d51e2f6bf19fec": {
          "model_module": "@jupyter-widgets/controls",
          "model_name": "FloatProgressModel",
          "state": {
            "_view_name": "ProgressView",
            "style": "IPY_MODEL_6a5c46ca034e4f9db75a0846c1c1f7ec",
            "_dom_classes": [],
            "description": "",
            "_model_name": "FloatProgressModel",
            "bar_style": "success",
            "max": 14,
            "_view_module": "@jupyter-widgets/controls",
            "_model_module_version": "1.5.0",
            "value": 14,
            "_view_count": null,
            "_view_module_version": "1.5.0",
            "orientation": "horizontal",
            "min": 0,
            "description_tooltip": null,
            "_model_module": "@jupyter-widgets/controls",
            "layout": "IPY_MODEL_c987dc4c5f76486db16c80734ff86238"
          }
        },
        "2773c01879a94a34b435469da49ffd52": {
          "model_module": "@jupyter-widgets/controls",
          "model_name": "HTMLModel",
          "state": {
            "_view_name": "HTMLView",
            "style": "IPY_MODEL_e12607d01ca845ec99f78706c8010e1d",
            "_dom_classes": [],
            "description": "",
            "_model_name": "HTMLModel",
            "placeholder": "​",
            "_view_module": "@jupyter-widgets/controls",
            "_model_module_version": "1.5.0",
            "value": " 14/14 [00:07&lt;00:00,  1.68it/s]",
            "_view_count": null,
            "_view_module_version": "1.5.0",
            "description_tooltip": null,
            "_model_module": "@jupyter-widgets/controls",
            "layout": "IPY_MODEL_0fa1ecf1471d43c1ab94f51fc40c539f"
          }
        },
        "ded2cf799ff441ffa3a0deebb71598fe": {
          "model_module": "@jupyter-widgets/controls",
          "model_name": "DescriptionStyleModel",
          "state": {
            "_view_name": "StyleView",
            "_model_name": "DescriptionStyleModel",
            "description_width": "",
            "_view_module": "@jupyter-widgets/base",
            "_model_module_version": "1.5.0",
            "_view_count": null,
            "_view_module_version": "1.2.0",
            "_model_module": "@jupyter-widgets/controls"
          }
        },
        "6de3fda449d545558fcdcf4f58beb4f2": {
          "model_module": "@jupyter-widgets/base",
          "model_name": "LayoutModel",
          "state": {
            "_view_name": "LayoutView",
            "grid_template_rows": null,
            "right": null,
            "justify_content": null,
            "_view_module": "@jupyter-widgets/base",
            "overflow": null,
            "_model_module_version": "1.2.0",
            "_view_count": null,
            "flex_flow": null,
            "width": null,
            "min_width": null,
            "border": null,
            "align_items": null,
            "bottom": null,
            "_model_module": "@jupyter-widgets/base",
            "top": null,
            "grid_column": null,
            "overflow_y": null,
            "overflow_x": null,
            "grid_auto_flow": null,
            "grid_area": null,
            "grid_template_columns": null,
            "flex": null,
            "_model_name": "LayoutModel",
            "justify_items": null,
            "grid_row": null,
            "max_height": null,
            "align_content": null,
            "visibility": null,
            "align_self": null,
            "height": null,
            "min_height": null,
            "padding": null,
            "grid_auto_rows": null,
            "grid_gap": null,
            "max_width": null,
            "order": null,
            "_view_module_version": "1.2.0",
            "grid_template_areas": null,
            "object_position": null,
            "object_fit": null,
            "grid_auto_columns": null,
            "margin": null,
            "display": null,
            "left": null
          }
        },
        "6a5c46ca034e4f9db75a0846c1c1f7ec": {
          "model_module": "@jupyter-widgets/controls",
          "model_name": "ProgressStyleModel",
          "state": {
            "_view_name": "StyleView",
            "_model_name": "ProgressStyleModel",
            "description_width": "",
            "_view_module": "@jupyter-widgets/base",
            "_model_module_version": "1.5.0",
            "_view_count": null,
            "_view_module_version": "1.2.0",
            "bar_color": null,
            "_model_module": "@jupyter-widgets/controls"
          }
        },
        "c987dc4c5f76486db16c80734ff86238": {
          "model_module": "@jupyter-widgets/base",
          "model_name": "LayoutModel",
          "state": {
            "_view_name": "LayoutView",
            "grid_template_rows": null,
            "right": null,
            "justify_content": null,
            "_view_module": "@jupyter-widgets/base",
            "overflow": null,
            "_model_module_version": "1.2.0",
            "_view_count": null,
            "flex_flow": null,
            "width": null,
            "min_width": null,
            "border": null,
            "align_items": null,
            "bottom": null,
            "_model_module": "@jupyter-widgets/base",
            "top": null,
            "grid_column": null,
            "overflow_y": null,
            "overflow_x": null,
            "grid_auto_flow": null,
            "grid_area": null,
            "grid_template_columns": null,
            "flex": null,
            "_model_name": "LayoutModel",
            "justify_items": null,
            "grid_row": null,
            "max_height": null,
            "align_content": null,
            "visibility": null,
            "align_self": null,
            "height": null,
            "min_height": null,
            "padding": null,
            "grid_auto_rows": null,
            "grid_gap": null,
            "max_width": null,
            "order": null,
            "_view_module_version": "1.2.0",
            "grid_template_areas": null,
            "object_position": null,
            "object_fit": null,
            "grid_auto_columns": null,
            "margin": null,
            "display": null,
            "left": null
          }
        },
        "e12607d01ca845ec99f78706c8010e1d": {
          "model_module": "@jupyter-widgets/controls",
          "model_name": "DescriptionStyleModel",
          "state": {
            "_view_name": "StyleView",
            "_model_name": "DescriptionStyleModel",
            "description_width": "",
            "_view_module": "@jupyter-widgets/base",
            "_model_module_version": "1.5.0",
            "_view_count": null,
            "_view_module_version": "1.2.0",
            "_model_module": "@jupyter-widgets/controls"
          }
        },
        "0fa1ecf1471d43c1ab94f51fc40c539f": {
          "model_module": "@jupyter-widgets/base",
          "model_name": "LayoutModel",
          "state": {
            "_view_name": "LayoutView",
            "grid_template_rows": null,
            "right": null,
            "justify_content": null,
            "_view_module": "@jupyter-widgets/base",
            "overflow": null,
            "_model_module_version": "1.2.0",
            "_view_count": null,
            "flex_flow": null,
            "width": null,
            "min_width": null,
            "border": null,
            "align_items": null,
            "bottom": null,
            "_model_module": "@jupyter-widgets/base",
            "top": null,
            "grid_column": null,
            "overflow_y": null,
            "overflow_x": null,
            "grid_auto_flow": null,
            "grid_area": null,
            "grid_template_columns": null,
            "flex": null,
            "_model_name": "LayoutModel",
            "justify_items": null,
            "grid_row": null,
            "max_height": null,
            "align_content": null,
            "visibility": null,
            "align_self": null,
            "height": null,
            "min_height": null,
            "padding": null,
            "grid_auto_rows": null,
            "grid_gap": null,
            "max_width": null,
            "order": null,
            "_view_module_version": "1.2.0",
            "grid_template_areas": null,
            "object_position": null,
            "object_fit": null,
            "grid_auto_columns": null,
            "margin": null,
            "display": null,
            "left": null
          }
        }
      }
    }
  },
  "cells": [
    {
      "cell_type": "markdown",
      "metadata": {
        "id": "view-in-github",
        "colab_type": "text"
      },
      "source": [
        "<a href=\"https://colab.research.google.com/github/JonathanLehner/cassini_2021_nature_discoverer/blob/main/sentinel2_processing/Drive_%2B_Convert_TIF_to_IMG.ipynb\" target=\"_parent\"><img src=\"https://colab.research.google.com/assets/colab-badge.svg\" alt=\"Open In Colab\"/></a>"
      ]
    },
    {
      "cell_type": "markdown",
      "metadata": {
        "id": "XjMTSgfoxRmp"
      },
      "source": [
        "# Download and Extract tif_images\n",
        "\n",
        "## original idea\n",
        "using this: https://pypi.org/project/geotiff/\n",
        "\n",
        "article [here](https://kipling.medium.com/using-a-geotiff-and-a-touch-of-python-to-make-topographic-images-1c1b0349551b)\n",
        "\n",
        "[more](https://kipling.medium.com/the-geotiff-python-package-bfa6765d7bd6?source=follow_footer---------0----------------------------) on the geotiff library\n",
        "\n",
        "## actual idea\n",
        "\n",
        "- uses rasterio\n"
      ]
    },
    {
      "cell_type": "markdown",
      "metadata": {
        "id": "336df3YjU1_U"
      },
      "source": [
        "## setup"
      ]
    },
    {
      "cell_type": "markdown",
      "metadata": {
        "id": "iHYJTHfTeACO"
      },
      "source": [
        "### User Inputs + Config\n",
        "\n",
        "```\n",
        "\n",
        "iml 2021 tutorial dropbox: https://www.dropbox.com/sh/23op1s2uvftz16f/AAC4XyzjZjuCu6iImBnx2f2pa?dl=1\n",
        "iml 2021 tutorial out: /content/drive/MyDrive/ethz_s2021/IML_2021/keyframes/2021_tutorials\n",
        "\n",
        "```"
      ]
    },
    {
      "cell_type": "code",
      "metadata": {
        "id": "FrM3MRqXeAKh"
      },
      "source": [
        "this_url = \"https://www.dropbox.com/sh/9sf0rizwk844g7x/AADA-DIdelKzPpYBE6uc0hUpa?dl=1\" #@param {type:\"string\"}\n",
        "download_files = False #@param {type:\"boolean\"}\n",
        "drive_save_folder = \"/content/drive/MyDrive/Programming/CASSINI_hackathon_workspace/sentinel-2 pngs/valais2020_rgb+pts\" #@param {type:\"string\"}\n",
        "# set url to tif_images folder. It doesn't have to point to dropbox, just to something\n",
        "# that will download a zip file of the tif_imagess\n",
        "\n"
      ],
      "execution_count": 1,
      "outputs": []
    },
    {
      "cell_type": "code",
      "metadata": {
        "id": "a_FhP3_6NapZ",
        "colab": {
          "base_uri": "https://localhost:8080/"
        },
        "outputId": "5d567b7b-c068-4cc6-8091-fd1edb3f400c"
      },
      "source": [
        "import os\n",
        "\n",
        "try:\n",
        "    print(\"the current directory is already: \", the_wd)\n",
        "except:\n",
        "    machine_dir = os.getcwd()\n",
        "    the_wd = os.path.join(machine_dir, \"tif_images_processing\")\n",
        "    os.mkdir(the_wd)\n",
        "    os.chdir(the_wd)\n",
        "\n",
        "    output_loc = os.path.join(machine_dir, \"converted_to_img\")\n",
        "    print(\"files will be stored on the local machine running at: \\n\", os.getcwd())"
      ],
      "execution_count": 2,
      "outputs": [
        {
          "output_type": "stream",
          "text": [
            "files will be stored on the local machine running at: \n",
            " /content/tif_images_processing\n"
          ],
          "name": "stdout"
        }
      ]
    },
    {
      "cell_type": "code",
      "metadata": {
        "id": "Zh2aqwtTNR8d",
        "colab": {
          "base_uri": "https://localhost:8080/"
        },
        "outputId": "af0ea041-d1d2-408e-e968-9d0667dc33e5"
      },
      "source": [
        "from google.colab import files\n",
        "from google.colab import drive\n",
        "drive.mount('/content/drive')\n",
        "# after you allow the authentication, you can work using the path \"/content/drive/My Drive\""
      ],
      "execution_count": 3,
      "outputs": [
        {
          "output_type": "stream",
          "text": [
            "Mounted at /content/drive\n"
          ],
          "name": "stdout"
        }
      ]
    },
    {
      "cell_type": "code",
      "metadata": {
        "id": "61lnyWEeNkGu",
        "colab": {
          "base_uri": "https://localhost:8080/"
        },
        "outputId": "27b16868-0247-4347-bf45-91de4ecc6022"
      },
      "source": [
        "# create drive folder if needed\n",
        "if not os.path.isdir(drive_save_folder):\n",
        "    os.mkdir(drive_save_folder)\n",
        "    print(\"created folder\")\n",
        "    # make a place to store outputs if one does not exist\n",
        "\n",
        "print(drive_save_folder)    "
      ],
      "execution_count": 4,
      "outputs": [
        {
          "output_type": "stream",
          "text": [
            "/content/drive/MyDrive/Programming/CASSINI_hackathon_workspace/sentinel-2 pngs/valais2020_rgb+pts\n"
          ],
          "name": "stdout"
        }
      ]
    },
    {
      "cell_type": "markdown",
      "metadata": {
        "id": "5d8o8O00eJUx"
      },
      "source": [
        "### install + import"
      ]
    },
    {
      "cell_type": "code",
      "metadata": {
        "id": "UsUff24DM9g9"
      },
      "source": [
        "import zipfile\n",
        "from datetime import datetime\n",
        "import os\n",
        "from os import listdir\n",
        "from os.path import isfile, join\n",
        "import pprint as pp\n",
        "from natsort import natsorted\n",
        "import pandas as pd\n",
        "import requests\n",
        "import string\n",
        "import re\n",
        "import time\n",
        "import distutils\n",
        "import distutils.core"
      ],
      "execution_count": 5,
      "outputs": []
    },
    {
      "cell_type": "code",
      "metadata": {
        "id": "mkHPIKFAU8sV"
      },
      "source": [
        "st = time.time()"
      ],
      "execution_count": 6,
      "outputs": []
    },
    {
      "cell_type": "markdown",
      "metadata": {
        "id": "eZVx9GuRinp3"
      },
      "source": [
        "### functions"
      ]
    },
    {
      "cell_type": "markdown",
      "metadata": {
        "id": "U4iUXhB4ivFP"
      },
      "source": [
        "#### generic"
      ]
    },
    {
      "cell_type": "code",
      "metadata": {
        "id": "h6WfdqHsispd"
      },
      "source": [
        "# formats all notebook cells to not look ugly\n",
        "\n",
        "from IPython.display import HTML, display\n",
        "def set_css():\n",
        "  display(HTML('''\n",
        "  <style>\n",
        "    pre {\n",
        "        white-space: pre-wrap;\n",
        "    }\n",
        "  </style>\n",
        "  '''))\n",
        "get_ipython().events.register('pre_run_cell', set_css)"
      ],
      "execution_count": 7,
      "outputs": []
    },
    {
      "cell_type": "code",
      "metadata": {
        "id": "ejje5FTKiomd",
        "colab": {
          "base_uri": "https://localhost:8080/",
          "height": 17
        },
        "outputId": "fb0ce619-aeea-4bea-d8a6-e5dd1a099d21"
      },
      "source": [
        "\n",
        "def fast_scandir(dirname):\n",
        "    # return all subfolders in a given filepath\n",
        "\n",
        "    subfolders = [f.path for f in os.scandir(dirname) if f.is_dir()]\n",
        "    for dirname in list(subfolders):\n",
        "        subfolders.extend(fast_scandir(dirname))\n",
        "    return subfolders # list"
      ],
      "execution_count": 8,
      "outputs": [
        {
          "output_type": "display_data",
          "data": {
            "text/html": [
              "\n",
              "  <style>\n",
              "    pre {\n",
              "        white-space: pre-wrap;\n",
              "    }\n",
              "  </style>\n",
              "  "
            ],
            "text/plain": [
              "<IPython.core.display.HTML object>"
            ]
          },
          "metadata": {
            "tags": []
          }
        }
      ]
    },
    {
      "cell_type": "markdown",
      "metadata": {
        "id": "xK6BqeNwOsLK"
      },
      "source": [
        "#### requests lib helpers"
      ]
    },
    {
      "cell_type": "code",
      "metadata": {
        "id": "Leqo_TDMOsXK",
        "colab": {
          "base_uri": "https://localhost:8080/",
          "height": 17
        },
        "outputId": "af5ebd03-5955-401c-8ad9-8c16bfab94a0"
      },
      "source": [
        "def URL_string_filter(text):\n",
        "    custom_printable = \"0123456789abcdefghijklmnopqrstuvwxyzABCDEFGHIJKLMNOPQRSTUVWXYZ._\"\n",
        "\n",
        "    filtered = ''.join((filter(lambda i: i in custom_printable, text)))\n",
        "\n",
        "    return filtered \n",
        "\n",
        "\n",
        "def getFilename_fromCd(cd):\n",
        "    #Get filename from content-disposition\n",
        "    custom_printable = \"0123456789abcdefghijklmnopqrstuvwxyzABCDEFGHIJKLMNOPQRSTUVWXYZ.\"\n",
        "\n",
        "    if not cd:\n",
        "        return None\n",
        "    fname = re.findall('filename=(.+)', cd)\n",
        "    # fname = re.findall('filename=', cd)\n",
        "    if len(fname) > 0:\n",
        "        output = fname[0]\n",
        "    elif cd.find('/'):\n",
        "        possible_fname = url.rsplit('/', 1)[1]\n",
        "        output = URL_string_filter(possible_fname)\n",
        "    else:\n",
        "        output = None\n",
        "    return output"
      ],
      "execution_count": 9,
      "outputs": [
        {
          "output_type": "display_data",
          "data": {
            "text/html": [
              "\n",
              "  <style>\n",
              "    pre {\n",
              "        white-space: pre-wrap;\n",
              "    }\n",
              "  </style>\n",
              "  "
            ],
            "text/plain": [
              "<IPython.core.display.HTML object>"
            ]
          },
          "metadata": {
            "tags": []
          }
        }
      ]
    },
    {
      "cell_type": "markdown",
      "metadata": {
        "id": "VtLo9yKFONuV"
      },
      "source": [
        "## download zip file from dropbox"
      ]
    },
    {
      "cell_type": "code",
      "metadata": {
        "id": "X83vhXRzOQpU",
        "colab": {
          "base_uri": "https://localhost:8080/",
          "height": 53
        },
        "outputId": "2caf34af-e093-4b48-da01-d814f30afd73"
      },
      "source": [
        "print(\"starting to download and save file \")\n",
        "\n",
        "r = requests.get(this_url, allow_redirects=True)\n",
        "names = getFilename_fromCd(r.headers.get('content-disposition'))\n",
        "fixed_fnames = names.split(\";\") # split the multiple results\n",
        "this_filename = URL_string_filter(fixed_fnames[0])\n",
        "this_filename = \"dropboxexport\" + this_filename\n",
        "\n",
        "save_loc = join(the_wd, this_filename)\n",
        "\n",
        "open(save_loc, 'wb').write(r.content)\n",
        "\n",
        "print(\"saved zip file - \", datetime.now())"
      ],
      "execution_count": 10,
      "outputs": [
        {
          "output_type": "display_data",
          "data": {
            "text/html": [
              "\n",
              "  <style>\n",
              "    pre {\n",
              "        white-space: pre-wrap;\n",
              "    }\n",
              "  </style>\n",
              "  "
            ],
            "text/plain": [
              "<IPython.core.display.HTML object>"
            ]
          },
          "metadata": {
            "tags": []
          }
        },
        {
          "output_type": "stream",
          "text": [
            "starting to download and save file \n",
            "saved zip file -  2021-06-22 00:07:35.670564\n"
          ],
          "name": "stdout"
        }
      ]
    },
    {
      "cell_type": "markdown",
      "metadata": {
        "id": "gh8E_j5XPWcG"
      },
      "source": [
        "\n",
        "## extract \n",
        "\n",
        "put da zip in da folder"
      ]
    },
    {
      "cell_type": "code",
      "metadata": {
        "id": "3dtaC638O0OW",
        "colab": {
          "base_uri": "https://localhost:8080/",
          "height": 35
        },
        "outputId": "cef02a05-1982-489b-e9dc-6204222095f9"
      },
      "source": [
        "print_dir = False #@param {type:\"boolean\"}\n",
        "zf = zipfile.ZipFile(save_loc)\n",
        "if print_dir:\n",
        "    pp.pprint(zf.printdir(), indent=5, compact=True) # depending on any other subfolders, printout can be massive\n",
        "zf.extractall()\n",
        "\n",
        "print(\"extracted zip file - \", datetime.now())"
      ],
      "execution_count": 11,
      "outputs": [
        {
          "output_type": "display_data",
          "data": {
            "text/html": [
              "\n",
              "  <style>\n",
              "    pre {\n",
              "        white-space: pre-wrap;\n",
              "    }\n",
              "  </style>\n",
              "  "
            ],
            "text/plain": [
              "<IPython.core.display.HTML object>"
            ]
          },
          "metadata": {
            "tags": []
          }
        },
        {
          "output_type": "stream",
          "text": [
            "extracted zip file -  2021-06-22 00:09:48.648623\n"
          ],
          "name": "stdout"
        }
      ]
    },
    {
      "cell_type": "code",
      "metadata": {
        "id": "1lm3bkc0hnda",
        "colab": {
          "base_uri": "https://localhost:8080/",
          "height": 35
        },
        "outputId": "f3ee608f-3500-4694-decc-2a70bd634c00"
      },
      "source": [
        "# remove zip file once extracted\n",
        "# wrapped in try/except so script doesn't error out when multiple cells are re-run\n",
        "\n",
        "try:\n",
        "    os.remove(save_loc)\n",
        "    del save_loc\n",
        "    print(\"deleted origin zip file post extraction - \", datetime.now())\n",
        "except:\n",
        "    print(\"unable to delete original zipfile - check if exists\")\n"
      ],
      "execution_count": 12,
      "outputs": [
        {
          "output_type": "display_data",
          "data": {
            "text/html": [
              "\n",
              "  <style>\n",
              "    pre {\n",
              "        white-space: pre-wrap;\n",
              "    }\n",
              "  </style>\n",
              "  "
            ],
            "text/plain": [
              "<IPython.core.display.HTML object>"
            ]
          },
          "metadata": {
            "tags": []
          }
        },
        {
          "output_type": "stream",
          "text": [
            "deleted origin zip file post extraction -  2021-06-22 00:09:48.657449\n"
          ],
          "name": "stdout"
        }
      ]
    },
    {
      "cell_type": "markdown",
      "metadata": {
        "id": "UpV-zB0fiCzP"
      },
      "source": [
        "## print filepath summary"
      ]
    },
    {
      "cell_type": "code",
      "metadata": {
        "id": "BH3mKRhTiG5n",
        "colab": {
          "base_uri": "https://localhost:8080/",
          "height": 1000
        },
        "outputId": "66dc9447-8784-4180-9599-f55e94f71411"
      },
      "source": [
        "current_wd = os.getcwd()\n",
        "print(\"The current working directory is: \\n\", current_wd)\n",
        "print(\"\\nA list of all files in working directory is:\")\n",
        "local_files = natsorted([f for f in listdir(current_wd) if isfile(os.path.join(current_wd, f))])\n",
        "pp.pprint(local_files)\n",
        "\n",
        "print(\"\\nA list of all subfolders is:\")\n",
        "pp.pprint(fast_scandir(current_wd))\n",
        "\n",
        "print(\"\\n current server date & time: \", datetime.now())"
      ],
      "execution_count": 13,
      "outputs": [
        {
          "output_type": "display_data",
          "data": {
            "text/html": [
              "\n",
              "  <style>\n",
              "    pre {\n",
              "        white-space: pre-wrap;\n",
              "    }\n",
              "  </style>\n",
              "  "
            ],
            "text/plain": [
              "<IPython.core.display.HTML object>"
            ]
          },
          "metadata": {
            "tags": []
          }
        },
        {
          "output_type": "stream",
          "text": [
            "The current working directory is: \n",
            " /content/tif_images_processing\n",
            "\n",
            "A list of all files in working directory is:\n",
            "['vs_aoi_s2_l2a_10m_swiss_202001021029.tif',\n",
            " 'vs_aoi_s2_l2a_10m_swiss_202001031046.tif',\n",
            " 'vs_aoi_s2_l2a_10m_swiss_202001051039.tif',\n",
            " 'vs_aoi_s2_l2a_10m_swiss_202001071030.tif',\n",
            " 'vs_aoi_s2_l2a_10m_swiss_202001081048.tif',\n",
            " 'vs_aoi_s2_l2a_10m_swiss_202001121029.tif',\n",
            " 'vs_aoi_s2_l2a_10m_swiss_202001131047.tif',\n",
            " 'vs_aoi_s2_l2a_10m_swiss_202001151039.tif',\n",
            " 'vs_aoi_s2_l2a_10m_swiss_202001171028.tif',\n",
            " 'vs_aoi_s2_l2a_10m_swiss_202001181048.tif',\n",
            " 'vs_aoi_s2_l2a_10m_swiss_202001201037.tif',\n",
            " 'vs_aoi_s2_l2a_10m_swiss_202001221029.tif',\n",
            " 'vs_aoi_s2_l2a_10m_swiss_202001231053.tif',\n",
            " 'vs_aoi_s2_l2a_10m_swiss_202001251039.tif',\n",
            " 'vs_aoi_s2_l2a_10m_swiss_202001271026.tif',\n",
            " 'vs_aoi_s2_l2a_10m_swiss_202001281048.tif',\n",
            " 'vs_aoi_s2_l2a_10m_swiss_202001301037.tif',\n",
            " 'vs_aoi_s2_l2a_10m_swiss_202002011028.tif',\n",
            " 'vs_aoi_s2_l2a_10m_swiss_202002021045.tif',\n",
            " 'vs_aoi_s2_l2a_10m_swiss_202002041039.tif',\n",
            " 'vs_aoi_s2_l2a_10m_swiss_202002061027.tif',\n",
            " 'vs_aoi_s2_l2a_10m_swiss_202002071048.tif',\n",
            " 'vs_aoi_s2_l2a_10m_swiss_202002091037.tif',\n",
            " 'vs_aoi_s2_l2a_10m_swiss_202002111026.tif',\n",
            " 'vs_aoi_s2_l2a_10m_swiss_202002121052.tif',\n",
            " 'vs_aoi_s2_l2a_10m_swiss_202002141039.tif',\n",
            " 'vs_aoi_s2_l2a_10m_swiss_202002161025.tif',\n",
            " 'vs_aoi_s2_l2a_10m_swiss_202002171048.tif',\n",
            " 'vs_aoi_s2_l2a_10m_swiss_202002191034.tif',\n",
            " 'vs_aoi_s2_l2a_10m_swiss_202002211029.tif',\n",
            " 'vs_aoi_s2_l2a_10m_swiss_202002221048.tif',\n",
            " 'vs_aoi_s2_l2a_10m_swiss_202002241040.tif',\n",
            " 'vs_aoi_s2_l2a_10m_swiss_202002261030.tif',\n",
            " 'vs_aoi_s2_l2a_10m_swiss_202002271052.tif',\n",
            " 'vs_aoi_s2_l2a_10m_swiss_202002291033.tif',\n",
            " 'vs_aoi_s2_l2a_10m_swiss_202003021031.tif',\n",
            " 'vs_aoi_s2_l2a_10m_swiss_202003031050.tif',\n",
            " 'vs_aoi_s2_l2a_10m_swiss_202003051038.tif',\n",
            " 'vs_aoi_s2_l2a_10m_swiss_202003071023.tif',\n",
            " 'vs_aoi_s2_l2a_10m_swiss_202003081048.tif',\n",
            " 'vs_aoi_s2_l2a_10m_swiss_202003081048.tif.aux.xml',\n",
            " 'vs_aoi_s2_l2a_10m_swiss_202003101033.tif',\n",
            " 'vs_aoi_s2_l2a_10m_swiss_202003121026.tif',\n",
            " 'vs_aoi_s2_l2a_10m_swiss_202003131049.tif',\n",
            " 'vs_aoi_s2_l2a_10m_swiss_202003151034.tif',\n",
            " 'vs_aoi_s2_l2a_10m_swiss_202003171033.tif',\n",
            " 'vs_aoi_s2_l2a_10m_swiss_202003181044.tif',\n",
            " 'vs_aoi_s2_l2a_10m_swiss_202003201034.tif',\n",
            " 'vs_aoi_s2_l2a_10m_swiss_202003221033.tif',\n",
            " 'vs_aoi_s2_l2a_10m_swiss_202003231051.tif',\n",
            " 'vs_aoi_s2_l2a_10m_swiss_202003231051.tif.aux.xml',\n",
            " 'vs_aoi_s2_l2a_10m_swiss_202003251043.tif',\n",
            " 'vs_aoi_s2_l2a_10m_swiss_202003271024.tif',\n",
            " 'vs_aoi_s2_l2a_10m_swiss_202003281047.tif',\n",
            " 'vs_aoi_s2_l2a_10m_swiss_202003301032.tif',\n",
            " 'vs_aoi_s2_l2a_10m_swiss_202004011030.tif',\n",
            " 'vs_aoi_s2_l2a_10m_swiss_202004021045.tif',\n",
            " 'vs_aoi_s2_l2a_10m_swiss_202004041041.tif',\n",
            " 'vs_aoi_s2_l2a_10m_swiss_202004061033.tif',\n",
            " 'vs_aoi_s2_l2a_10m_swiss_202004071046.tif',\n",
            " 'vs_aoi_s2_l2a_10m_swiss_202004071046.tif.aux.xml',\n",
            " 'vs_aoi_s2_l2a_10m_swiss_202004091037.tif',\n",
            " 'vs_aoi_s2_l2a_10m_swiss_202004111030.tif',\n",
            " 'vs_aoi_s2_l2a_10m_swiss_202004121051.tif',\n",
            " 'vs_aoi_s2_l2a_10m_swiss_202004141043.tif',\n",
            " 'vs_aoi_s2_l2a_10m_swiss_202004161026.tif',\n",
            " 'vs_aoi_s2_l2a_10m_swiss_202004171047.tif',\n",
            " 'vs_aoi_s2_l2a_10m_swiss_202004171047.tif.aux.xml',\n",
            " 'vs_aoi_s2_l2a_10m_swiss_202004191041.tif',\n",
            " 'vs_aoi_s2_l2a_10m_swiss_202004211032.tif',\n",
            " 'vs_aoi_s2_l2a_10m_swiss_202004221054.tif',\n",
            " 'vs_aoi_s2_l2a_10m_swiss_202004241040.tif',\n",
            " 'vs_aoi_s2_l2a_10m_swiss_202004261030.tif',\n",
            " 'vs_aoi_s2_l2a_10m_swiss_202004271049.tif',\n",
            " 'vs_aoi_s2_l2a_10m_swiss_202004291036.tif',\n",
            " 'vs_aoi_s2_l2a_10m_swiss_202005011030.tif',\n",
            " 'vs_aoi_s2_l2a_10m_swiss_202005021051.tif',\n",
            " 'vs_aoi_s2_l2a_10m_swiss_202005041043.tif',\n",
            " 'vs_aoi_s2_l2a_10m_swiss_202005061026.tif',\n",
            " 'vs_aoi_s2_l2a_10m_swiss_202005071052.tif',\n",
            " 'vs_aoi_s2_l2a_10m_swiss_202005091040.tif',\n",
            " 'vs_aoi_s2_l2a_10m_swiss_202005111024.tif',\n",
            " 'vs_aoi_s2_l2a_10m_swiss_202005121047.tif',\n",
            " 'vs_aoi_s2_l2a_10m_swiss_202005141043.tif',\n",
            " 'vs_aoi_s2_l2a_10m_swiss_202005161027.tif',\n",
            " 'vs_aoi_s2_l2a_10m_swiss_202005171047.tif',\n",
            " 'vs_aoi_s2_l2a_10m_swiss_202005191039.tif',\n",
            " 'vs_aoi_s2_l2a_10m_swiss_202005211033.tif',\n",
            " 'vs_aoi_s2_l2a_10m_swiss_202005221042.tif',\n",
            " 'vs_aoi_s2_l2a_10m_swiss_202005241039.tif',\n",
            " 'vs_aoi_s2_l2a_10m_swiss_202005261033.tif',\n",
            " 'vs_aoi_s2_l2a_10m_swiss_202005271047.tif',\n",
            " 'vs_aoi_s2_l2a_10m_swiss_202005291037.tif',\n",
            " 'vs_aoi_s2_l2a_10m_swiss_202005311030.tif',\n",
            " 'vs_aoi_s2_l2a_10m_swiss_202006011050.tif',\n",
            " 'vs_aoi_s2_l2a_10m_swiss_202006031039.tif',\n",
            " 'vs_aoi_s2_l2a_10m_swiss_202006051022.tif',\n",
            " 'vs_aoi_s2_l2a_10m_swiss_202006061051.tif',\n",
            " 'vs_aoi_s2_l2a_10m_swiss_202006081040.tif',\n",
            " 'vs_aoi_s2_l2a_10m_swiss_202006101033.tif',\n",
            " 'vs_aoi_s2_l2a_10m_swiss_202006111053.tif',\n",
            " 'vs_aoi_s2_l2a_10m_swiss_202006131043.tif',\n",
            " 'vs_aoi_s2_l2a_10m_swiss_202006151025.tif',\n",
            " 'vs_aoi_s2_l2a_10m_swiss_202006161047.tif',\n",
            " 'vs_aoi_s2_l2a_10m_swiss_202006201032.tif',\n",
            " 'vs_aoi_s2_l2a_10m_swiss_202006211043.tif',\n",
            " 'vs_aoi_s2_l2a_10m_swiss_202006231040.tif',\n",
            " 'vs_aoi_s2_l2a_10m_swiss_202006251025.tif',\n",
            " 'vs_aoi_s2_l2a_10m_swiss_202006261049.tif',\n",
            " 'vs_aoi_s2_l2a_10m_swiss_202006281036.tif',\n",
            " 'vs_aoi_s2_l2a_10m_swiss_202006301030.tif',\n",
            " 'vs_aoi_s2_l2a_10m_swiss_202007011049.tif',\n",
            " 'vs_aoi_s2_l2a_10m_swiss_202007031043.tif',\n",
            " 'vs_aoi_s2_l2a_10m_swiss_202007051025.tif',\n",
            " 'vs_aoi_s2_l2a_10m_swiss_202007061051.tif',\n",
            " 'vs_aoi_s2_l2a_10m_swiss_202007081040.tif',\n",
            " 'vs_aoi_s2_l2a_10m_swiss_202007101024.tif',\n",
            " 'vs_aoi_s2_l2a_10m_swiss_202007111053.tif',\n",
            " 'vs_aoi_s2_l2a_10m_swiss_202007131043.tif',\n",
            " 'vs_aoi_s2_l2a_10m_swiss_202007151026.tif',\n",
            " 'vs_aoi_s2_l2a_10m_swiss_202007161047.tif',\n",
            " 'vs_aoi_s2_l2a_10m_swiss_202007181042.tif',\n",
            " 'vs_aoi_s2_l2a_10m_swiss_202007201032.tif',\n",
            " 'vs_aoi_s2_l2a_10m_swiss_202007211042.tif',\n",
            " 'vs_aoi_s2_l2a_10m_swiss_202007231039.tif',\n",
            " 'vs_aoi_s2_l2a_10m_swiss_202007251027.tif',\n",
            " 'vs_aoi_s2_l2a_10m_swiss_202007261047.tif',\n",
            " 'vs_aoi_s2_l2a_10m_swiss_202007281037.tif',\n",
            " 'vs_aoi_s2_l2a_10m_swiss_202007301028.tif',\n",
            " 'vs_aoi_s2_l2a_10m_swiss_202007311051.tif',\n",
            " 'vs_aoi_s2_l2a_10m_swiss_202008021034.tif',\n",
            " 'vs_aoi_s2_l2a_10m_swiss_202008041033.tif',\n",
            " 'vs_aoi_s2_l2a_10m_swiss_202008051044.tif',\n",
            " 'vs_aoi_s2_l2a_10m_swiss_202008071042.tif',\n",
            " 'vs_aoi_s2_l2a_10m_swiss_202008091025.tif',\n",
            " 'vs_aoi_s2_l2a_10m_swiss_202008101043.tif',\n",
            " 'vs_aoi_s2_l2a_10m_swiss_202008121043.tif',\n",
            " 'vs_aoi_s2_l2a_10m_swiss_202008141028.tif',\n",
            " 'vs_aoi_s2_l2a_10m_swiss_202008151044.tif',\n",
            " 'vs_aoi_s2_l2a_10m_swiss_202008171044.tif',\n",
            " 'vs_aoi_s2_l2a_10m_swiss_202008191032.tif',\n",
            " 'vs_aoi_s2_l2a_10m_swiss_202008201046.tif',\n",
            " 'vs_aoi_s2_l2a_10m_swiss_202008221034.tif',\n",
            " 'vs_aoi_s2_l2a_10m_swiss_202008241029.tif',\n",
            " 'vs_aoi_s2_l2a_10m_swiss_202008251050.tif',\n",
            " 'vs_aoi_s2_l2a_10m_swiss_202008271037.tif',\n",
            " 'vs_aoi_s2_l2a_10m_swiss_202008291029.tif',\n",
            " 'vs_aoi_s2_l2a_10m_swiss_202008301053.tif',\n",
            " 'vs_aoi_s2_l2a_10m_swiss_202009031024.tif',\n",
            " 'vs_aoi_s2_l2a_10m_swiss_202009041051.tif',\n",
            " 'vs_aoi_s2_l2a_10m_swiss_202009061039.tif',\n",
            " 'vs_aoi_s2_l2a_10m_swiss_202009081025.tif',\n",
            " 'vs_aoi_s2_l2a_10m_swiss_202009091049.tif',\n",
            " 'vs_aoi_s2_l2a_10m_swiss_202009111040.tif',\n",
            " 'vs_aoi_s2_l2a_10m_swiss_202009131027.tif',\n",
            " 'vs_aoi_s2_l2a_10m_swiss_202009141051.tif',\n",
            " 'vs_aoi_s2_l2a_10m_swiss_202009161038.tif',\n",
            " 'vs_aoi_s2_l2a_10m_swiss_202009181033.tif',\n",
            " 'vs_aoi_s2_l2a_10m_swiss_202009191046.tif',\n",
            " 'vs_aoi_s2_l2a_10m_swiss_202009211037.tif',\n",
            " 'vs_aoi_s2_l2a_10m_swiss_202009231026.tif',\n",
            " 'vs_aoi_s2_l2a_10m_swiss_202009241048.tif',\n",
            " 'vs_aoi_s2_l2a_10m_swiss_202009261040.tif',\n",
            " 'vs_aoi_s2_l2a_10m_swiss_202009281031.tif',\n",
            " 'vs_aoi_s2_l2a_10m_swiss_202009291045.tif',\n",
            " 'vs_aoi_s2_l2a_10m_swiss_202010011043.tif',\n",
            " 'vs_aoi_s2_l2a_10m_swiss_202010031028.tif',\n",
            " 'vs_aoi_s2_l2a_10m_swiss_202010041051.tif',\n",
            " 'vs_aoi_s2_l2a_10m_swiss_202010061038.tif',\n",
            " 'vs_aoi_s2_l2a_10m_swiss_202010081026.tif',\n",
            " 'vs_aoi_s2_l2a_10m_swiss_202010091051.tif',\n",
            " 'vs_aoi_s2_l2a_10m_swiss_202010111040.tif',\n",
            " 'vs_aoi_s2_l2a_10m_swiss_202010131034.tif',\n",
            " 'vs_aoi_s2_l2a_10m_swiss_202010141051.tif',\n",
            " 'vs_aoi_s2_l2a_10m_swiss_202010161042.tif',\n",
            " 'vs_aoi_s2_l2a_10m_swiss_202010181033.tif',\n",
            " 'vs_aoi_s2_l2a_10m_swiss_202010191047.tif',\n",
            " 'vs_aoi_s2_l2a_10m_swiss_202010211039.tif',\n",
            " 'vs_aoi_s2_l2a_10m_swiss_202010231031.tif',\n",
            " 'vs_aoi_s2_l2a_10m_swiss_202010241051.tif',\n",
            " 'vs_aoi_s2_l2a_10m_swiss_202010261042.tif',\n",
            " 'vs_aoi_s2_l2a_10m_swiss_202010291046.tif',\n",
            " 'vs_aoi_s2_l2a_10m_swiss_202010311035.tif',\n",
            " 'vs_aoi_s2_l2a_10m_swiss_202011021031.tif',\n",
            " 'vs_aoi_s2_l2a_10m_swiss_202011031051.tif',\n",
            " 'vs_aoi_s2_l2a_10m_swiss_202011051035.tif',\n",
            " 'vs_aoi_s2_l2a_10m_swiss_202011071030.tif',\n",
            " 'zh_aoi_s2_l2a_10m_swiss_201702191039.tif',\n",
            " 'zh_aoi_s2_l2a_10m_swiss_201703281024.tif',\n",
            " 'zh_aoi_s2_l2a_10m_swiss_201704171029.tif',\n",
            " 'zh_aoi_s2_l2a_10m_swiss_201705301034.tif',\n",
            " 'zh_aoi_s2_l2a_10m_swiss_201709091032.tif',\n",
            " 'zh_aoi_s2_l2a_10m_swiss_201801251040.tif',\n",
            " 'zh_aoi_s2_l2a_10m_swiss_201802041041.tif',\n",
            " 'zh_aoi_s2_l2a_10m_swiss_201802061026.tif',\n",
            " 'zh_aoi_s2_l2a_10m_swiss_201804121025.tif',\n",
            " 'zh_aoi_s2_l2a_10m_swiss_201804271026.tif',\n",
            " 'zh_aoi_s2_l2a_10m_swiss_201805221024.tif',\n",
            " 'zh_aoi_s2_l2a_10m_swiss_201806041041.tif',\n",
            " 'zh_aoi_s2_l2a_10m_swiss_201806061031.tif',\n",
            " 'zh_aoi_s2_l2a_10m_swiss_201806141034.tif',\n",
            " 'zh_aoi_s2_l2a_10m_swiss_201810021034.tif',\n",
            " 'zh_aoi_s2_l2a_10m_swiss_201811261041.tif',\n",
            " 'zh_aoi_s2_l2a_10m_swiss_201901271029.tif',\n",
            " 'zh_aoi_s2_l2a_10m_swiss_201904021026.tif',\n",
            " 'zh_aoi_s2_l2a_10m_swiss_201904301041.tif',\n",
            " 'zh_aoi_s2_l2a_10m_swiss_201905251039.tif',\n",
            " 'zh_aoi_s2_l2a_10m_swiss_201905271026.tif',\n",
            " 'zh_aoi_s2_l2a_10m_swiss_201906261033.tif',\n",
            " 'zh_aoi_s2_l2a_10m_swiss_201908131039.tif',\n",
            " 'zh_aoi_s2_l2a_10m_swiss_201909221034.tif',\n",
            " 'zh_aoi_s2_l2a_10m_swiss_201909271043.tif',\n",
            " 'zh_aoi_s2_l2a_10m_swiss_201910021042.tif',\n",
            " 'zh_aoi_s2_l2a_10m_swiss_201910241029.tif',\n",
            " 'zh_aoi_s2_l2a_10m_swiss_201911281028.tif',\n",
            " 'zh_aoi_s2_l2a_10m_swiss_202002041039.tif',\n",
            " 'zh_aoi_s2_l2a_10m_swiss_202003101033.tif',\n",
            " 'zh_aoi_s2_l2a_10m_swiss_202004261030.tif',\n",
            " 'zh_aoi_s2_l2a_10m_swiss_202005261033.tif',\n",
            " 'zh_aoi_s2_l2a_10m_swiss_202006101033.tif',\n",
            " 'zh_aoi_s2_l2a_10m_swiss_202006151025.tif',\n",
            " 'zh_aoi_s2_l2a_10m_swiss_202008291029.tif',\n",
            " 'zh_aoi_s2_l2a_10m_swiss_202009111040.tif',\n",
            " 'zh_aoi_s2_l2a_10m_swiss_202010111040.tif']\n",
            "\n",
            "A list of all subfolders is:\n",
            "['/content/tif_images_processing/georasteR_conversion',\n",
            " '/content/tif_images_processing/full_color_PNGs_geotiff2png',\n",
            " '/content/tif_images_processing/converted_to_image']\n",
            "\n",
            " current server date & time:  2021-06-22 00:09:48.731449\n"
          ],
          "name": "stdout"
        }
      ]
    },
    {
      "cell_type": "markdown",
      "metadata": {
        "id": "PAkPPp4Yzpqx"
      },
      "source": [
        "# TIF conversion with geotiff\n",
        "\n",
        "https://pypi.org/project/geotiff/"
      ]
    },
    {
      "cell_type": "markdown",
      "metadata": {
        "id": "-efwrM2Utn6z"
      },
      "source": [
        "## installs and imports \n",
        "\n",
        "- includes stuff for FPDF\n",
        "- [python FFMPEG lib](https://github.com/PyAV-Org/PyAV)\n",
        "\n"
      ]
    },
    {
      "cell_type": "code",
      "metadata": {
        "id": "KqHrY01QVDXG",
        "colab": {
          "base_uri": "https://localhost:8080/",
          "height": 17
        },
        "outputId": "7ddef55b-7f96-4c1f-a34f-ca9644698db4"
      },
      "source": [
        "%%capture\n",
        "!pip install -U katna\n",
        "!pip install -U ntpath\n",
        "!pip install -U tqdm\n",
        "!pip install -U texthero\n",
        "!pip install -U wordninja\n",
        "!pip install clean-text[gpl]\n",
        "!pip install -U fpdf2\n",
        "!pip install -U moviepy\n",
        "!pip install -U proglog\n",
        "!pip install -U av\n",
        "!pip install -U geotiff\n",
        "!pip install -U PIL\n",
        "!pip install -U pypng\n",
        "\n",
        "import math\n",
        "import os\n",
        "import pprint as pp\n",
        "import time\n",
        "from datetime import datetime\n",
        "from os import listdir\n",
        "from os.path import join, isfile\n",
        "\n",
        "from google.colab import data_table\n",
        "import wordninja\n",
        "from cleantext import clean\n",
        "from fpdf import FPDF\n",
        "from natsort import natsorted\n",
        "from tqdm.auto import tqdm\n",
        "import ntpath\n",
        "import av\n",
        "import png\n",
        "\n"
      ],
      "execution_count": 14,
      "outputs": [
        {
          "output_type": "display_data",
          "data": {
            "text/html": [
              "\n",
              "  <style>\n",
              "    pre {\n",
              "        white-space: pre-wrap;\n",
              "    }\n",
              "  </style>\n",
              "  "
            ],
            "text/plain": [
              "<IPython.core.display.HTML object>"
            ]
          },
          "metadata": {
            "tags": []
          }
        }
      ]
    },
    {
      "cell_type": "code",
      "metadata": {
        "id": "c2ZJ_VCj0LHf",
        "colab": {
          "base_uri": "https://localhost:8080/",
          "height": 17
        },
        "outputId": "04a07e3d-2bfc-4901-c07c-b856be46681d"
      },
      "source": [
        "%%capture\n",
        "!pip install sentinelsat\n",
        "!pip install rasterio\n",
        "!pip install folium\n",
        "!apt install gdal-bin python-gdal python3-gdal \n",
        "!apt install python3-rtree \n",
        "!pip install git+git://github.com/geopandas/geopandas.git\n",
        "!pip install descartes \n",
        "!pip install -U geotiff\n",
        "\n",
        "import folium\n",
        "import os\n",
        "import numpy as np\n",
        "\n",
        "from sentinelsat import SentinelAPI, read_geojson, geojson_to_wkt \n",
        "import geopandas as gpd\n",
        "import pandas as pd\n",
        "import numpy as np\n",
        "import matplotlib.pyplot as plt\n",
        "\n",
        "from shapely.geometry import MultiPolygon, Polygon\n",
        "import rasterio as rio\n",
        "from rasterio.plot import show\n",
        "import rasterio.mask\n",
        "import fiona"
      ],
      "execution_count": 15,
      "outputs": [
        {
          "output_type": "display_data",
          "data": {
            "text/html": [
              "\n",
              "  <style>\n",
              "    pre {\n",
              "        white-space: pre-wrap;\n",
              "    }\n",
              "  </style>\n",
              "  "
            ],
            "text/plain": [
              "<IPython.core.display.HTML object>"
            ]
          },
          "metadata": {
            "tags": []
          }
        }
      ]
    },
    {
      "cell_type": "markdown",
      "metadata": {
        "id": "piST56pGuC1F"
      },
      "source": [
        "## functions for conversion"
      ]
    },
    {
      "cell_type": "markdown",
      "metadata": {
        "id": "S3NcI1Z8uExc"
      },
      "source": [
        "### generic"
      ]
    },
    {
      "cell_type": "code",
      "metadata": {
        "id": "Zr4fXM31s72k",
        "colab": {
          "base_uri": "https://localhost:8080/",
          "height": 35
        },
        "outputId": "d6b40767-d37e-4b5b-c262-f8db220bc491"
      },
      "source": [
        "def cleantxt_wrap(ugly_text):\n",
        "    # a wrapper for clean text with options different than default\n",
        "\n",
        "    # https://pypi.org/project/clean-text/\n",
        "    cleaned_text = clean(ugly_text,\n",
        "                         fix_unicode=True,  # fix various unicode errors\n",
        "                         to_ascii=True,  # transliterate to closest ASCII representation\n",
        "                         lower=True,  # lowercase text\n",
        "                         no_line_breaks=True,  # fully strip line breaks as opposed to only normalizing them\n",
        "                         no_urls=True,  # replace all URLs with a special token\n",
        "                         no_emails=True,  # replace all email addresses with a special token\n",
        "                         no_phone_numbers=True,  # replace all phone numbers with a special token\n",
        "                         no_numbers=False,  # replace all numbers with a special token\n",
        "                         no_digits=False,  # replace all digits with a special token\n",
        "                         no_currency_symbols=True,  # replace all currency symbols with a special token\n",
        "                         no_punct=True,  # remove punctuations\n",
        "                         replace_with_punct=\"\",  # instead of removing punctuations you may replace them\n",
        "                         replace_with_url=\"<URL>\",\n",
        "                         replace_with_email=\"<EMAIL>\",\n",
        "                         replace_with_phone_number=\"<PHONE>\",\n",
        "                         replace_with_number=\"<NUM>\",\n",
        "                         replace_with_digit=\"0\",\n",
        "                         replace_with_currency_symbol=\"<CUR>\",\n",
        "                         lang=\"en\"  # set to 'de' for German special handling\n",
        "                         )\n",
        "\n",
        "    return cleaned_text\n",
        "\n",
        "\n",
        "def beautify_filename(filename, num_words=20, start_reverse=False,\n",
        "                      word_separator=\"_\"):\n",
        "    # takes a filename stored as text, removes extension, separates into X words ...\n",
        "    # and returns a nice filename with the words separateed by\n",
        "    # useful for when you are reading files, doing things to them, and making new files\n",
        "\n",
        "    filename = str(filename)\n",
        "    index_file_Ext = filename.rfind('.')\n",
        "    current_name = str(filename)[:index_file_Ext]  # get rid of extension\n",
        "    clean_name = cleantxt_wrap(current_name) # wrapper with custom defs\n",
        "    file_words = wordninja.split(clean_name)\n",
        "    # splits concatenated text into a list of words based on common word freq\n",
        "    if len(file_words) <= num_words:\n",
        "        num_words = len(file_words)\n",
        "\n",
        "    if start_reverse:\n",
        "        t_file_words = file_words[-num_words:]\n",
        "    else:\n",
        "        t_file_words = file_words[:num_words]\n",
        "\n",
        "    pretty_name = word_separator.join(t_file_words)  # see function argument\n",
        "\n",
        "    # NOTE IT DOES NOT RETURN THE EXTENSION\n",
        "    return pretty_name[: (len(pretty_name) - 1)]  # there is a space always at the end, so -1\n",
        "\n",
        "import shutil\n",
        "def move2completed(from_dir, filename, new_folder='completed', verbose=False):\n",
        "    \n",
        "    # this is the better version\n",
        "    old_filepath = join(from_dir, filename)\n",
        "\n",
        "    new_filedirectory = join(from_dir, new_folder)\n",
        "\n",
        "    if not os.path.isdir(new_filedirectory):\n",
        "        os.mkdir(new_filedirectory)\n",
        "        if verbose:\n",
        "            print(\"created new directory for files at: \\n\", new_filedirectory)\n",
        "\n",
        "    new_filepath = join(new_filedirectory, filename)\n",
        "\n",
        "    try:\n",
        "        shutil.move(old_filepath, new_filepath)\n",
        "        print(\"successfully moved the file {} to */completed.\".format(filename))\n",
        "    except:\n",
        "        increase_font()\n",
        "        print(\"ERROR! unable to move file to \\n{}. Please investigate\".format(new_filepath))\n",
        "\n",
        "print(\"generic fns loaded - \", datetime.now())"
      ],
      "execution_count": 16,
      "outputs": [
        {
          "output_type": "display_data",
          "data": {
            "text/html": [
              "\n",
              "  <style>\n",
              "    pre {\n",
              "        white-space: pre-wrap;\n",
              "    }\n",
              "  </style>\n",
              "  "
            ],
            "text/plain": [
              "<IPython.core.display.HTML object>"
            ]
          },
          "metadata": {
            "tags": []
          }
        },
        {
          "output_type": "stream",
          "text": [
            "generic fns loaded -  2021-06-22 00:11:35.329732\n"
          ],
          "name": "stdout"
        }
      ]
    },
    {
      "cell_type": "code",
      "metadata": {
        "id": "SqD_F_qIH819",
        "colab": {
          "base_uri": "https://localhost:8080/",
          "height": 17
        },
        "outputId": "a495730b-f6ed-4c13-aaa6-26974689dcd3"
      },
      "source": [
        "def extract_zip_URL(URL, folder_path):\n",
        "    print(\"\\n\\nstarting to download and save file \")\n",
        "\n",
        "    r = requests.get(URL, allow_redirects=True)\n",
        "    names = getFilename_fromCd(r.headers.get('content-disposition'))\n",
        "    fixed_fnames = names.split(\";\") # split the multiple results\n",
        "    this_filename = URL_string_filter(fixed_fnames[0])\n",
        "    this_filename = \"dropboxexport\" + this_filename\n",
        "\n",
        "    save_loc = join(folder_path, this_filename)\n",
        "\n",
        "    open(save_loc, 'wb').write(r.content)\n",
        "\n",
        "    print(\"saved zip file - \", datetime.now())\n",
        "\n",
        "    zf = zipfile.ZipFile(save_loc)\n",
        "    zf.extractall(path=folder_path)\n",
        "\n",
        "    print(\"extracted zip file - \", datetime.now())\n",
        "\n",
        "    try:\n",
        "        os.remove(save_loc)\n",
        "        del save_loc\n",
        "        print(\"deleted origin zip file post extraction - \", datetime.now())\n",
        "    except:\n",
        "        print(\"unable to delete original zipfile - check if exists\")\n",
        "\n",
        "    local_files = natsorted([f for f in listdir(folder_path) if isfile(os.path.join(folder_path, f))])\n",
        "    if len(local_files) < 10:\n",
        "        pp.pprint(local_files)\n",
        "    else:\n",
        "        print(\"there are {} files in folder: {}\".format(len(local_files), current_wd))\n",
        "\n",
        "    print(\"\\nA list of all subfolders is:\")\n",
        "    pp.pprint(fast_scandir(folder_path))\n",
        "\n",
        "\n"
      ],
      "execution_count": 17,
      "outputs": [
        {
          "output_type": "display_data",
          "data": {
            "text/html": [
              "\n",
              "  <style>\n",
              "    pre {\n",
              "        white-space: pre-wrap;\n",
              "    }\n",
              "  </style>\n",
              "  "
            ],
            "text/plain": [
              "<IPython.core.display.HTML object>"
            ]
          },
          "metadata": {
            "tags": []
          }
        }
      ]
    },
    {
      "cell_type": "markdown",
      "metadata": {
        "id": "xA2wJMR10PhI"
      },
      "source": [
        "### load TIF images"
      ]
    },
    {
      "cell_type": "code",
      "metadata": {
        "id": "imtDY4jF0SnB",
        "colab": {
          "base_uri": "https://localhost:8080/",
          "height": 17
        },
        "outputId": "dcffc6f0-4c96-4725-e5be-a9f908d3fecd"
      },
      "source": [
        "from pathlib import Path\n",
        "\n",
        "def load_landsat_image_dir(img_folder, bands):\n",
        "    # ONLY USEFUL IF BANDS ARE IN DIFFERENT FILE. i.e. queried sentinel-2 data\n",
        "    image = {}\n",
        "    path = Path(img_folder)\n",
        "    for band in bands:\n",
        "        # considering the landsat images end with *_SR_B#.TIF, we will use it to locate the correct file\n",
        "        file = next(path.glob(f'*_SR_{band}.tif'))\n",
        "        print(f'Opening file {file}')\n",
        "        ds = rasterio.open(file)\n",
        "        image.update({band: ds.read(1)})\n",
        "\n",
        "    return image\n",
        "\n",
        "def load_landsat_image_single(imgpath):\n",
        "    # ONLY USEFUL IF BANDS ARE IN DIFFERENT FILE\n",
        "    image = {}\n",
        "    datboi  = rio.open(imgpath)\n",
        "    bands = datboi.indexes\n",
        "    for band in bands:\n",
        "        # considering the landsat images end with *_SR_B#.TIF, we will use it to locate the correct file\n",
        "        this_label = \"B\" + str(band)\n",
        "        image.update({this_label: datboi.read(band)})\n",
        "\n",
        "    return image"
      ],
      "execution_count": 18,
      "outputs": [
        {
          "output_type": "display_data",
          "data": {
            "text/html": [
              "\n",
              "  <style>\n",
              "    pre {\n",
              "        white-space: pre-wrap;\n",
              "    }\n",
              "  </style>\n",
              "  "
            ],
            "text/plain": [
              "<IPython.core.display.HTML object>"
            ]
          },
          "metadata": {
            "tags": []
          }
        }
      ]
    },
    {
      "cell_type": "markdown",
      "metadata": {
        "id": "NVQzk1Jt_Q6x"
      },
      "source": [
        "### convert image tif -> png\n"
      ]
    },
    {
      "cell_type": "code",
      "metadata": {
        "id": "XTsJQD1b_SJD",
        "colab": {
          "base_uri": "https://localhost:8080/",
          "height": 17
        },
        "outputId": "c2d03fbb-9f75-42c2-c06d-4cf3b13f1bb3"
      },
      "source": [
        "from geotiff import GeoTiff\n",
        "from PIL import Image\n",
        "import numpy as np\n",
        "import os\n",
        "from os.path import join, isfile\n",
        "import png\n",
        "import matplotlib\n",
        "from google.colab import files\n",
        "\n",
        "# new and improved\n",
        "\n",
        "def convert_tif_to_png_v2(full_input_path, output_folder, download_pic=False):\n",
        "    img = load_landsat_image_single(full_input_path)\n",
        "    basename = beautify_filename(os.path.basename(full_input_path))\n",
        "\n",
        "\n",
        "    # stack the layers to create a cube\n",
        "    rgb = np.stack([img['B4'], img['B3'], img['B2']], axis=-1)\n",
        "\n",
        "    # normalize the values\n",
        "    rgb = rgb/rgb.max() * 2\n",
        "\n",
        "    # display the image with a slightly increased figure size\n",
        "    plt.figure(figsize=(10,10), tight_layout=True, clear=True)\n",
        "    plt.imshow(rgb, norm=matplotlib.colors.Normalize(), interpolation =\"lanczos\")\n",
        "\n",
        "    plt.title(os.path.basename(full_input_path))\n",
        "    outname = \"[conv to pretty image]\" + basename + \".png\"\n",
        "    plt.savefig(join(output_folder, outname), dpi=300, facecolor='w', edgecolor='w',\n",
        "            transparent=True, bbox_inches=\"tight\")\n",
        "    if download_pic:\n",
        "        files.download(join(output_folder, outname))\n",
        "\n",
        "    plt.close()\n"
      ],
      "execution_count": 19,
      "outputs": [
        {
          "output_type": "display_data",
          "data": {
            "text/html": [
              "\n",
              "  <style>\n",
              "    pre {\n",
              "        white-space: pre-wrap;\n",
              "    }\n",
              "  </style>\n",
              "  "
            ],
            "text/plain": [
              "<IPython.core.display.HTML object>"
            ]
          },
          "metadata": {
            "tags": []
          }
        }
      ]
    },
    {
      "cell_type": "markdown",
      "metadata": {
        "id": "sz4jbsH-v5dq"
      },
      "source": [
        "## load files etc"
      ]
    },
    {
      "cell_type": "code",
      "metadata": {
        "id": "RbnNduilvt5E",
        "colab": {
          "base_uri": "https://localhost:8080/",
          "height": 17
        },
        "outputId": "af396a76-19d4-48c0-bbd4-0ad3d873fd2d"
      },
      "source": [
        "tif_imagess_dir_path = current_wd"
      ],
      "execution_count": 20,
      "outputs": [
        {
          "output_type": "display_data",
          "data": {
            "text/html": [
              "\n",
              "  <style>\n",
              "    pre {\n",
              "        white-space: pre-wrap;\n",
              "    }\n",
              "  </style>\n",
              "  "
            ],
            "text/plain": [
              "<IPython.core.display.HTML object>"
            ]
          },
          "metadata": {
            "tags": []
          }
        }
      ]
    },
    {
      "cell_type": "code",
      "metadata": {
        "id": "z3KvY1knvsEy",
        "colab": {
          "base_uri": "https://localhost:8080/",
          "height": 266
        },
        "outputId": "56823a1e-5651-469c-9e3d-9a0771b8cc68"
      },
      "source": [
        "from natsort import natsorted\n",
        "# iterate through and grab files:\n",
        "\n",
        "files_to_munch = natsorted([f for f in listdir(tif_imagess_dir_path) if isfile(os.path.join(tif_imagess_dir_path, f))])\n",
        "total_files_1 = len(files_to_munch)\n",
        "removed_count_1 = 0\n",
        "approved_files = []\n",
        "# remove non-tif_images files\n",
        "for prefile in files_to_munch:\n",
        "    if prefile.endswith(\".tif\"):\n",
        "        approved_files.append(prefile)\n",
        "    else:\n",
        "        files_to_munch.remove(prefile)\n",
        "        removed_count_1 += 1\n",
        "\n",
        "print(\"out of {0:3d} file(s) originally in the folder, \".format(total_files_1),\n",
        "      \"{0:3d} non-tif_images files were removed\".format(removed_count_1))\n",
        "print('\\n {0:3d} tif_images file(s) in folder will be transcribed.'.format(len(approved_files)))\n",
        "\n",
        "# split_value = \"vs_aoi_s2_l2a_10m_swiss_201907221049.tif\"\n",
        "\n",
        "# split_point = approved_files.index(split_value)\n",
        "\n",
        "# approved_files = approved_files[(split_point+1):]\n",
        "\n",
        "if len(approved_files) >25:\n",
        "    pp.pprint(approved_files[:10]) \n",
        "    print(\"...\")\n",
        "else:\n",
        "    pp.pprint(approved_files)"
      ],
      "execution_count": 21,
      "outputs": [
        {
          "output_type": "display_data",
          "data": {
            "text/html": [
              "\n",
              "  <style>\n",
              "    pre {\n",
              "        white-space: pre-wrap;\n",
              "    }\n",
              "  </style>\n",
              "  "
            ],
            "text/plain": [
              "<IPython.core.display.HTML object>"
            ]
          },
          "metadata": {
            "tags": []
          }
        },
        {
          "output_type": "stream",
          "text": [
            "out of 224 file(s) originally in the folder,    4 non-tif_images files were removed\n",
            "\n",
            " 216 tif_images file(s) in folder will be transcribed.\n",
            "['vs_aoi_s2_l2a_10m_swiss_202001021029.tif',\n",
            " 'vs_aoi_s2_l2a_10m_swiss_202001031046.tif',\n",
            " 'vs_aoi_s2_l2a_10m_swiss_202001051039.tif',\n",
            " 'vs_aoi_s2_l2a_10m_swiss_202001071030.tif',\n",
            " 'vs_aoi_s2_l2a_10m_swiss_202001081048.tif',\n",
            " 'vs_aoi_s2_l2a_10m_swiss_202001121029.tif',\n",
            " 'vs_aoi_s2_l2a_10m_swiss_202001131047.tif',\n",
            " 'vs_aoi_s2_l2a_10m_swiss_202001151039.tif',\n",
            " 'vs_aoi_s2_l2a_10m_swiss_202001171028.tif',\n",
            " 'vs_aoi_s2_l2a_10m_swiss_202001181048.tif']\n",
            "...\n"
          ],
          "name": "stdout"
        }
      ]
    },
    {
      "cell_type": "markdown",
      "metadata": {
        "id": "LCrFt1MRIGvp"
      },
      "source": [
        "### shape files\n"
      ]
    },
    {
      "cell_type": "code",
      "metadata": {
        "id": "5UMotTuaIECh",
        "colab": {
          "base_uri": "https://localhost:8080/",
          "height": 444
        },
        "outputId": "803bb9d3-7c51-4972-ccc0-60ab26ac4f50"
      },
      "source": [
        "directory_shapes = join(the_wd, \"shape_files\")\n",
        "\n",
        "if not os.path.isdir(directory_shapes):\n",
        "    os.mkdir(directory_shapes)\n",
        "    print(\"created folder\")\n",
        "    # make a place to store outputs if one does not exist\n",
        "\n",
        "bouldering_shapes_URL = \"https://www.dropbox.com/sh/6woym4j24ex5zhz/AADzos2OU5XDpWlRVCycLRqca?dl=1\"\n",
        "points_of_interest_URL = \"https://www.dropbox.com/sh/5xorzb90x2dkyiw/AAANC3eiuWjolSeYoGowAV8na?dl=1\"\n",
        "\n",
        "extract_zip_URL(bouldering_shapes_URL, directory_shapes)\n",
        "extract_zip_URL(points_of_interest_URL, directory_shapes)"
      ],
      "execution_count": 22,
      "outputs": [
        {
          "output_type": "display_data",
          "data": {
            "text/html": [
              "\n",
              "  <style>\n",
              "    pre {\n",
              "        white-space: pre-wrap;\n",
              "    }\n",
              "  </style>\n",
              "  "
            ],
            "text/plain": [
              "<IPython.core.display.HTML object>"
            ]
          },
          "metadata": {
            "tags": []
          }
        },
        {
          "output_type": "stream",
          "text": [
            "created folder\n",
            "\n",
            "\n",
            "starting to download and save file \n",
            "saved zip file -  2021-06-22 00:11:36.546444\n",
            "extracted zip file -  2021-06-22 00:11:36.548329\n",
            "deleted origin zip file post extraction -  2021-06-22 00:11:36.548923\n",
            "['rock_climbing_valais_locs.dbf',\n",
            " 'rock_climbing_valais_locs.shp',\n",
            " 'rock_climbing_valais_locs.shx']\n",
            "\n",
            "A list of all subfolders is:\n",
            "[]\n",
            "\n",
            "\n",
            "starting to download and save file \n",
            "saved zip file -  2021-06-22 00:11:39.805131\n",
            "extracted zip file -  2021-06-22 00:11:40.003016\n",
            "deleted origin zip file post extraction -  2021-06-22 00:11:40.003694\n",
            "there are 26 files in folder: /content/tif_images_processing\n",
            "\n",
            "A list of all subfolders is:\n",
            "['/content/tif_images_processing/shape_files/CASSINI_key_01_shp',\n",
            " '/content/tif_images_processing/shape_files/valais_exp_1_query.txt']\n"
          ],
          "name": "stdout"
        }
      ]
    },
    {
      "cell_type": "code",
      "metadata": {
        "id": "9j1m3k6jJDDN",
        "colab": {
          "base_uri": "https://localhost:8080/",
          "height": 248
        },
        "outputId": "ba9acf4d-20b9-4fd7-9778-eaea9c221c78"
      },
      "source": [
        "approved_shp_files = []\n",
        "# r=root, d=directories, f = files\n",
        "for r, d, f in os.walk(directory_shapes):\n",
        "    for prefile in f:\n",
        "        if prefile.endswith(\".shp\") or prefile.endswith(\".shx\"):\n",
        "            fullpath = os.path.join(r, prefile)\n",
        "            approved_shp_files.append(fullpath)\n",
        "\n",
        "approved_shp_files = natsorted(approved_shp_files)\n",
        "\n",
        "if len(approved_shp_files) < 10:\n",
        "    pp.pprint(approved_shp_files)\n",
        "else:\n",
        "    pp.pprint(approved_shp_files[:10])\n",
        "    print(\"\\n\\n and many more\")\n"
      ],
      "execution_count": 23,
      "outputs": [
        {
          "output_type": "display_data",
          "data": {
            "text/html": [
              "\n",
              "  <style>\n",
              "    pre {\n",
              "        white-space: pre-wrap;\n",
              "    }\n",
              "  </style>\n",
              "  "
            ],
            "text/plain": [
              "<IPython.core.display.HTML object>"
            ]
          },
          "metadata": {
            "tags": []
          }
        },
        {
          "output_type": "stream",
          "text": [
            "['/content/tif_images_processing/shape_files/CASSINI_key_01_planet_osm_line_lines.shp',\n",
            " '/content/tif_images_processing/shape_files/CASSINI_key_01_planet_osm_line_lines.shx',\n",
            " '/content/tif_images_processing/shape_files/CASSINI_key_01_planet_osm_point_points.shp',\n",
            " '/content/tif_images_processing/shape_files/CASSINI_key_01_planet_osm_point_points.shx',\n",
            " '/content/tif_images_processing/shape_files/CASSINI_key_01_planet_osm_polygon_polygons.shp',\n",
            " '/content/tif_images_processing/shape_files/CASSINI_key_01_planet_osm_polygon_polygons.shx',\n",
            " '/content/tif_images_processing/shape_files/CASSINI_key_01_shp/CASSINI_key_01_planet_osm_line_lines.shp',\n",
            " '/content/tif_images_processing/shape_files/CASSINI_key_01_shp/CASSINI_key_01_planet_osm_line_lines.shx',\n",
            " '/content/tif_images_processing/shape_files/CASSINI_key_01_shp/CASSINI_key_01_planet_osm_point_points.shp',\n",
            " '/content/tif_images_processing/shape_files/CASSINI_key_01_shp/CASSINI_key_01_planet_osm_point_points.shx']\n",
            "\n",
            "\n",
            " and many more\n"
          ],
          "name": "stdout"
        }
      ]
    },
    {
      "cell_type": "code",
      "metadata": {
        "id": "XbtSsm8gJMjY",
        "colab": {
          "base_uri": "https://localhost:8080/",
          "height": 66,
          "referenced_widgets": [
            "e59a68ffc22f4353afad9eac84146c3c",
            "4ed6267a758943a3bc2baceb9807d60e",
            "94dac2005d5f4f7bbfe496497a7a5bd7",
            "b302aa68e65a4b049e0ccba21c6068cf",
            "603a9624ac7842ba8d1a5148e3dfa4d8",
            "5c6a4e55515a4242a5290f7c54d3c632",
            "f0d0260a8e83423dac85f472a0e93b88",
            "4293950ca5f348f69c4aeff64374ef88",
            "32769a48ad1848e5834e8a03b420a395",
            "920d89f923b14fb7befab93954061e8e",
            "c923fea0d4d44b49b907dd8cf0cd5b6b"
          ]
        },
        "outputId": "715d7343-dcb0-4cb6-95d9-cdee02bf0122"
      },
      "source": [
        "#construct master df\n",
        "df_storage = []\n",
        "verbose=False\n",
        "for shp_file in tqdm(approved_shp_files):\n",
        "\n",
        "    try:\n",
        "        this_PoI = gpd.read_file(join(directory_shapes,shp_file))\n",
        "\n",
        "        if verbose: print(\"this df contains {} rows\".format(len(this_PoI)))\n",
        "        colnames = list(this_PoI.columns)\n",
        "\n",
        "        if \"name\" not in colnames:\n",
        "            spot_rep = colnames.index(\"natural\")\n",
        "            colnames[spot_rep] = \"name\"\n",
        "            this_PoI.columns = colnames\n",
        "\n",
        "        \n",
        "        this_PoI = this_PoI[[\"osm_id\",\"name\", \"geometry\"]]\n",
        "        this_PoI = this_PoI[this_PoI[\"name\"] != \"forest\"]\n",
        "        this_PoI = this_PoI[this_PoI[\"name\"] != \"grassland\"]\n",
        "\n",
        "        df_storage.append(this_PoI)\n",
        "    except:\n",
        "        print(\"WARNING - excluding {} from the data as unable to read\".format(shp_file))\n",
        "\n",
        "\n",
        "len(df_storage)\n"
      ],
      "execution_count": 24,
      "outputs": [
        {
          "output_type": "display_data",
          "data": {
            "text/html": [
              "\n",
              "  <style>\n",
              "    pre {\n",
              "        white-space: pre-wrap;\n",
              "    }\n",
              "  </style>\n",
              "  "
            ],
            "text/plain": [
              "<IPython.core.display.HTML object>"
            ]
          },
          "metadata": {
            "tags": []
          }
        },
        {
          "output_type": "display_data",
          "data": {
            "application/vnd.jupyter.widget-view+json": {
              "model_id": "e59a68ffc22f4353afad9eac84146c3c",
              "version_minor": 0,
              "version_major": 2
            },
            "text/plain": [
              "  0%|          | 0/14 [00:00<?, ?it/s]"
            ]
          },
          "metadata": {
            "tags": []
          }
        },
        {
          "output_type": "execute_result",
          "data": {
            "text/plain": [
              "14"
            ]
          },
          "metadata": {
            "tags": []
          },
          "execution_count": 24
        }
      ]
    },
    {
      "cell_type": "markdown",
      "metadata": {
        "id": "pIObi1vOKTNp"
      },
      "source": [
        "### geotiff + PoI shapes -> .png\n"
      ]
    },
    {
      "cell_type": "code",
      "metadata": {
        "id": "ZlYgdeRdJutH",
        "colab": {
          "base_uri": "https://localhost:8080/",
          "height": 17
        },
        "outputId": "b67f782f-4af9-43f7-fd94-b657453d8d61"
      },
      "source": [
        "import geopandas\n",
        "import matplotlib.pyplot as plt\n",
        "import rasterio\n",
        "import rasterio.plot\n",
        "\n",
        "def TIF_renamer(text, front_text=\"[geotiff2png_conv]_\", outtype=\".png\"):\n",
        "\n",
        "    names = text.split(\".\")\n",
        "    \n",
        "    return front_text + str(names[0]) + outtype\n",
        "\n",
        "def rgbtiff_to_png(full_input_path, output_folder, shape_df_list,\n",
        "                                  download_pic=False, show_result=False):\n",
        "    \n",
        "    img = load_landsat_image_single(full_input_path)\n",
        "\n",
        "    # for ensuring we have the dimensions of the image\n",
        "    source = rasterio.open(full_input_path)\n",
        "    bounds = (source.bounds.left, source.bounds.right, \\\n",
        "            source.bounds.bottom, source.bounds.top)\n",
        "\n",
        "    # stack the layers to create a cube\n",
        "    rgb = np.stack([img['B4'], img['B3'], img['B2']], axis=-1)\n",
        "\n",
        "    # normalize the values\n",
        "    rgb = rgb/rgb.max() * 2\n",
        "    plt.close(\"all\")\n",
        "    # display the image with a slightly increased figure size\n",
        "    f = plt.figure(figsize=(10,10), tight_layout=True, clear=True)\n",
        "    ax = plt.axes()\n",
        "    fig_name = \"source geotiff = \" + os.path.basename(full_input_path)\n",
        "    for df in tqdm(shape_df_list, total=len(shape_df_list), \n",
        "                   desc=\"adding pts of interest for img\"):\n",
        "        this_df = df.copy()\n",
        "        this_df.plot(ax=ax, color=\"red\", markersize=2, linewidth=1,\n",
        "                zorder=10, alpha=0.6)\n",
        "    ax.imshow(rgb, norm=matplotlib.colors.Normalize(), extent=bounds,\n",
        "            interpolation =\"lanczos\", alpha=0.9, zorder=1)\n",
        "    plt.title(fig_name)\n",
        "    out_name = TIF_renamer(os.path.basename(full_input_path))\n",
        "    plt.savefig(join(output_folder, out_name), dpi=400, bbox_inches=\"tight\")\n",
        "    if download_full_graph:\n",
        "        print(\"Current working directory is: \", os.getcwd())\n",
        "        files.download(out_name)\n",
        "        print(\"download init - \", datetime.now())\n",
        "    if show_result: plt.show()\n"
      ],
      "execution_count": 25,
      "outputs": [
        {
          "output_type": "display_data",
          "data": {
            "text/html": [
              "\n",
              "  <style>\n",
              "    pre {\n",
              "        white-space: pre-wrap;\n",
              "    }\n",
              "  </style>\n",
              "  "
            ],
            "text/plain": [
              "<IPython.core.display.HTML object>"
            ]
          },
          "metadata": {
            "tags": []
          }
        }
      ]
    },
    {
      "cell_type": "markdown",
      "metadata": {
        "id": "nHOASgve0NuA"
      },
      "source": [
        "## CPU / GPU Info\n",
        "\n",
        "Sometimes katna can take *literally forever* so it is good to gauge resources"
      ]
    },
    {
      "cell_type": "code",
      "metadata": {
        "id": "mNIrqKdS0WQ2",
        "colab": {
          "base_uri": "https://localhost:8080/",
          "height": 53
        },
        "outputId": "74c709ad-e649-4ae9-99a0-f9a40733c07b"
      },
      "source": [
        "import psutil, multiprocessing, os\n",
        "ram_gb = psutil.virtual_memory().total / 1e9\n",
        "print(\"Assigned colab machine ram: {} GB\".format(round(ram_gb,2)))\n",
        "num_cores = os.cpu_count()\n",
        "# tif_images_conv_cores = int( (5/6) * num_cores)\n",
        "tif_images_conv_cores = int( 1 * num_cores)\n",
        "print(\"Assigned colab machine CPU number of cores: {}\".format(num_cores))"
      ],
      "execution_count": 26,
      "outputs": [
        {
          "output_type": "display_data",
          "data": {
            "text/html": [
              "\n",
              "  <style>\n",
              "    pre {\n",
              "        white-space: pre-wrap;\n",
              "    }\n",
              "  </style>\n",
              "  "
            ],
            "text/plain": [
              "<IPython.core.display.HTML object>"
            ]
          },
          "metadata": {
            "tags": []
          }
        },
        {
          "output_type": "stream",
          "text": [
            "Assigned colab machine ram: 37.85 GB\n",
            "Assigned colab machine CPU number of cores: 40\n"
          ],
          "name": "stdout"
        }
      ]
    },
    {
      "cell_type": "code",
      "metadata": {
        "id": "WNuT09jG0PZX",
        "colab": {
          "base_uri": "https://localhost:8080/",
          "height": 17
        },
        "outputId": "5d109d67-0f78-43e1-9693-4b7793383d0b"
      },
      "source": [
        "print_CPU_details = False #@param {type:\"boolean\"}\n",
        "if print_CPU_details:\n",
        "    print(\"Further CPU info:\\n\\n\")\n",
        "    !cat /proc/cpuinfo"
      ],
      "execution_count": 27,
      "outputs": [
        {
          "output_type": "display_data",
          "data": {
            "text/html": [
              "\n",
              "  <style>\n",
              "    pre {\n",
              "        white-space: pre-wrap;\n",
              "    }\n",
              "  </style>\n",
              "  "
            ],
            "text/plain": [
              "<IPython.core.display.HTML object>"
            ]
          },
          "metadata": {
            "tags": []
          }
        }
      ]
    },
    {
      "cell_type": "markdown",
      "metadata": {
        "id": "vXSDK--7XwG_"
      },
      "source": [
        "# main conversion loop"
      ]
    },
    {
      "cell_type": "code",
      "metadata": {
        "id": "_-Pz9h8u4Xi7",
        "colab": {
          "base_uri": "https://localhost:8080/",
          "height": 17
        },
        "outputId": "b3d6d561-d7d8-4852-fa13-467b4d83856f"
      },
      "source": [
        "output_folder_name = \"rgb_PNGs_geotiff2png\"\n",
        "if not os.path.isdir(join(the_wd, output_folder_name)):\n",
        "    os.mkdir(join(the_wd, output_folder_name))\n",
        "    # make a place to store outputs if one does not exist\n",
        "output_path_full = os.path.join(the_wd, output_folder_name)"
      ],
      "execution_count": 28,
      "outputs": [
        {
          "output_type": "display_data",
          "data": {
            "text/html": [
              "\n",
              "  <style>\n",
              "    pre {\n",
              "        white-space: pre-wrap;\n",
              "    }\n",
              "  </style>\n",
              "  "
            ],
            "text/plain": [
              "<IPython.core.display.HTML object>"
            ]
          },
          "metadata": {
            "tags": []
          }
        }
      ]
    },
    {
      "cell_type": "code",
      "metadata": {
        "id": "IMG0LbmQv6KB",
        "colab": {
          "base_uri": "https://localhost:8080/",
          "height": 713,
          "referenced_widgets": [
            "a1ceeca9f27849ef96feee7aa456eb38",
            "8bd2a840dbaa4998a20e4c05896d0a2d",
            "708391051cd34e19ba79574beb43ddc2",
            "a2a357a6fa9341cb9395cb35c14a82fa",
            "2ae60b5340e3481ca852407a50c8148e",
            "cadeaead9f87425bafbd3078ddaf472e",
            "b4c6c6ffffab4ec18d44eca9c73c0bf1",
            "884931900e4f42caad0d488f6735e0f2",
            "4224dfc4a2f34f60ba42a481ecde790c",
            "7d471e64be584d28beac8cdb435b0322",
            "7c61988f5c114e16a993414ddf286e79",
            "1c6414d5ab69420480fa0001de592a41",
            "5e0a10dc12074384961189b6903f22e1",
            "d083cef46d374385924b20fac28a6c97",
            "2bb4025dfdbf4dce9261975cab935f0d",
            "4c683d2ea8614fd89b184128dfc59457",
            "934a86975ec94d36841da4fcb5acf7f0",
            "b2055be3898b4848b490e9ee79490272",
            "a9285563eb6042588aaa6ce37c692ad8",
            "54fe8708df0e4ce7aeca30c15da93820",
            "aa018cdc72c64a93ac58ff8723d41729",
            "83c222a6d1ac4133ae729f0aa8f5a899",
            "251247735e83453bb6f7fb7544df8419",
            "e7ff02fcb2664796bac721c37e27e43b",
            "f8e86f9fe04e4badbf91df056ae5acd2",
            "8a91e35da7034dd6844a79ea94564ff1",
            "51fc8b8964ab4eecb49bb106f43f10b3",
            "9534b3a02f094bcfa9485ac013317045",
            "8dd47e9ab6b44232ba4aa99ff0552a10",
            "e7735d0c7ffa4f349910a1afe47a3d42",
            "87aeae53496b491ebf451f74462d1237",
            "b7e72ac5cfab43c9a547cc6e2366a31f",
            "13ab0c6f75db493ba6500770918ac218",
            "3fefeb6785b34faca8a04fc05fe224e9",
            "958bd13f128a4c58a18fc37a289d67ef",
            "1bb2779742604fadafafcf6c4588710f",
            "ebe4cbadf3d94e55bf54895a5fb68e03",
            "2173593f64d34ddcacee0aa78073a47b",
            "44e69fdc1d994abf9e6cc691cae908df",
            "a638f131b44f410894ad7edd92efc82a",
            "60f2d96fe0d04ddfbb3e4c5cf1979cec",
            "9443b4616b264347ba4aa64db8a98309",
            "ca92ef9f149540f5832a390646bb7ba6",
            "74abd979b0d8481a8bec61f84be7c9ff",
            "573854f843a8474d99cb4e3a88c49dc5",
            "8d9b2159597d4546a6c4da769cd52c5f",
            "819f3fbe6c3c451eaccc88510574001a",
            "cd704a633b6940a3923cc5107843539d",
            "37361bc87ce043f99232fef24b6f8c90",
            "28f605b0e82c4a7f8135d364cc806933",
            "df3e2c53037847a1aae60663afc46469",
            "9765f512f0154694a80666976285f1ee",
            "b115a722e7c24ffda14853cf8739380d",
            "804d3bed0e4d4233885b97baf87ec74c",
            "2ded77cf347a4ebc9f57e85726c4b5bc",
            "57a65da318f843e582586c859703f579",
            "9be2f7204ffb4cefb3f6b7e0457f148e",
            "3041798c36194295bd794a04bef83484",
            "ea7678cda0a3465786b5a88ec9c0fcf2",
            "396c549e206f4b11a430e021c4902fea",
            "86f27c85958a4a56939ac57f531b6d64",
            "1df19edd4d254b088ace02a278db4ab9",
            "103b463e1f3d4040af636324b7e60fb2",
            "0aeac72fb2a04316a7791dc8ce9bb8bc",
            "cea8e11f9dc840e1b04881d234c64482",
            "b27e79265e034310bb8659973b00128d",
            "8904ce77cb1e4a7b8024053eb2893d79",
            "4a4d30e8b4c74535b8b568ad6d55c4ff",
            "cf7a74eec84a497191113229e5579a44",
            "adf8337d1778417dad00bf72b378d769",
            "e87412dcd68d49b597b319e86aba0e54",
            "edac10a65b3947d8a4996d18d7e00997",
            "03b350a24b044b28a29be4e1f0953cf1",
            "12604aa0e3694cd5ab318696a6a5239a",
            "10a7ef1624644e49b7865e1830d4ba39",
            "d515be55a13e4f049c1a76f338a6e4da",
            "f375069daf6c42f39f224f45593d2bb9",
            "5e4c1fd47f51418489b3e9a46f385e45",
            "6693d56febf14dd59d925c4e8a75238d",
            "ca308f649e2740238585f8f861e853ae",
            "0337691d8dc94e3e91c18d7ace384315",
            "3c407d6f6bc04bdf83ae9af35a915a06",
            "c2fcb22a86b746968c4ccd63ae56aa4c",
            "d7718abb6957436b81fceeebf9781670",
            "0db6c7d932c2429183db2700419a6aab",
            "33658d4d808245b295e09114ac7a2127",
            "3a6f9ebfbf674856934ee62d9b0e1aa5",
            "aca233a95779464485918289724a4329",
            "6267537e9ff04a9982ffa041a53cbf16",
            "5c054210b28740819883ea777e833036",
            "0a92efd0dbb8427194cda444e4467a83",
            "d5260f7d02344f34a4d51e2f6bf19fec",
            "2773c01879a94a34b435469da49ffd52",
            "ded2cf799ff441ffa3a0deebb71598fe",
            "6de3fda449d545558fcdcf4f58beb4f2",
            "6a5c46ca034e4f9db75a0846c1c1f7ec",
            "c987dc4c5f76486db16c80734ff86238",
            "e12607d01ca845ec99f78706c8010e1d",
            "0fa1ecf1471d43c1ab94f51fc40c539f"
          ]
        },
        "outputId": "b501d969-35a4-4b7f-c4f1-a794cbe4eac5"
      },
      "source": [
        "import gc\n",
        "import distutils\n",
        "import distutils.core\n",
        "\n",
        "st = time.time()\n",
        "print(\"starting conversion loop - \", datetime.now())\n",
        "\n",
        "for tif_imagesfile in tqdm(approved_files, total=len(approved_files),\n",
        "                      desc=\"converting geotiffs\"):\n",
        "    \n",
        "    try:\n",
        "        rgbtiff_to_png(join(tif_imagess_dir_path, tif_imagesfile), output_path_full,\n",
        "                       shape_df_list=df_storage)\n",
        "    except:\n",
        "        print(\"warning, needed to skip file {}\".format(tif_imagesfile))\n",
        "        \n",
        "    move2completed(from_dir=tif_imagess_dir_path, filename=tif_imagesfile, verbose=False,\n",
        "                new_folder='already_gone_thru_conv')\n",
        "    gc.collect()\n",
        "\n",
        "    # save a copy of the current  outputs to drive\n",
        "    distutils.dir_util.copy_tree(output_path_full, drive_save_folder)\n",
        "    \n",
        "    \n",
        "print(\"conversion completed - \", datetime.now())"
      ],
      "execution_count": null,
      "outputs": [
        {
          "output_type": "display_data",
          "data": {
            "text/html": [
              "\n",
              "  <style>\n",
              "    pre {\n",
              "        white-space: pre-wrap;\n",
              "    }\n",
              "  </style>\n",
              "  "
            ],
            "text/plain": [
              "<IPython.core.display.HTML object>"
            ]
          },
          "metadata": {
            "tags": []
          }
        },
        {
          "output_type": "stream",
          "text": [
            "starting conversion loop -  2021-06-22 00:51:47.475768\n"
          ],
          "name": "stdout"
        },
        {
          "output_type": "display_data",
          "data": {
            "application/vnd.jupyter.widget-view+json": {
              "model_id": "a1ceeca9f27849ef96feee7aa456eb38",
              "version_minor": 0,
              "version_major": 2
            },
            "text/plain": [
              "converting geotiffs:   0%|          | 0/176 [00:00<?, ?it/s]"
            ]
          },
          "metadata": {
            "tags": []
          }
        },
        {
          "output_type": "display_data",
          "data": {
            "application/vnd.jupyter.widget-view+json": {
              "model_id": "1c6414d5ab69420480fa0001de592a41",
              "version_minor": 0,
              "version_major": 2
            },
            "text/plain": [
              "adding pts of interest for img:   0%|          | 0/14 [00:00<?, ?it/s]"
            ]
          },
          "metadata": {
            "tags": []
          }
        },
        {
          "output_type": "stream",
          "text": [
            "Clipping input data to the valid range for imshow with RGB data ([0..1] for floats or [0..255] for integers).\n"
          ],
          "name": "stderr"
        },
        {
          "output_type": "stream",
          "text": [
            "warning, needed to skip file vs_aoi_s2_l2a_10m_swiss_202003121026.tif\n",
            "successfully moved the file vs_aoi_s2_l2a_10m_swiss_202003121026.tif to */completed.\n"
          ],
          "name": "stdout"
        },
        {
          "output_type": "display_data",
          "data": {
            "application/vnd.jupyter.widget-view+json": {
              "model_id": "251247735e83453bb6f7fb7544df8419",
              "version_minor": 0,
              "version_major": 2
            },
            "text/plain": [
              "adding pts of interest for img:   0%|          | 0/14 [00:00<?, ?it/s]"
            ]
          },
          "metadata": {
            "tags": []
          }
        },
        {
          "output_type": "stream",
          "text": [
            "Clipping input data to the valid range for imshow with RGB data ([0..1] for floats or [0..255] for integers).\n"
          ],
          "name": "stderr"
        },
        {
          "output_type": "stream",
          "text": [
            "warning, needed to skip file vs_aoi_s2_l2a_10m_swiss_202003131049.tif\n",
            "successfully moved the file vs_aoi_s2_l2a_10m_swiss_202003131049.tif to */completed.\n"
          ],
          "name": "stdout"
        },
        {
          "output_type": "display_data",
          "data": {
            "application/vnd.jupyter.widget-view+json": {
              "model_id": "3fefeb6785b34faca8a04fc05fe224e9",
              "version_minor": 0,
              "version_major": 2
            },
            "text/plain": [
              "adding pts of interest for img:   0%|          | 0/14 [00:00<?, ?it/s]"
            ]
          },
          "metadata": {
            "tags": []
          }
        },
        {
          "output_type": "stream",
          "text": [
            "Clipping input data to the valid range for imshow with RGB data ([0..1] for floats or [0..255] for integers).\n"
          ],
          "name": "stderr"
        },
        {
          "output_type": "stream",
          "text": [
            "warning, needed to skip file vs_aoi_s2_l2a_10m_swiss_202003151034.tif\n",
            "successfully moved the file vs_aoi_s2_l2a_10m_swiss_202003151034.tif to */completed.\n"
          ],
          "name": "stdout"
        },
        {
          "output_type": "display_data",
          "data": {
            "application/vnd.jupyter.widget-view+json": {
              "model_id": "573854f843a8474d99cb4e3a88c49dc5",
              "version_minor": 0,
              "version_major": 2
            },
            "text/plain": [
              "adding pts of interest for img:   0%|          | 0/14 [00:00<?, ?it/s]"
            ]
          },
          "metadata": {
            "tags": []
          }
        },
        {
          "output_type": "stream",
          "text": [
            "Clipping input data to the valid range for imshow with RGB data ([0..1] for floats or [0..255] for integers).\n"
          ],
          "name": "stderr"
        },
        {
          "output_type": "stream",
          "text": [
            "warning, needed to skip file vs_aoi_s2_l2a_10m_swiss_202003171033.tif\n",
            "successfully moved the file vs_aoi_s2_l2a_10m_swiss_202003171033.tif to */completed.\n"
          ],
          "name": "stdout"
        },
        {
          "output_type": "display_data",
          "data": {
            "application/vnd.jupyter.widget-view+json": {
              "model_id": "57a65da318f843e582586c859703f579",
              "version_minor": 0,
              "version_major": 2
            },
            "text/plain": [
              "adding pts of interest for img:   0%|          | 0/14 [00:00<?, ?it/s]"
            ]
          },
          "metadata": {
            "tags": []
          }
        },
        {
          "output_type": "stream",
          "text": [
            "Clipping input data to the valid range for imshow with RGB data ([0..1] for floats or [0..255] for integers).\n"
          ],
          "name": "stderr"
        },
        {
          "output_type": "stream",
          "text": [
            "warning, needed to skip file vs_aoi_s2_l2a_10m_swiss_202003181044.tif\n",
            "successfully moved the file vs_aoi_s2_l2a_10m_swiss_202003181044.tif to */completed.\n"
          ],
          "name": "stdout"
        },
        {
          "output_type": "display_data",
          "data": {
            "application/vnd.jupyter.widget-view+json": {
              "model_id": "8904ce77cb1e4a7b8024053eb2893d79",
              "version_minor": 0,
              "version_major": 2
            },
            "text/plain": [
              "adding pts of interest for img:   0%|          | 0/14 [00:00<?, ?it/s]"
            ]
          },
          "metadata": {
            "tags": []
          }
        },
        {
          "output_type": "stream",
          "text": [
            "Clipping input data to the valid range for imshow with RGB data ([0..1] for floats or [0..255] for integers).\n"
          ],
          "name": "stderr"
        },
        {
          "output_type": "stream",
          "text": [
            "warning, needed to skip file vs_aoi_s2_l2a_10m_swiss_202003201034.tif\n",
            "successfully moved the file vs_aoi_s2_l2a_10m_swiss_202003201034.tif to */completed.\n"
          ],
          "name": "stdout"
        },
        {
          "output_type": "display_data",
          "data": {
            "application/vnd.jupyter.widget-view+json": {
              "model_id": "5e4c1fd47f51418489b3e9a46f385e45",
              "version_minor": 0,
              "version_major": 2
            },
            "text/plain": [
              "adding pts of interest for img:   0%|          | 0/14 [00:00<?, ?it/s]"
            ]
          },
          "metadata": {
            "tags": []
          }
        },
        {
          "output_type": "stream",
          "text": [
            "Clipping input data to the valid range for imshow with RGB data ([0..1] for floats or [0..255] for integers).\n"
          ],
          "name": "stderr"
        },
        {
          "output_type": "stream",
          "text": [
            "warning, needed to skip file vs_aoi_s2_l2a_10m_swiss_202003221033.tif\n",
            "successfully moved the file vs_aoi_s2_l2a_10m_swiss_202003221033.tif to */completed.\n"
          ],
          "name": "stdout"
        },
        {
          "output_type": "display_data",
          "data": {
            "application/vnd.jupyter.widget-view+json": {
              "model_id": "6267537e9ff04a9982ffa041a53cbf16",
              "version_minor": 0,
              "version_major": 2
            },
            "text/plain": [
              "adding pts of interest for img:   0%|          | 0/14 [00:00<?, ?it/s]"
            ]
          },
          "metadata": {
            "tags": []
          }
        },
        {
          "output_type": "stream",
          "text": [
            "Clipping input data to the valid range for imshow with RGB data ([0..1] for floats or [0..255] for integers).\n"
          ],
          "name": "stderr"
        }
      ]
    },
    {
      "cell_type": "markdown",
      "metadata": {
        "id": "uf2gU1emzL-T"
      },
      "source": [
        "Can [customize](https://katna.readthedocs.io/en/latest/how_to_guide.html#katna-custom-writers) how keyframes are extracted in the future\n"
      ]
    },
    {
      "cell_type": "code",
      "metadata": {
        "id": "n2vIsPK5wB1x"
      },
      "source": [
        "rt = (time.time() - st) / 60\n",
        "print(\"Total runtime was: \", format(round(rt, 2)))\n",
        "\n",
        "\n",
        "def get_raster_coords(rasterio_obj, verbose=False):\n",
        "    # Upper left pixel\n",
        "    row_min = 0\n",
        "    col_min = 0\n",
        "\n",
        "    # Lower right pixel.  Rows and columns are zero indexing.\n",
        "    row_max = rasterio_obj.height - 1\n",
        "    col_max = rasterio_obj.width - 1\n",
        "\n",
        "    # Transform coordinates with the dataset's affine transformation.\n",
        "    topleft = rasterio_obj.transform * (row_min, col_min)\n",
        "    botright = rasterio_obj.transform * (row_max, col_max)\n",
        "\n",
        "    if verbose:\n",
        "        print(\"Top left corner coordinates: {}\".format(topleft))\n",
        "        print(\"Bottom right corner coordinates: {}\".format(botright))\n",
        "\n",
        "    coordinates = {\n",
        "        \"topleft_x\":topleft[0],\n",
        "        \"topleft_y\":topleft[1],\n",
        "        \"bottomright_x\":botright[0],\n",
        "        \"bottomright_y\":botright[1],\n",
        "    }\n",
        "\n",
        "    return coordinates"
      ],
      "execution_count": null,
      "outputs": []
    },
    {
      "cell_type": "code",
      "metadata": {
        "id": "u6RJyYfAEN2W"
      },
      "source": [
        "# get all coordinates for source images\n",
        "import pandas as pd\n",
        "\n",
        "colnames = [\"source_file\", \"coord_topleft_x\", \"coord_topleft_y\", \n",
        "                        \"coord_botright_x\", \"coord_botright_y\", \"all_metadata\"]\n",
        "SI_coords_df = pd.DataFrame(columns=colnames)\n",
        "\n",
        "db_path = tif_imagess_dir_path\n",
        "db_files = natsorted([f for f in listdir(db_path) if isfile(os.path.join(db_path, f))])\n",
        "removed_count_1 = 0\n",
        "approved_files = []\n",
        "# remove non-tif_images files\n",
        "for prefile in db_files:\n",
        "    if prefile.endswith(\".tif\"):\n",
        "        approved_files.append(prefile)\n",
        "    else:\n",
        "        db_files.remove(prefile)\n",
        "        removed_count_1 += 1\n",
        "for source_tif_i in tqdm(approved_files, total=len(approved_files),\n",
        "                      desc=\"getting image coordinates\"):\n",
        "    this_row_ind = len(SI_coords_df)\n",
        "    try:\n",
        "        this_tile = rasterio.open(join(db_path, source_tif_i))\n",
        "        these_bounds = get_raster_coords(this_tile)\n",
        "        SI_coords_df.loc[this_row_ind, \"all_metadata\"] = this_tile.crs\n",
        "\n",
        "    except:\n",
        "        coordinates = {\n",
        "        \"topleft_x\":0,\n",
        "        \"topleft_y\":0,\n",
        "        \"bottomright_x\":0,\n",
        "        \"bottomright_y\":0,\n",
        "        }\n",
        "        SI_coords_df.loc[this_row_ind, \"all_metadata\"] = \"failed\"\n",
        "    \n",
        "    SI_coords_df.loc[this_row_ind, \"source_file\"] = source_tif_i\n",
        "    SI_coords_df.loc[this_row_ind, \"coord_topleft_x\"] = these_bounds[\"topleft_x\"]\n",
        "    SI_coords_df.loc[this_row_ind, \"coord_topleft_y\"] = these_bounds[\"topleft_y\"]\n",
        "    SI_coords_df.loc[this_row_ind, \"coord_botright_x\"] = these_bounds[\"bottomright_x\"]\n",
        "    SI_coords_df.loc[this_row_ind, \"coord_botright_y\"] = these_bounds[\"bottomright_y\"]\n",
        "\n",
        "base_fname = \"metadata_\" + os.path.basename(tif_imagess_dir_path)\n",
        "SI_coords_df.to_excel(join(drive_save_folder, base_fname + \".xlsx\"), \n",
        "                      index=False)\n",
        "files.download(join(drive_save_folder, base_fname + \".xlsx\"))\n",
        "\n",
        "SI_coords_df.head(10)\n",
        "\n",
        "SI_coords_df.nunique()\n"
      ],
      "execution_count": null,
      "outputs": []
    },
    {
      "cell_type": "markdown",
      "metadata": {
        "id": "TPtPW4jqPXjr"
      },
      "source": [
        "## download zip"
      ]
    },
    {
      "cell_type": "code",
      "metadata": {
        "id": "fZK9TDra5Jd2"
      },
      "source": [
        "create_zip = False #@param {type:\"boolean\"}\n"
      ],
      "execution_count": null,
      "outputs": []
    },
    {
      "cell_type": "code",
      "metadata": {
        "id": "a38ZXQy3PYWg"
      },
      "source": [
        "from zipfile import ZipFile\n",
        "import os\n",
        "from os.path import basename\n",
        "# create a ZipFile object\n",
        "\n",
        "zip_file_name = \"TIF_to_PNG_CONV_\" + datetime.now().strftime(\"%d%m%Y\") + \".zip\"\n",
        "\n",
        "zip_directory = output_path_full \n",
        "\n",
        "if download_files:\n",
        "    # resets if files are requested/\n",
        "    create_zip = True\n",
        "# ---------------------\n",
        "# use try and except to avoid jupyter notebook re-runs causing the zip to \n",
        "# grow far past originally intended # of files\n",
        "\n",
        "if create_zip:\n",
        "        \n",
        "    try:\n",
        "\n",
        "        contents = zipObj.namelist()\n",
        "        print(\"there is already an existing zipfile with the following: \\n\")\n",
        "        pp.pprint(contents)\n",
        "\n",
        "        download_again = str(input(\"Download the file again? (y/n, default n)-->\")).lower()\n",
        "\n",
        "        if download_again == 'y':\n",
        "            files.download(zip_file_name)\n",
        "    except:\n",
        "\n",
        "        print(\"no zip object exists yet, creating one\")\n",
        "\n",
        "        file_count = 0\n",
        "        with ZipFile(zip_file_name, 'w') as zipObj:\n",
        "            # Iterate over all the files in directory\n",
        "            for folderName, subfolders, filenames in os.walk(zip_directory):\n",
        "                for filename in filenames:\n",
        "                    #create complete filepath of file in directory\n",
        "                    filePath = os.path.join(folderName, filename)\n",
        "                    # Add file to zip\n",
        "                    zipObj.write(filePath, basename(filePath))\n",
        "                    file_count += 1\n",
        "\n",
        "        print(\"finished zipping {} files\", file_count)\n",
        "\n",
        "        \n",
        "        if download_files:\n",
        "            files.download(zip_file_name)\n",
        "            print(\"downloaded files - \", datetime.now())\n",
        "        else:\n",
        "            print(\"download_output_files is set to: \", download_files)\n"
      ],
      "execution_count": null,
      "outputs": []
    }
  ]
}