{
  "nbformat": 4,
  "nbformat_minor": 0,
  "metadata": {
    "kernelspec": {
      "display_name": "Python 3",
      "language": "python",
      "name": "python3"
    },
    "language_info": {
      "codemirror_mode": {
        "name": "ipython",
        "version": 3
      },
      "file_extension": ".py",
      "mimetype": "text/x-python",
      "name": "python",
      "nbconvert_exporter": "python",
      "pygments_lexer": "ipython3",
      "version": "3.7.0"
    },
    "colab": {
      "name": "Tutorial - A Simple Image Classifier on Satellite Images using Tensorflow.ipynb",
      "provenance": [],
      "include_colab_link": true
    }
  },
  "cells": [
    {
      "cell_type": "markdown",
      "metadata": {
        "id": "view-in-github",
        "colab_type": "text"
      },
      "source": [
        "<a href=\"https://colab.research.google.com/github/JonathanLehner/cassini_2021_nature_discoverer/blob/main/model_ideas/Tutorial_A_Simple_Image_Classifier_on_Satellite_Images_using_Tensorflow.ipynb\" target=\"_parent\"><img src=\"https://colab.research.google.com/assets/colab-badge.svg\" alt=\"Open In Colab\"/></a>"
      ]
    },
    {
      "cell_type": "markdown",
      "metadata": {
        "id": "phtnKGFHPG_Z"
      },
      "source": [
        "# A Simple Image Classifier on Satellite Images using Tensorflow\n",
        "\n",
        "- [link](https://medium.com/@ije_good/a-simple-image-classifier-on-satellite-imagery-using-tensorflow-3df5a328bf2) to the article\n",
        "\n",
        "1. lone this repository.\n",
        "2. Load your data. Make sure the data is contained in one folder and that its class/label is apparent from the image name in the following format: 0__xyz.jpg vs 1__xyz.jpg, where 0 denotes a negative example and 1 a positive one.\n",
        "3. From the cloned repository, run !python organize_idg.py -s {SOURCE_PATH}."
      ]
    },
    {
      "cell_type": "markdown",
      "metadata": {
        "id": "6GL3vAjyPF1F"
      },
      "source": [
        "## Import packages"
      ]
    },
    {
      "cell_type": "code",
      "metadata": {
        "id": "ja_FmgTOPF1G"
      },
      "source": [
        "from tensorflow.keras.preprocessing.image import ImageDataGenerator"
      ],
      "execution_count": null,
      "outputs": []
    },
    {
      "cell_type": "code",
      "metadata": {
        "id": "Xf62YLxtPF1G"
      },
      "source": [
        "!git clone https://github.com/ijeism/ImageDataGenerator_data_prep"
      ],
      "execution_count": null,
      "outputs": []
    },
    {
      "cell_type": "markdown",
      "metadata": {
        "id": "O-oCHkX4PF1H"
      },
      "source": [
        "## Load data"
      ]
    },
    {
      "cell_type": "code",
      "metadata": {
        "id": "4Gb5mYA3PF1H"
      },
      "source": [
        "\"\"\" \n",
        "Data for this example can be obtained from Kaggle. Make sure the data used is contained \n",
        "in one folder and that its class/label is apparent from the image name \n",
        "(i.e. 0__xyz.jpg vs 1__xyz.jpg, where O denotes a negative example and 1 a positive one).\n",
        "\"\"\" \n",
        "\n",
        "# os.environ['KAGGLE_USERNAME'] = \"XXX\" \n",
        "# os.environ['KAGGLE_KEY'] = \"XXX\" \n",
        "# !kaggle datasets download rhammell/ships-in-satellite-imagery -p /PATH/TO/SOURCE/IMAGES/FOLDER/ --unzip "
      ],
      "execution_count": null,
      "outputs": []
    },
    {
      "cell_type": "markdown",
      "metadata": {
        "id": "9MsE7PvkPF1I"
      },
      "source": [
        "## Define images source path"
      ]
    },
    {
      "cell_type": "code",
      "metadata": {
        "id": "jz5-Xm85PF1I"
      },
      "source": [
        "SOURCE_PATH = '/PATH/TO/SOURCE/IMAGES/FOLDER/'"
      ],
      "execution_count": null,
      "outputs": []
    },
    {
      "cell_type": "markdown",
      "metadata": {
        "id": "2OiNe8DSPF1J"
      },
      "source": [
        "## Structure data"
      ]
    },
    {
      "cell_type": "code",
      "metadata": {
        "id": "ZA82-HXiPF1J",
        "outputId": "7435668a-0513-499e-d6cc-c7311d1b973b"
      },
      "source": [
        "# from ImageDataGenerator_data_prep directory\n",
        "# %cd /PATH/TO/ImageDataGenerator_data_prep\n",
        "\n",
        "!python organize_idg.py \\\n",
        "-s {SOURCE_PATH} \\\n",
        "-p 0.8 # optional, default = 0.7"
      ],
      "execution_count": null,
      "outputs": [
        {
          "output_type": "stream",
          "text": [
            "There are 1000 Positives.\n",
            "There are 3000 Negatives.\n",
            "Populating Training and Test directories for \n",
            "There are 800 Training images\n",
            "There are 200 Test images\n",
            "Populating Training and Test directories for \n",
            "There are 2400 Training images\n",
            "There are 600 Test images\n"
          ],
          "name": "stdout"
        }
      ]
    },
    {
      "cell_type": "markdown",
      "metadata": {
        "id": "xYIZ1RWQPF1L"
      },
      "source": [
        "## Use ImageDataGenerator to create batches of tensor image data ready for training"
      ]
    },
    {
      "cell_type": "code",
      "metadata": {
        "id": "QtTREvRbPF1L",
        "outputId": "ba4cc2e3-2073-49de-b92f-718acadba355"
      },
      "source": [
        "\"\"\"\n",
        "Run this from the ImageDataGenerator_data_prep directory \n",
        "OR\n",
        "use absolute path for TRAINING_DIR and VALIDATION_DIR\n",
        "\"\"\"\n",
        "\n",
        "TRAINING_DIR = \"training\" # use absolute path if not running from repo\n",
        "\n",
        "train_datagen = ImageDataGenerator(rescale=1./255)\n",
        "train_generator = train_datagen.flow_from_directory(TRAINING_DIR,\n",
        "                                                    batch_size=100,\n",
        "                                                    class_mode='binary',\n",
        "                                                    target_size=(150, 150))\n",
        "\n",
        "\n",
        "TEST_DIR = \"testing\" # use absolute path if not running from repo\n",
        "\n",
        "test_datagen = ImageDataGenerator(rescale=1./255)\n",
        "test_generator = test_datagen.flow_from_directory(TEST_DIR,\n",
        "                                                              batch_size=100,\n",
        "                                                              class_mode='binary',\n",
        "                                                              target_size=(150, 150))"
      ],
      "execution_count": null,
      "outputs": [
        {
          "output_type": "stream",
          "text": [
            "Found 3200 images belonging to 2 classes.\n",
            "Found 800 images belonging to 2 classes.\n"
          ],
          "name": "stdout"
        }
      ]
    }
  ]
}